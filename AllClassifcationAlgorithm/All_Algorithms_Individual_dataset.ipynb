{
  "nbformat": 4,
  "nbformat_minor": 0,
  "metadata": {
    "colab": {
      "name": "All_Algorithms_Individual_dataset.ipynb",
      "provenance": [],
      "collapsed_sections": []
    },
    "kernelspec": {
      "name": "python3",
      "display_name": "Python 3"
    },
    "language_info": {
      "name": "python"
    }
  },
  "cells": [
    {
      "cell_type": "markdown",
      "metadata": {
        "id": "fe1kO_DM7wjP"
      },
      "source": [
        "#Dataset Description\n",
        "##Number of Classes : 4\n",
        "\n",
        "##class values - unacc, acc, good, vgood\n",
        "\n",
        "##Attributes\n",
        "\n",
        "###buying:   vhigh, high, med, low.\n",
        "###maint:    vhigh, high, med, low.\n",
        "###doors:    2, 3, 4, 5more.\n",
        "###persons:  2, 4, more.\n",
        "###lug_boot: small, med, big.\n",
        "###safety:   low, med, high.\n",
        "\n",
        "\n",
        "# Number of Instances: 1728\n",
        "# Class Distribution (number of instances per class\n",
        "   -----------------------------\n",
        "   ##unacc ---    1210  ---   (70.023 %) \n",
        "   \n",
        "   ##acc ---        384 ---     (22.222 %) \n",
        "   \n",
        "   ##good  ---      69  ---   ( 3.993 %) \n",
        "   \n",
        "   ##v-good   ---   65   ---  ( 3.762 %) "
      ]
    },
    {
      "cell_type": "code",
      "metadata": {
        "id": "LRCSmhsxFd7s"
      },
      "source": [
        "import numpy as np  #does mathematical operation\n",
        "import matplotlib.pyplot as plt #For plotting the graphs\n",
        "import pandas as pd #making the data frames and import the csv files\n",
        "#import the library for the testing and the training split.\n",
        "from sklearn.model_selection import train_test_split"
      ],
      "execution_count": null,
      "outputs": []
    },
    {
      "cell_type": "code",
      "metadata": {
        "id": "RIJziLz_Fu6l"
      },
      "source": [
        "from google.colab import drive #to import the google drive data"
      ],
      "execution_count": null,
      "outputs": []
    },
    {
      "cell_type": "code",
      "metadata": {
        "colab": {
          "base_uri": "https://localhost:8080/"
        },
        "id": "144RuiDjFwjJ",
        "outputId": "24a95ec2-0d44-4f20-a2d8-1d9951df45c5"
      },
      "source": [
        "drive.mount('/content/drive')   # to mount the drive data into the colab cloud and enter the activation code"
      ],
      "execution_count": null,
      "outputs": [
        {
          "output_type": "stream",
          "text": [
            "Drive already mounted at /content/drive; to attempt to forcibly remount, call drive.mount(\"/content/drive\", force_remount=True).\n"
          ],
          "name": "stdout"
        }
      ]
    },
    {
      "cell_type": "code",
      "metadata": {
        "colab": {
          "base_uri": "https://localhost:8080/"
        },
        "id": "hRSR6h6sFzbF",
        "outputId": "76ad2a59-ef27-4677-b459-28fa9d6d7dbb"
      },
      "source": [
        "cd /content/drive/\"My Drive/Colab Notebooks/all_algorithms\" "
      ],
      "execution_count": null,
      "outputs": [
        {
          "output_type": "stream",
          "text": [
            "/content/drive/My Drive/Colab Notebooks/all_algorithms\n"
          ],
          "name": "stdout"
        }
      ]
    },
    {
      "cell_type": "code",
      "metadata": {
        "id": "Kp8cC5YuGFeu"
      },
      "source": [
        "column = ['buying','maint','doors','persons','lug_boot','safety','CAR']\n",
        "dataset = pd.read_csv('car.csv',names=column)      #To read the CSV File       "
      ],
      "execution_count": null,
      "outputs": []
    },
    {
      "cell_type": "code",
      "metadata": {
        "colab": {
          "base_uri": "https://localhost:8080/",
          "height": 195
        },
        "id": "dUap4hE6GL8B",
        "outputId": "3a570fba-af8b-4293-bbd0-f41a28c25507"
      },
      "source": [
        "dataset.head()      #to Print the first 5 Values of the Dataset"
      ],
      "execution_count": null,
      "outputs": [
        {
          "output_type": "execute_result",
          "data": {
            "text/html": [
              "<div>\n",
              "<style scoped>\n",
              "    .dataframe tbody tr th:only-of-type {\n",
              "        vertical-align: middle;\n",
              "    }\n",
              "\n",
              "    .dataframe tbody tr th {\n",
              "        vertical-align: top;\n",
              "    }\n",
              "\n",
              "    .dataframe thead th {\n",
              "        text-align: right;\n",
              "    }\n",
              "</style>\n",
              "<table border=\"1\" class=\"dataframe\">\n",
              "  <thead>\n",
              "    <tr style=\"text-align: right;\">\n",
              "      <th></th>\n",
              "      <th>buying</th>\n",
              "      <th>maint</th>\n",
              "      <th>doors</th>\n",
              "      <th>persons</th>\n",
              "      <th>lug_boot</th>\n",
              "      <th>safety</th>\n",
              "      <th>CAR</th>\n",
              "    </tr>\n",
              "  </thead>\n",
              "  <tbody>\n",
              "    <tr>\n",
              "      <th>0</th>\n",
              "      <td>vhigh</td>\n",
              "      <td>vhigh</td>\n",
              "      <td>2</td>\n",
              "      <td>2</td>\n",
              "      <td>small</td>\n",
              "      <td>low</td>\n",
              "      <td>0</td>\n",
              "    </tr>\n",
              "    <tr>\n",
              "      <th>1</th>\n",
              "      <td>vhigh</td>\n",
              "      <td>vhigh</td>\n",
              "      <td>2</td>\n",
              "      <td>2</td>\n",
              "      <td>small</td>\n",
              "      <td>med</td>\n",
              "      <td>0</td>\n",
              "    </tr>\n",
              "    <tr>\n",
              "      <th>2</th>\n",
              "      <td>vhigh</td>\n",
              "      <td>vhigh</td>\n",
              "      <td>2</td>\n",
              "      <td>2</td>\n",
              "      <td>small</td>\n",
              "      <td>high</td>\n",
              "      <td>0</td>\n",
              "    </tr>\n",
              "    <tr>\n",
              "      <th>3</th>\n",
              "      <td>vhigh</td>\n",
              "      <td>vhigh</td>\n",
              "      <td>2</td>\n",
              "      <td>2</td>\n",
              "      <td>med</td>\n",
              "      <td>low</td>\n",
              "      <td>0</td>\n",
              "    </tr>\n",
              "    <tr>\n",
              "      <th>4</th>\n",
              "      <td>vhigh</td>\n",
              "      <td>vhigh</td>\n",
              "      <td>2</td>\n",
              "      <td>2</td>\n",
              "      <td>med</td>\n",
              "      <td>med</td>\n",
              "      <td>0</td>\n",
              "    </tr>\n",
              "  </tbody>\n",
              "</table>\n",
              "</div>"
            ],
            "text/plain": [
              "  buying  maint  doors  persons lug_boot safety  CAR\n",
              "0  vhigh  vhigh      2        2    small    low    0\n",
              "1  vhigh  vhigh      2        2    small    med    0\n",
              "2  vhigh  vhigh      2        2    small   high    0\n",
              "3  vhigh  vhigh      2        2      med    low    0\n",
              "4  vhigh  vhigh      2        2      med    med    0"
            ]
          },
          "metadata": {
            "tags": []
          },
          "execution_count": 58
        }
      ]
    },
    {
      "cell_type": "code",
      "metadata": {
        "id": "Rt5T11X8GM9i"
      },
      "source": [
        "#One hotEccoding to change categoriacal to numerical\n",
        "dataset_inp = pd.get_dummies(dataset)     #automatically takes the categorical feateres and convert to numerical with coloumns"
      ],
      "execution_count": null,
      "outputs": []
    },
    {
      "cell_type": "code",
      "metadata": {
        "colab": {
          "base_uri": "https://localhost:8080/",
          "height": 422
        },
        "id": "bgod6FY_Lqyj",
        "outputId": "7dc623ce-a641-4da6-a843-d9ba8654ee0b"
      },
      "source": [
        "dataset_inp"
      ],
      "execution_count": null,
      "outputs": [
        {
          "output_type": "execute_result",
          "data": {
            "text/html": [
              "<div>\n",
              "<style scoped>\n",
              "    .dataframe tbody tr th:only-of-type {\n",
              "        vertical-align: middle;\n",
              "    }\n",
              "\n",
              "    .dataframe tbody tr th {\n",
              "        vertical-align: top;\n",
              "    }\n",
              "\n",
              "    .dataframe thead th {\n",
              "        text-align: right;\n",
              "    }\n",
              "</style>\n",
              "<table border=\"1\" class=\"dataframe\">\n",
              "  <thead>\n",
              "    <tr style=\"text-align: right;\">\n",
              "      <th></th>\n",
              "      <th>doors</th>\n",
              "      <th>persons</th>\n",
              "      <th>CAR</th>\n",
              "      <th>buying_high</th>\n",
              "      <th>buying_low</th>\n",
              "      <th>buying_med</th>\n",
              "      <th>buying_vhigh</th>\n",
              "      <th>maint_high</th>\n",
              "      <th>maint_low</th>\n",
              "      <th>maint_med</th>\n",
              "      <th>maint_vhigh</th>\n",
              "      <th>lug_boot_big</th>\n",
              "      <th>lug_boot_med</th>\n",
              "      <th>lug_boot_small</th>\n",
              "      <th>safety_high</th>\n",
              "      <th>safety_low</th>\n",
              "      <th>safety_med</th>\n",
              "    </tr>\n",
              "  </thead>\n",
              "  <tbody>\n",
              "    <tr>\n",
              "      <th>0</th>\n",
              "      <td>2</td>\n",
              "      <td>2</td>\n",
              "      <td>0</td>\n",
              "      <td>0</td>\n",
              "      <td>0</td>\n",
              "      <td>0</td>\n",
              "      <td>1</td>\n",
              "      <td>0</td>\n",
              "      <td>0</td>\n",
              "      <td>0</td>\n",
              "      <td>1</td>\n",
              "      <td>0</td>\n",
              "      <td>0</td>\n",
              "      <td>1</td>\n",
              "      <td>0</td>\n",
              "      <td>1</td>\n",
              "      <td>0</td>\n",
              "    </tr>\n",
              "    <tr>\n",
              "      <th>1</th>\n",
              "      <td>2</td>\n",
              "      <td>2</td>\n",
              "      <td>0</td>\n",
              "      <td>0</td>\n",
              "      <td>0</td>\n",
              "      <td>0</td>\n",
              "      <td>1</td>\n",
              "      <td>0</td>\n",
              "      <td>0</td>\n",
              "      <td>0</td>\n",
              "      <td>1</td>\n",
              "      <td>0</td>\n",
              "      <td>0</td>\n",
              "      <td>1</td>\n",
              "      <td>0</td>\n",
              "      <td>0</td>\n",
              "      <td>1</td>\n",
              "    </tr>\n",
              "    <tr>\n",
              "      <th>2</th>\n",
              "      <td>2</td>\n",
              "      <td>2</td>\n",
              "      <td>0</td>\n",
              "      <td>0</td>\n",
              "      <td>0</td>\n",
              "      <td>0</td>\n",
              "      <td>1</td>\n",
              "      <td>0</td>\n",
              "      <td>0</td>\n",
              "      <td>0</td>\n",
              "      <td>1</td>\n",
              "      <td>0</td>\n",
              "      <td>0</td>\n",
              "      <td>1</td>\n",
              "      <td>1</td>\n",
              "      <td>0</td>\n",
              "      <td>0</td>\n",
              "    </tr>\n",
              "    <tr>\n",
              "      <th>3</th>\n",
              "      <td>2</td>\n",
              "      <td>2</td>\n",
              "      <td>0</td>\n",
              "      <td>0</td>\n",
              "      <td>0</td>\n",
              "      <td>0</td>\n",
              "      <td>1</td>\n",
              "      <td>0</td>\n",
              "      <td>0</td>\n",
              "      <td>0</td>\n",
              "      <td>1</td>\n",
              "      <td>0</td>\n",
              "      <td>1</td>\n",
              "      <td>0</td>\n",
              "      <td>0</td>\n",
              "      <td>1</td>\n",
              "      <td>0</td>\n",
              "    </tr>\n",
              "    <tr>\n",
              "      <th>4</th>\n",
              "      <td>2</td>\n",
              "      <td>2</td>\n",
              "      <td>0</td>\n",
              "      <td>0</td>\n",
              "      <td>0</td>\n",
              "      <td>0</td>\n",
              "      <td>1</td>\n",
              "      <td>0</td>\n",
              "      <td>0</td>\n",
              "      <td>0</td>\n",
              "      <td>1</td>\n",
              "      <td>0</td>\n",
              "      <td>1</td>\n",
              "      <td>0</td>\n",
              "      <td>0</td>\n",
              "      <td>0</td>\n",
              "      <td>1</td>\n",
              "    </tr>\n",
              "    <tr>\n",
              "      <th>...</th>\n",
              "      <td>...</td>\n",
              "      <td>...</td>\n",
              "      <td>...</td>\n",
              "      <td>...</td>\n",
              "      <td>...</td>\n",
              "      <td>...</td>\n",
              "      <td>...</td>\n",
              "      <td>...</td>\n",
              "      <td>...</td>\n",
              "      <td>...</td>\n",
              "      <td>...</td>\n",
              "      <td>...</td>\n",
              "      <td>...</td>\n",
              "      <td>...</td>\n",
              "      <td>...</td>\n",
              "      <td>...</td>\n",
              "      <td>...</td>\n",
              "    </tr>\n",
              "    <tr>\n",
              "      <th>1723</th>\n",
              "      <td>5</td>\n",
              "      <td>5</td>\n",
              "      <td>3</td>\n",
              "      <td>0</td>\n",
              "      <td>1</td>\n",
              "      <td>0</td>\n",
              "      <td>0</td>\n",
              "      <td>0</td>\n",
              "      <td>1</td>\n",
              "      <td>0</td>\n",
              "      <td>0</td>\n",
              "      <td>0</td>\n",
              "      <td>1</td>\n",
              "      <td>0</td>\n",
              "      <td>0</td>\n",
              "      <td>0</td>\n",
              "      <td>1</td>\n",
              "    </tr>\n",
              "    <tr>\n",
              "      <th>1724</th>\n",
              "      <td>5</td>\n",
              "      <td>5</td>\n",
              "      <td>2</td>\n",
              "      <td>0</td>\n",
              "      <td>1</td>\n",
              "      <td>0</td>\n",
              "      <td>0</td>\n",
              "      <td>0</td>\n",
              "      <td>1</td>\n",
              "      <td>0</td>\n",
              "      <td>0</td>\n",
              "      <td>0</td>\n",
              "      <td>1</td>\n",
              "      <td>0</td>\n",
              "      <td>1</td>\n",
              "      <td>0</td>\n",
              "      <td>0</td>\n",
              "    </tr>\n",
              "    <tr>\n",
              "      <th>1725</th>\n",
              "      <td>5</td>\n",
              "      <td>5</td>\n",
              "      <td>0</td>\n",
              "      <td>0</td>\n",
              "      <td>1</td>\n",
              "      <td>0</td>\n",
              "      <td>0</td>\n",
              "      <td>0</td>\n",
              "      <td>1</td>\n",
              "      <td>0</td>\n",
              "      <td>0</td>\n",
              "      <td>1</td>\n",
              "      <td>0</td>\n",
              "      <td>0</td>\n",
              "      <td>0</td>\n",
              "      <td>1</td>\n",
              "      <td>0</td>\n",
              "    </tr>\n",
              "    <tr>\n",
              "      <th>1726</th>\n",
              "      <td>5</td>\n",
              "      <td>5</td>\n",
              "      <td>3</td>\n",
              "      <td>0</td>\n",
              "      <td>1</td>\n",
              "      <td>0</td>\n",
              "      <td>0</td>\n",
              "      <td>0</td>\n",
              "      <td>1</td>\n",
              "      <td>0</td>\n",
              "      <td>0</td>\n",
              "      <td>1</td>\n",
              "      <td>0</td>\n",
              "      <td>0</td>\n",
              "      <td>0</td>\n",
              "      <td>0</td>\n",
              "      <td>1</td>\n",
              "    </tr>\n",
              "    <tr>\n",
              "      <th>1727</th>\n",
              "      <td>5</td>\n",
              "      <td>5</td>\n",
              "      <td>2</td>\n",
              "      <td>0</td>\n",
              "      <td>1</td>\n",
              "      <td>0</td>\n",
              "      <td>0</td>\n",
              "      <td>0</td>\n",
              "      <td>1</td>\n",
              "      <td>0</td>\n",
              "      <td>0</td>\n",
              "      <td>1</td>\n",
              "      <td>0</td>\n",
              "      <td>0</td>\n",
              "      <td>1</td>\n",
              "      <td>0</td>\n",
              "      <td>0</td>\n",
              "    </tr>\n",
              "  </tbody>\n",
              "</table>\n",
              "<p>1728 rows × 17 columns</p>\n",
              "</div>"
            ],
            "text/plain": [
              "      doors  persons  CAR  ...  safety_high  safety_low  safety_med\n",
              "0         2        2    0  ...            0           1           0\n",
              "1         2        2    0  ...            0           0           1\n",
              "2         2        2    0  ...            1           0           0\n",
              "3         2        2    0  ...            0           1           0\n",
              "4         2        2    0  ...            0           0           1\n",
              "...     ...      ...  ...  ...          ...         ...         ...\n",
              "1723      5        5    3  ...            0           0           1\n",
              "1724      5        5    2  ...            1           0           0\n",
              "1725      5        5    0  ...            0           1           0\n",
              "1726      5        5    3  ...            0           0           1\n",
              "1727      5        5    2  ...            1           0           0\n",
              "\n",
              "[1728 rows x 17 columns]"
            ]
          },
          "metadata": {
            "tags": []
          },
          "execution_count": 60
        }
      ]
    },
    {
      "cell_type": "code",
      "metadata": {
        "id": "2_gnGIY1Lr1y"
      },
      "source": [
        "output_label = np.array(dataset_inp['CAR'])"
      ],
      "execution_count": null,
      "outputs": []
    },
    {
      "cell_type": "code",
      "metadata": {
        "colab": {
          "base_uri": "https://localhost:8080/"
        },
        "id": "cqKeDb14QQks",
        "outputId": "6e3599ba-65a5-4044-9582-5bdf14528ea6"
      },
      "source": [
        "output_label"
      ],
      "execution_count": null,
      "outputs": [
        {
          "output_type": "execute_result",
          "data": {
            "text/plain": [
              "array([0, 0, 0, ..., 0, 3, 2])"
            ]
          },
          "metadata": {
            "tags": []
          },
          "execution_count": 62
        }
      ]
    },
    {
      "cell_type": "code",
      "metadata": {
        "id": "L0BoCGmCOA0y"
      },
      "source": [
        "dataset_X = dataset_inp.drop('CAR',axis=1)"
      ],
      "execution_count": null,
      "outputs": []
    },
    {
      "cell_type": "code",
      "metadata": {
        "colab": {
          "base_uri": "https://localhost:8080/",
          "height": 422
        },
        "id": "MqmqJ4L9OG2f",
        "outputId": "ffa598e2-655d-41be-e3d4-ba6af27d0c17"
      },
      "source": [
        "dataset_X"
      ],
      "execution_count": null,
      "outputs": [
        {
          "output_type": "execute_result",
          "data": {
            "text/html": [
              "<div>\n",
              "<style scoped>\n",
              "    .dataframe tbody tr th:only-of-type {\n",
              "        vertical-align: middle;\n",
              "    }\n",
              "\n",
              "    .dataframe tbody tr th {\n",
              "        vertical-align: top;\n",
              "    }\n",
              "\n",
              "    .dataframe thead th {\n",
              "        text-align: right;\n",
              "    }\n",
              "</style>\n",
              "<table border=\"1\" class=\"dataframe\">\n",
              "  <thead>\n",
              "    <tr style=\"text-align: right;\">\n",
              "      <th></th>\n",
              "      <th>doors</th>\n",
              "      <th>persons</th>\n",
              "      <th>buying_high</th>\n",
              "      <th>buying_low</th>\n",
              "      <th>buying_med</th>\n",
              "      <th>buying_vhigh</th>\n",
              "      <th>maint_high</th>\n",
              "      <th>maint_low</th>\n",
              "      <th>maint_med</th>\n",
              "      <th>maint_vhigh</th>\n",
              "      <th>lug_boot_big</th>\n",
              "      <th>lug_boot_med</th>\n",
              "      <th>lug_boot_small</th>\n",
              "      <th>safety_high</th>\n",
              "      <th>safety_low</th>\n",
              "      <th>safety_med</th>\n",
              "    </tr>\n",
              "  </thead>\n",
              "  <tbody>\n",
              "    <tr>\n",
              "      <th>0</th>\n",
              "      <td>2</td>\n",
              "      <td>2</td>\n",
              "      <td>0</td>\n",
              "      <td>0</td>\n",
              "      <td>0</td>\n",
              "      <td>1</td>\n",
              "      <td>0</td>\n",
              "      <td>0</td>\n",
              "      <td>0</td>\n",
              "      <td>1</td>\n",
              "      <td>0</td>\n",
              "      <td>0</td>\n",
              "      <td>1</td>\n",
              "      <td>0</td>\n",
              "      <td>1</td>\n",
              "      <td>0</td>\n",
              "    </tr>\n",
              "    <tr>\n",
              "      <th>1</th>\n",
              "      <td>2</td>\n",
              "      <td>2</td>\n",
              "      <td>0</td>\n",
              "      <td>0</td>\n",
              "      <td>0</td>\n",
              "      <td>1</td>\n",
              "      <td>0</td>\n",
              "      <td>0</td>\n",
              "      <td>0</td>\n",
              "      <td>1</td>\n",
              "      <td>0</td>\n",
              "      <td>0</td>\n",
              "      <td>1</td>\n",
              "      <td>0</td>\n",
              "      <td>0</td>\n",
              "      <td>1</td>\n",
              "    </tr>\n",
              "    <tr>\n",
              "      <th>2</th>\n",
              "      <td>2</td>\n",
              "      <td>2</td>\n",
              "      <td>0</td>\n",
              "      <td>0</td>\n",
              "      <td>0</td>\n",
              "      <td>1</td>\n",
              "      <td>0</td>\n",
              "      <td>0</td>\n",
              "      <td>0</td>\n",
              "      <td>1</td>\n",
              "      <td>0</td>\n",
              "      <td>0</td>\n",
              "      <td>1</td>\n",
              "      <td>1</td>\n",
              "      <td>0</td>\n",
              "      <td>0</td>\n",
              "    </tr>\n",
              "    <tr>\n",
              "      <th>3</th>\n",
              "      <td>2</td>\n",
              "      <td>2</td>\n",
              "      <td>0</td>\n",
              "      <td>0</td>\n",
              "      <td>0</td>\n",
              "      <td>1</td>\n",
              "      <td>0</td>\n",
              "      <td>0</td>\n",
              "      <td>0</td>\n",
              "      <td>1</td>\n",
              "      <td>0</td>\n",
              "      <td>1</td>\n",
              "      <td>0</td>\n",
              "      <td>0</td>\n",
              "      <td>1</td>\n",
              "      <td>0</td>\n",
              "    </tr>\n",
              "    <tr>\n",
              "      <th>4</th>\n",
              "      <td>2</td>\n",
              "      <td>2</td>\n",
              "      <td>0</td>\n",
              "      <td>0</td>\n",
              "      <td>0</td>\n",
              "      <td>1</td>\n",
              "      <td>0</td>\n",
              "      <td>0</td>\n",
              "      <td>0</td>\n",
              "      <td>1</td>\n",
              "      <td>0</td>\n",
              "      <td>1</td>\n",
              "      <td>0</td>\n",
              "      <td>0</td>\n",
              "      <td>0</td>\n",
              "      <td>1</td>\n",
              "    </tr>\n",
              "    <tr>\n",
              "      <th>...</th>\n",
              "      <td>...</td>\n",
              "      <td>...</td>\n",
              "      <td>...</td>\n",
              "      <td>...</td>\n",
              "      <td>...</td>\n",
              "      <td>...</td>\n",
              "      <td>...</td>\n",
              "      <td>...</td>\n",
              "      <td>...</td>\n",
              "      <td>...</td>\n",
              "      <td>...</td>\n",
              "      <td>...</td>\n",
              "      <td>...</td>\n",
              "      <td>...</td>\n",
              "      <td>...</td>\n",
              "      <td>...</td>\n",
              "    </tr>\n",
              "    <tr>\n",
              "      <th>1723</th>\n",
              "      <td>5</td>\n",
              "      <td>5</td>\n",
              "      <td>0</td>\n",
              "      <td>1</td>\n",
              "      <td>0</td>\n",
              "      <td>0</td>\n",
              "      <td>0</td>\n",
              "      <td>1</td>\n",
              "      <td>0</td>\n",
              "      <td>0</td>\n",
              "      <td>0</td>\n",
              "      <td>1</td>\n",
              "      <td>0</td>\n",
              "      <td>0</td>\n",
              "      <td>0</td>\n",
              "      <td>1</td>\n",
              "    </tr>\n",
              "    <tr>\n",
              "      <th>1724</th>\n",
              "      <td>5</td>\n",
              "      <td>5</td>\n",
              "      <td>0</td>\n",
              "      <td>1</td>\n",
              "      <td>0</td>\n",
              "      <td>0</td>\n",
              "      <td>0</td>\n",
              "      <td>1</td>\n",
              "      <td>0</td>\n",
              "      <td>0</td>\n",
              "      <td>0</td>\n",
              "      <td>1</td>\n",
              "      <td>0</td>\n",
              "      <td>1</td>\n",
              "      <td>0</td>\n",
              "      <td>0</td>\n",
              "    </tr>\n",
              "    <tr>\n",
              "      <th>1725</th>\n",
              "      <td>5</td>\n",
              "      <td>5</td>\n",
              "      <td>0</td>\n",
              "      <td>1</td>\n",
              "      <td>0</td>\n",
              "      <td>0</td>\n",
              "      <td>0</td>\n",
              "      <td>1</td>\n",
              "      <td>0</td>\n",
              "      <td>0</td>\n",
              "      <td>1</td>\n",
              "      <td>0</td>\n",
              "      <td>0</td>\n",
              "      <td>0</td>\n",
              "      <td>1</td>\n",
              "      <td>0</td>\n",
              "    </tr>\n",
              "    <tr>\n",
              "      <th>1726</th>\n",
              "      <td>5</td>\n",
              "      <td>5</td>\n",
              "      <td>0</td>\n",
              "      <td>1</td>\n",
              "      <td>0</td>\n",
              "      <td>0</td>\n",
              "      <td>0</td>\n",
              "      <td>1</td>\n",
              "      <td>0</td>\n",
              "      <td>0</td>\n",
              "      <td>1</td>\n",
              "      <td>0</td>\n",
              "      <td>0</td>\n",
              "      <td>0</td>\n",
              "      <td>0</td>\n",
              "      <td>1</td>\n",
              "    </tr>\n",
              "    <tr>\n",
              "      <th>1727</th>\n",
              "      <td>5</td>\n",
              "      <td>5</td>\n",
              "      <td>0</td>\n",
              "      <td>1</td>\n",
              "      <td>0</td>\n",
              "      <td>0</td>\n",
              "      <td>0</td>\n",
              "      <td>1</td>\n",
              "      <td>0</td>\n",
              "      <td>0</td>\n",
              "      <td>1</td>\n",
              "      <td>0</td>\n",
              "      <td>0</td>\n",
              "      <td>1</td>\n",
              "      <td>0</td>\n",
              "      <td>0</td>\n",
              "    </tr>\n",
              "  </tbody>\n",
              "</table>\n",
              "<p>1728 rows × 16 columns</p>\n",
              "</div>"
            ],
            "text/plain": [
              "      doors  persons  buying_high  ...  safety_high  safety_low  safety_med\n",
              "0         2        2            0  ...            0           1           0\n",
              "1         2        2            0  ...            0           0           1\n",
              "2         2        2            0  ...            1           0           0\n",
              "3         2        2            0  ...            0           1           0\n",
              "4         2        2            0  ...            0           0           1\n",
              "...     ...      ...          ...  ...          ...         ...         ...\n",
              "1723      5        5            0  ...            0           0           1\n",
              "1724      5        5            0  ...            1           0           0\n",
              "1725      5        5            0  ...            0           1           0\n",
              "1726      5        5            0  ...            0           0           1\n",
              "1727      5        5            0  ...            1           0           0\n",
              "\n",
              "[1728 rows x 16 columns]"
            ]
          },
          "metadata": {
            "tags": []
          },
          "execution_count": 64
        }
      ]
    },
    {
      "cell_type": "code",
      "metadata": {
        "id": "_Vkkf_SWOXFB"
      },
      "source": [
        "Dataset_X_list = list(dataset_X.columns)\n",
        "dataset_X = np.array(dataset_X)"
      ],
      "execution_count": null,
      "outputs": []
    },
    {
      "cell_type": "code",
      "metadata": {
        "colab": {
          "base_uri": "https://localhost:8080/"
        },
        "id": "C--GT-TEOkhm",
        "outputId": "844087d9-6019-4b3d-8cf6-1808c36120d1"
      },
      "source": [
        "dataset_X"
      ],
      "execution_count": null,
      "outputs": [
        {
          "output_type": "execute_result",
          "data": {
            "text/plain": [
              "array([[2, 2, 0, ..., 0, 1, 0],\n",
              "       [2, 2, 0, ..., 0, 0, 1],\n",
              "       [2, 2, 0, ..., 1, 0, 0],\n",
              "       ...,\n",
              "       [5, 5, 0, ..., 0, 1, 0],\n",
              "       [5, 5, 0, ..., 0, 0, 1],\n",
              "       [5, 5, 0, ..., 1, 0, 0]])"
            ]
          },
          "metadata": {
            "tags": []
          },
          "execution_count": 66
        }
      ]
    },
    {
      "cell_type": "code",
      "metadata": {
        "id": "xIUkskotOo3-"
      },
      "source": [
        "X_train,X_test,Y_train,Y_test = train_test_split(dataset_X,output_label,test_size=0.25,random_state=42)      #First train and test data for featureand then for labels"
      ],
      "execution_count": null,
      "outputs": []
    },
    {
      "cell_type": "code",
      "metadata": {
        "colab": {
          "base_uri": "https://localhost:8080/"
        },
        "id": "AYjfKxbaQUD3",
        "outputId": "df24bacb-8810-4d6f-f6bc-aef2c9383267"
      },
      "source": [
        "X_train"
      ],
      "execution_count": null,
      "outputs": [
        {
          "output_type": "execute_result",
          "data": {
            "text/plain": [
              "array([[4, 4, 0, ..., 0, 0, 1],\n",
              "       [2, 2, 1, ..., 0, 0, 1],\n",
              "       [3, 5, 1, ..., 0, 0, 1],\n",
              "       ...,\n",
              "       [5, 5, 1, ..., 1, 0, 0],\n",
              "       [4, 2, 0, ..., 0, 0, 1],\n",
              "       [3, 5, 0, ..., 0, 0, 1]])"
            ]
          },
          "metadata": {
            "tags": []
          },
          "execution_count": 68
        }
      ]
    },
    {
      "cell_type": "code",
      "metadata": {
        "colab": {
          "base_uri": "https://localhost:8080/"
        },
        "id": "BJ1pL915Qc-T",
        "outputId": "dc8dc684-cfe4-486c-c14b-02e46dc0dd43"
      },
      "source": [
        "X_test"
      ],
      "execution_count": null,
      "outputs": [
        {
          "output_type": "execute_result",
          "data": {
            "text/plain": [
              "array([[4, 2, 1, ..., 1, 0, 0],\n",
              "       [2, 4, 0, ..., 0, 0, 1],\n",
              "       [5, 2, 1, ..., 0, 0, 1],\n",
              "       ...,\n",
              "       [5, 5, 0, ..., 0, 1, 0],\n",
              "       [3, 5, 0, ..., 1, 0, 0],\n",
              "       [5, 5, 1, ..., 0, 0, 1]])"
            ]
          },
          "metadata": {
            "tags": []
          },
          "execution_count": 69
        }
      ]
    },
    {
      "cell_type": "code",
      "metadata": {
        "colab": {
          "base_uri": "https://localhost:8080/"
        },
        "id": "8yx3_WRjQedU",
        "outputId": "a456d9c1-a6bf-4c32-81d5-a3f6e956e3c7"
      },
      "source": [
        "Y_train.shape"
      ],
      "execution_count": null,
      "outputs": [
        {
          "output_type": "execute_result",
          "data": {
            "text/plain": [
              "(1296,)"
            ]
          },
          "metadata": {
            "tags": []
          },
          "execution_count": 70
        }
      ]
    },
    {
      "cell_type": "code",
      "metadata": {
        "colab": {
          "base_uri": "https://localhost:8080/"
        },
        "id": "cMK99A5fQfsH",
        "outputId": "460164bf-8c2e-4c5c-ddf4-66433c39849d"
      },
      "source": [
        "Y_test.shape"
      ],
      "execution_count": null,
      "outputs": [
        {
          "output_type": "execute_result",
          "data": {
            "text/plain": [
              "(432,)"
            ]
          },
          "metadata": {
            "tags": []
          },
          "execution_count": 71
        }
      ]
    },
    {
      "cell_type": "code",
      "metadata": {
        "id": "hRCOJx8IQiYc"
      },
      "source": [
        "###########################KNN################################algorithm\n",
        "#Import the KNN classifire libraray for model evaluation\n",
        "from sklearn.neighbors import KNeighborsClassifier\n",
        "#priting the confusion matrix based on the prediction\n",
        "#import the confusion matrix library\n",
        "from sklearn import metrics"
      ],
      "execution_count": null,
      "outputs": []
    },
    {
      "cell_type": "code",
      "metadata": {
        "colab": {
          "base_uri": "https://localhost:8080/"
        },
        "id": "eeG0NwDgQtfU",
        "outputId": "fc7a46b5-18f9-4cb4-8b24-71c18360bc75"
      },
      "source": [
        "#For the K value of = 1 to 20\n",
        "score=[]\n",
        "for i in range(1,21):\n",
        "    knn_model_evaluation = KNeighborsClassifier(n_neighbors=i,weights='uniform')\n",
        "    knn_model_evaluation.fit(X_train,Y_train)\n",
        "    Y_pred_model = knn_model_evaluation.predict(X_test)\n",
        "    confusion_matrixx = metrics.confusion_matrix(Y_test,Y_pred_model)\n",
        "    print(\"For K=\"+str(i))\n",
        "    print(confusion_matrixx)       #print the confusion matrix\n",
        "    #printing the Parameter for the model learining like accuracy , precision and recall\n",
        "    print(\"Accuracy:\",metrics.accuracy_score(Y_test, Y_pred_model))\n",
        "    print(\"Precision:\",metrics.precision_score(Y_test, Y_pred_model,average='macro'))\n",
        "    print(\"Recall:\",metrics.recall_score(Y_test, Y_pred_model,average='macro'))\n",
        "    print(\"\\n\\n\\n\\n\")\n",
        "    "
      ],
      "execution_count": null,
      "outputs": [
        {
          "output_type": "stream",
          "text": [
            "For K=1\n",
            "[[290   4   0   0]\n",
            " [ 10  87   2   4]\n",
            " [  0   1  17   2]\n",
            " [  2   1   0  12]]\n",
            "Accuracy: 0.9398148148148148\n",
            "Precision: 0.8642880701004808\n",
            "Recall: 0.8702636879994716\n",
            "\n",
            "\n",
            "\n",
            "\n",
            "\n",
            "For K=2\n",
            "[[292   2   0   0]\n",
            " [ 25  76   1   1]\n",
            " [  1   1  17   1]\n",
            " [  2   2   1  10]]\n",
            "Accuracy: 0.9143518518518519\n",
            "Precision: 0.894710445094217\n",
            "Recall: 0.8119320058120335\n",
            "\n",
            "\n",
            "\n",
            "\n",
            "\n",
            "For K=3\n",
            "[[290   4   0   0]\n",
            " [ 22  79   1   1]\n",
            " [  1   2  16   1]\n",
            " [  4   0   1  10]]\n",
            "Accuracy: 0.9143518518518519\n",
            "Precision: 0.8916151213377044\n",
            "Recall: 0.805012878937983\n",
            "\n",
            "\n",
            "\n",
            "\n",
            "\n",
            "For K=4\n",
            "[[293   1   0   0]\n",
            " [ 27  73   1   2]\n",
            " [  1   4  15   0]\n",
            " [  1   4   1   9]]\n",
            "Accuracy: 0.9027777777777778\n",
            "Precision: 0.8751791374990178\n",
            "Recall: 0.7638341258833631\n",
            "\n",
            "\n",
            "\n",
            "\n",
            "\n",
            "For K=5\n",
            "[[290   4   0   0]\n",
            " [ 23  80   0   0]\n",
            " [  1   6  12   1]\n",
            " [  0   6   1   8]]\n",
            "Accuracy: 0.9027777777777778\n",
            "Precision: 0.8922165060700092\n",
            "Recall: 0.7241067300706691\n",
            "\n",
            "\n",
            "\n",
            "\n",
            "\n",
            "For K=6\n",
            "[[293   1   0   0]\n",
            " [ 24  78   1   0]\n",
            " [  1   9  10   0]\n",
            " [  1   7   0   7]]\n",
            "Accuracy: 0.8981481481481481\n",
            "Precision: 0.9121597096188748\n",
            "Recall: 0.6801367148801268\n",
            "\n",
            "\n",
            "\n",
            "\n",
            "\n",
            "For K=7\n",
            "[[292   2   0   0]\n",
            " [ 22  79   2   0]\n",
            " [  0   9  10   1]\n",
            " [  0   6   1   8]]\n",
            "Accuracy: 0.9004629629629629\n",
            "Precision: 0.8527431576297022\n",
            "Recall: 0.6983802258767584\n",
            "\n",
            "\n",
            "\n",
            "\n",
            "\n",
            "For K=8\n",
            "[[293   1   0   0]\n",
            " [ 20  83   0   0]\n",
            " [  0  11   7   2]\n",
            " [  0   6   1   8]]\n",
            "Accuracy: 0.9050925925925926\n",
            "Precision: 0.8582211036598868\n",
            "Recall: 0.6714393038768905\n",
            "\n",
            "\n",
            "\n",
            "\n",
            "\n",
            "For K=9\n",
            "[[290   4   0   0]\n",
            " [ 17  86   0   0]\n",
            " [  0   9  10   1]\n",
            " [  0  10   1   4]]\n",
            "Accuracy: 0.9027777777777778\n",
            "Precision: 0.8606767854862767\n",
            "Recall: 0.6470031702001189\n",
            "\n",
            "\n",
            "\n",
            "\n",
            "\n",
            "For K=10\n",
            "[[294   0   0   0]\n",
            " [ 16  86   1   0]\n",
            " [  0   6  13   1]\n",
            " [  0  12   0   3]]\n",
            "Accuracy: 0.9166666666666666\n",
            "Precision: 0.8634704005671747\n",
            "Recall: 0.6712378640776699\n",
            "\n",
            "\n",
            "\n",
            "\n",
            "\n",
            "For K=11\n",
            "[[294   0   0   0]\n",
            " [ 16  87   0   0]\n",
            " [  0   7  13   0]\n",
            " [  0  11   0   4]]\n",
            "Accuracy: 0.9212962962962963\n",
            "Precision: 0.9442396313364055\n",
            "Recall: 0.690331715210356\n",
            "\n",
            "\n",
            "\n",
            "\n",
            "\n",
            "For K=12\n",
            "[[294   0   0   0]\n",
            " [ 15  87   0   1]\n",
            " [  0   6  14   0]\n",
            " [  0  11   0   4]]\n",
            "Accuracy: 0.9236111111111112\n",
            "Precision: 0.8969986930545184\n",
            "Recall: 0.702831715210356\n",
            "\n",
            "\n",
            "\n",
            "\n",
            "\n",
            "For K=13\n",
            "[[292   2   0   0]\n",
            " [ 17  85   0   1]\n",
            " [  0   8  12   0]\n",
            " [  0   9   0   6]]\n",
            "Accuracy: 0.9143518518518519\n",
            "Precision: 0.904858592055194\n",
            "Recall: 0.7046099993395416\n",
            "\n",
            "\n",
            "\n",
            "\n",
            "\n",
            "For K=14\n",
            "[[292   2   0   0]\n",
            " [ 20  83   0   0]\n",
            " [  0   6  14   0]\n",
            " [  0   9   0   6]]\n",
            "Accuracy: 0.9143518518518519\n",
            "Precision: 0.9414743589743589\n",
            "Recall: 0.7247556304075028\n",
            "\n",
            "\n",
            "\n",
            "\n",
            "\n",
            "For K=15\n",
            "[[292   2   0   0]\n",
            " [ 18  84   0   1]\n",
            " [  0   8  12   0]\n",
            " [  1  10   0   4]]\n",
            "Accuracy: 0.9074074074074074\n",
            "Precision: 0.8866497650259708\n",
            "Recall: 0.6688494815401889\n",
            "\n",
            "\n",
            "\n",
            "\n",
            "\n",
            "For K=16\n",
            "[[294   0   0   0]\n",
            " [ 21  82   0   0]\n",
            " [  0   9  10   1]\n",
            " [  0  12   0   3]]\n",
            "Accuracy: 0.9004629629629629\n",
            "Precision: 0.8698624595469255\n",
            "Recall: 0.6240291262135923\n",
            "\n",
            "\n",
            "\n",
            "\n",
            "\n",
            "For K=17\n",
            "[[293   1   0   0]\n",
            " [ 20  83   0   0]\n",
            " [  0  11   9   0]\n",
            " [  0  11   0   4]]\n",
            "Accuracy: 0.9004629629629629\n",
            "Precision: 0.9297802760865634\n",
            "Recall: 0.6297726372102239\n",
            "\n",
            "\n",
            "\n",
            "\n",
            "\n",
            "For K=18\n",
            "[[294   0   0   0]\n",
            " [ 22  81   0   0]\n",
            " [  0  10  10   0]\n",
            " [  1  13   0   1]]\n",
            "Accuracy: 0.8935185185185185\n",
            "Precision: 0.9265727371997088\n",
            "Recall: 0.5882686084142396\n",
            "\n",
            "\n",
            "\n",
            "\n",
            "\n",
            "For K=19\n",
            "[[294   0   0   0]\n",
            " [ 24  79   0   0]\n",
            " [  0   9  11   0]\n",
            " [  0  14   0   1]]\n",
            "Accuracy: 0.8912037037037037\n",
            "Precision: 0.9247595264520903\n",
            "Recall: 0.5959142394822007\n",
            "\n",
            "\n",
            "\n",
            "\n",
            "\n",
            "For K=20\n",
            "[[294   0   0   0]\n",
            " [ 25  78   0   0]\n",
            " [  0  11   9   0]\n",
            " [  1  12   0   2]]\n",
            "Accuracy: 0.8865740740740741\n",
            "Precision: 0.9227568069306931\n",
            "Recall: 0.585153721682848\n",
            "\n",
            "\n",
            "\n",
            "\n",
            "\n"
          ],
          "name": "stdout"
        }
      ]
    },
    {
      "cell_type": "code",
      "metadata": {
        "id": "q7cExEwbRNdl"
      },
      "source": [
        "#########################RANDOM FOREST ALgoithm ################################\n",
        "from sklearn.ensemble import RandomForestClassifier\n",
        "from sklearn.tree import export_graphviz\n",
        "import pydot"
      ],
      "execution_count": null,
      "outputs": []
    },
    {
      "cell_type": "code",
      "metadata": {
        "colab": {
          "base_uri": "https://localhost:8080/"
        },
        "id": "mGJ3t9viS6Nx",
        "outputId": "619da944-b7b7-4838-d73b-4a323d925a5f"
      },
      "source": [
        "random_forest_classifier_model = RandomForestClassifier(n_estimators=1000,random_state=42)\n",
        "random_forest_classifier_model.fit(X_train,Y_train)\n",
        "predictions = random_forest_classifier_model.predict(X_test)\n",
        "print(predictions)\n",
        "errors = abs(predictions-Y_test)\n",
        "#Mean absolute percentage Error\n",
        "mape = 100*(errors/len(Y_test))\n",
        "mean_error = np.mean(mape)\n",
        "print(mean_error)\n",
        "accuracy = 100-mean_error\n",
        "print(accuracy)\n",
        "tree = random_forest_classifier_model.estimators_[5]     #two output 1. Tree 2. dot File (whihc has property to be written in document for that tree)\n",
        "export_graphviz(tree,out_file='tree.dot',feature_names=Dataset_X_list,rounded=True,precision=1)\n",
        "(graph,)=pydot.graph_from_dot_file('tree.dot')\n",
        "graph.write_png('tree.png');"
      ],
      "execution_count": null,
      "outputs": [
        {
          "output_type": "stream",
          "text": [
            "[0 3 0 1 0 0 0 0 0 0 2 1 1 0 0 0 0 0 0 1 0 1 1 0 1 0 0 0 0 0 1 0 0 0 1 3 3\n",
            " 0 0 0 0 0 1 1 0 1 0 0 0 0 0 0 1 0 0 0 0 0 0 3 0 1 0 0 1 2 0 1 1 0 0 0 0 0\n",
            " 2 3 0 0 0 0 2 0 0 0 2 1 0 1 3 1 0 3 0 0 0 3 0 0 0 1 0 0 0 0 3 3 1 0 0 1 0\n",
            " 0 0 0 0 1 3 0 0 0 0 2 0 1 1 0 3 0 0 0 0 0 3 0 0 1 0 2 0 0 0 1 1 1 0 1 0 0\n",
            " 0 0 1 2 0 0 0 0 0 0 0 0 0 1 0 0 0 0 1 0 1 2 1 0 1 0 0 1 0 0 0 0 1 0 0 0 3\n",
            " 1 0 0 1 0 0 0 1 0 0 0 0 1 0 0 0 0 0 3 0 0 0 3 0 1 0 0 1 0 0 1 0 0 0 2 2 0\n",
            " 0 1 0 0 0 0 1 0 0 0 1 0 1 0 0 0 0 0 0 0 0 0 0 0 0 0 0 0 0 0 0 0 0 0 0 0 1\n",
            " 0 1 0 0 0 0 0 1 2 0 0 0 1 0 0 2 0 0 1 1 0 1 0 1 1 0 0 1 3 2 1 1 0 0 0 0 2\n",
            " 1 1 0 0 0 0 2 0 0 0 0 1 0 0 2 1 1 0 0 0 1 1 0 1 0 0 0 0 0 0 0 1 0 0 0 0 1\n",
            " 0 0 0 0 1 0 0 0 0 0 0 0 0 0 0 0 0 0 1 0 0 1 0 0 0 2 0 0 0 0 1 0 1 0 0 0 1\n",
            " 0 1 3 2 0 0 0 1 0 0 0 0 1 0 0 0 0 1 0 0 1 0 1 0 0 0 0 0 1 0 0 0 0 0 0 1 0\n",
            " 0 2 0 1 0 0 1 1 0 2 0 1 0 3 0 1 1 0 0 1 0 1 0 3 0]\n",
            "0.013931755829903978\n",
            "99.9860682441701\n"
          ],
          "name": "stdout"
        }
      ]
    },
    {
      "cell_type": "code",
      "metadata": {
        "id": "7250WRyRS9lB"
      },
      "source": [
        "############Function to caluclate the acccuracy for the unsupervised algorithm################\n",
        "def find_accuracy(target,prediction,no_of_class_prediction,no_of_class_target):\n",
        "    lst_prediction=[]\n",
        "    Dict={}\n",
        "    for i in range(no_of_class_prediction):\n",
        "        lst_prediction.append(np.where(prediction == i))\n",
        "    for i in range(no_of_class_target):\n",
        "        lst_target = np.where(target == i)\n",
        "        count = -1\n",
        "        ind =-1\n",
        "        for j in range(len(lst_prediction)):\n",
        "            intersection = len(np.intersect1d(lst_target,lst_prediction[j]))\n",
        "            union = len(np.union1d(lst_target,lst_prediction[j]))\n",
        "            if((intersection/union)>count):\n",
        "                ind = j\n",
        "                count=(intersection/union)\n",
        "        Dict[i]=ind\n",
        "    count=0\n",
        "    print(lst_prediction)\n",
        "    print(lst_target)\n",
        "    print(Dict)\n",
        "    \n",
        "    for i in range(len(target)):\n",
        "        if(prediction[i]==Dict[target[i]]):\n",
        "            count+=1   \n",
        "    return count/len(prediction)\n"
      ],
      "execution_count": null,
      "outputs": []
    },
    {
      "cell_type": "code",
      "metadata": {
        "id": "VOyG7vC8TEdN"
      },
      "source": [
        "##############################Kmeans Clustering###############################\n",
        "from sklearn.cluster import KMeans"
      ],
      "execution_count": null,
      "outputs": []
    },
    {
      "cell_type": "code",
      "metadata": {
        "colab": {
          "base_uri": "https://localhost:8080/",
          "height": 295
        },
        "id": "AWERBO2mWS1f",
        "outputId": "22319dd6-b5b3-491c-f5cc-80c16a97cfbe"
      },
      "source": [
        "wcss=[]\n",
        "for i in range(1,10):\n",
        "    kmeans = KMeans(n_clusters=i,init='k-means++',random_state=0)\n",
        "    kmeans.fit(dataset_X)\n",
        "    wcss.append(kmeans.inertia_)        #residual values which we are having.\n",
        "plt.plot(range(1,10),wcss)\n",
        "plt.title('K means Elbow Graph')\n",
        "plt.xlabel('# of Cluster')\n",
        "plt.ylabel('WCSS')\n",
        "plt.show()"
      ],
      "execution_count": null,
      "outputs": [
        {
          "output_type": "display_data",
          "data": {
            "image/png": "[encoded data removed]",
            "text/plain": [
              "<Figure size 432x288 with 1 Axes>"
            ]
          },
          "metadata": {
            "tags": [],
            "needs_background": "light"
          }
        }
      ]
    },
    {
      "cell_type": "code",
      "metadata": {
        "id": "SCvEhd-fWqAJ"
      },
      "source": [
        "kmeans = KMeans(n_clusters=4,init='k-means++',random_state=0)\n",
        "y_kmeans = kmeans.fit_predict(dataset_X)"
      ],
      "execution_count": null,
      "outputs": []
    },
    {
      "cell_type": "code",
      "metadata": {
        "id": "vVaDwai-W9Vx",
        "colab": {
          "base_uri": "https://localhost:8080/",
          "height": 295
        },
        "outputId": "77884725-fbcc-4dbf-a4b0-7de14a6f9e1f"
      },
      "source": [
        "#visualize the Cluster\n",
        "plt.scatter(dataset_X[y_kmeans==0,0],dataset_X[y_kmeans==0,1],s=20,c='red',label='cluster1')\n",
        "plt.scatter(dataset_X[y_kmeans==1,0],dataset_X[y_kmeans==1,1],s=20,c='orange',label='cluster2')\n",
        "plt.scatter(dataset_X[y_kmeans==2,0],dataset_X[y_kmeans==2,1],s=20,c='green',label='cluster3')\n",
        "plt.scatter(dataset_X[y_kmeans==3,0],dataset_X[y_kmeans==3,1],s=20,c='cyan',label='cluster4')\n",
        "\n",
        "plt.scatter(kmeans.cluster_centers_[:,0],kmeans.cluster_centers_[:,1],s=100,c='blue',label='centroids')\n",
        "\n",
        "plt.title('Heirarchical Clustering')\n",
        "plt.xlabel('Doors')\n",
        "plt.ylabel('Person')\n",
        "plt.legend()  \n",
        "plt.show()"
      ],
      "execution_count": null,
      "outputs": [
        {
          "output_type": "display_data",
          "data": {
            "image/png": "[encoded data removed]",
            "text/plain": [
              "<Figure size 432x288 with 1 Axes>"
            ]
          },
          "metadata": {
            "tags": [],
            "needs_background": "light"
          }
        }
      ]
    },
    {
      "cell_type": "code",
      "metadata": {
        "colab": {
          "base_uri": "https://localhost:8080/",
          "height": 268
        },
        "id": "TtBy9llXXqPG",
        "outputId": "d51303a2-5436-4fb3-ccbc-403963c498e0"
      },
      "source": [
        "#######################Heirarchichhal Clustering#####################\n",
        "import scipy.cluster.hierarchy as sch\n",
        "dendrogram = sch.dendrogram(sch.linkage(dataset_X,method='ward'))"
      ],
      "execution_count": null,
      "outputs": [
        {
          "output_type": "display_data",
          "data": {
            "image/png": "[encoded data removed]",
            "text/plain": [
              "<Figure size 432x288 with 1 Axes>"
            ]
          },
          "metadata": {
            "tags": [],
            "needs_background": "light"
          }
        }
      ]
    },
    {
      "cell_type": "code",
      "metadata": {
        "colab": {
          "base_uri": "https://localhost:8080/",
          "height": 312
        },
        "id": "xsT6jGZmYTZg",
        "outputId": "3eba83fa-3228-4e76-e4a3-068d375d592b"
      },
      "source": [
        "from sklearn.cluster import AgglomerativeClustering\n",
        "hc =  AgglomerativeClustering(n_clusters=4,linkage='ward')\n",
        "y_hc = hc.fit_predict(dataset_X)\n",
        "print(y_hc)\n",
        "\n",
        "\n",
        "#visualize the Cluster\n",
        "plt.scatter(dataset_X[y_hc==0,0],dataset_X[y_hc==0,1],s=20,c='red',label='cluster1')\n",
        "plt.scatter(dataset_X[y_hc==1,0],dataset_X[y_hc==1,1],s=20,c='orange',label='cluster2')\n",
        "plt.scatter(dataset_X[y_hc==2,0],dataset_X[y_hc==2,1],s=20,c='green',label='cluster3')\n",
        "plt.scatter(dataset_X[y_hc==3,0],dataset_X[y_hc==3,1],s=20,c='cyan',label='cluster4')\n",
        "\n",
        "plt.title('Heirarchical Clustering')\n",
        "plt.xlabel('Doors')\n",
        "plt.ylabel('Person')\n",
        "plt.legend()  \n",
        "plt.show()\n"
      ],
      "execution_count": null,
      "outputs": [
        {
          "output_type": "stream",
          "text": [
            "[3 3 3 ... 0 0 0]\n"
          ],
          "name": "stdout"
        },
        {
          "output_type": "display_data",
          "data": {
            "image/png": "[encoded data removed]",
            "text/plain": [
              "<Figure size 432x288 with 1 Axes>"
            ]
          },
          "metadata": {
            "tags": [],
            "needs_background": "light"
          }
        }
      ]
    },
    {
      "cell_type": "code",
      "metadata": {
        "colab": {
          "base_uri": "https://localhost:8080/"
        },
        "id": "uxGCsAAuYkV4",
        "outputId": "541ff67a-a138-4bb9-a546-c2c24b76e8e8"
      },
      "source": [
        "for i in y_hc:\n",
        "    print(str(i)+\" \",end=\" \")"
      ],
      "execution_count": null,
      "outputs": [
        {
          "output_type": "stream",
          "text": [
            "3  3  3  3  3  3  3  3  3  2  2  2  2  2  2  2  2  2  2  2  2  2  2  2  2  2  2  3  3  3  3  3  3  3  3  3  2  2  2  2  2  2  2  2  2  2  2  2  2  2  2  2  2  2  1  1  1  1  1  1  1  1  1  0  0  0  0  0  0  0  0  0  0  0  0  0  0  0  0  0  0  1  1  1  1  1  1  1  1  1  0  0  0  0  0  0  0  0  0  0  0  0  0  0  0  0  0  0  3  3  3  3  3  3  3  3  3  2  2  2  2  2  2  2  2  2  2  2  2  2  2  2  2  2  2  3  3  3  3  3  3  3  3  3  2  2  2  2  2  2  2  2  2  2  2  2  2  2  2  2  2  2  1  1  1  1  1  1  1  1  1  0  0  0  0  0  0  0  0  0  0  0  0  0  0  0  0  0  0  1  1  1  1  1  1  1  1  1  0  0  0  0  0  0  0  0  0  0  0  0  0  0  0  0  0  0  3  3  3  3  3  3  3  3  3  2  2  2  2  2  2  2  2  2  2  2  2  2  2  2  2  2  2  3  3  3  3  3  3  3  3  3  2  2  2  2  2  2  2  2  2  2  2  2  2  2  2  2  2  2  1  1  1  1  1  1  1  1  1  0  0  0  0  0  0  0  0  0  0  0  0  0  0  0  0  0  0  1  1  1  1  1  1  1  1  1  0  0  0  0  0  0  0  0  0  0  0  0  0  0  0  0  0  0  3  3  3  3  3  3  3  3  3  2  2  2  2  2  2  2  2  2  2  2  2  2  2  2  2  2  2  3  3  3  3  3  3  3  3  3  2  2  2  2  2  2  2  2  2  2  2  2  2  2  2  2  2  2  1  1  1  1  1  1  1  1  1  0  0  0  0  0  0  0  0  0  0  0  0  0  0  0  0  0  0  1  1  1  1  1  1  1  1  1  0  0  0  0  0  0  0  0  0  0  0  0  0  0  0  0  0  0  3  3  3  3  3  3  3  3  3  2  2  2  2  2  2  2  2  2  2  2  2  2  2  2  2  2  2  3  3  3  3  3  3  3  3  3  2  2  2  2  2  2  2  2  2  2  2  2  2  2  2  2  2  2  1  1  1  1  1  1  1  1  1  0  0  0  0  0  0  0  0  0  0  0  0  0  0  0  0  0  0  1  1  1  1  1  1  1  1  1  0  0  0  0  0  0  0  0  0  0  0  0  0  0  0  0  0  0  3  3  3  3  3  3  3  3  3  2  2  2  2  2  2  2  2  2  2  2  2  2  2  2  2  2  2  3  3  3  3  3  3  3  3  3  2  2  2  2  2  2  2  2  2  2  2  2  2  2  2  2  2  2  1  1  1  1  1  1  1  1  1  0  0  0  0  0  0  0  0  0  0  0  0  0  0  0  0  0  0  1  1  1  1  1  1  1  1  1  0  0  0  0  0  0  0  0  0  0  0  0  0  0  0  0  0  0  3  3  3  3  3  3  3  3  3  2  2  2  2  2  2  2  2  2  2  2  2  2  2  2  2  2  2  3  3  3  3  3  3  3  3  3  2  2  2  2  2  2  2  2  2  2  2  2  2  2  2  2  2  2  1  1  1  1  1  1  1  1  1  0  0  0  0  0  0  0  0  0  0  0  0  0  0  0  0  0  0  1  1  1  1  1  1  1  1  1  0  0  0  0  0  0  0  0  0  0  0  0  0  0  0  0  0  0  3  3  3  3  3  3  3  3  3  2  2  2  2  2  2  2  2  2  2  2  2  2  2  2  2  2  2  3  3  3  3  3  3  3  3  3  2  2  2  2  2  2  2  2  2  2  2  2  2  2  2  2  2  2  1  1  1  1  1  1  1  1  1  0  0  0  0  0  0  0  0  0  0  0  0  0  0  0  0  0  0  1  1  1  1  1  1  1  1  1  0  0  0  0  0  0  0  0  0  0  0  0  0  0  0  0  0  0  3  3  3  3  3  3  3  3  3  2  2  2  2  2  2  2  2  2  2  2  2  2  2  2  2  2  2  3  3  3  3  3  3  3  3  3  2  2  2  2  2  2  2  2  2  2  2  2  2  2  2  2  2  2  1  1  1  1  1  1  1  1  1  0  0  0  0  0  0  0  0  0  0  0  0  0  0  0  0  0  0  1  1  1  1  1  1  1  1  1  0  0  0  0  0  0  0  0  0  0  0  0  0  0  0  0  0  0  3  3  3  3  3  3  3  3  3  2  2  2  2  2  2  2  2  2  2  2  2  2  2  2  2  2  2  3  3  3  3  3  3  3  3  3  2  2  2  2  2  2  2  2  2  2  2  2  2  2  2  2  2  2  1  1  1  1  1  1  1  1  1  0  0  0  0  0  0  0  0  0  0  0  0  0  0  0  0  0  0  1  1  1  1  1  1  1  1  1  0  0  0  0  0  0  0  0  0  0  0  0  0  0  0  0  0  0  3  3  3  3  3  3  3  3  3  2  2  2  2  2  2  2  2  2  2  2  2  2  2  2  2  2  2  3  3  3  3  3  3  3  3  3  2  2  2  2  2  2  2  2  2  2  2  2  2  2  2  2  2  2  1  1  1  1  1  1  1  1  1  0  0  0  0  0  0  0  0  0  0  0  0  0  0  0  0  0  0  1  1  1  1  1  1  1  1  1  0  0  0  0  0  0  0  0  0  0  0  0  0  0  0  0  0  0  3  3  3  3  3  3  3  3  3  2  2  2  2  2  2  2  2  2  2  2  2  2  2  2  2  2  2  3  3  3  3  3  3  3  3  3  2  2  2  2  2  2  2  2  2  2  2  2  2  2  2  2  2  2  1  1  1  1  1  1  1  1  1  0  0  0  0  0  0  0  0  0  0  0  0  0  0  0  0  0  0  1  1  1  1  1  1  1  1  1  0  0  0  0  0  0  0  0  0  0  0  0  0  0  0  0  0  0  3  3  3  3  3  3  3  3  3  2  2  2  2  2  2  2  2  2  2  2  2  2  2  2  2  2  2  3  3  3  3  3  3  3  3  3  2  2  2  2  2  2  2  2  2  2  2  2  2  2  2  2  2  2  1  1  1  1  1  1  1  1  1  0  0  0  0  0  0  0  0  0  0  0  0  0  0  0  0  0  0  1  1  1  1  1  1  1  1  1  0  0  0  0  0  0  0  0  0  0  0  0  0  0  0  0  0  0  3  3  3  3  3  3  3  3  3  2  2  2  2  2  2  2  2  2  2  2  2  2  2  2  2  2  2  3  3  3  3  3  3  3  3  3  2  2  2  2  2  2  2  2  2  2  2  2  2  2  2  2  2  2  1  1  1  1  1  1  1  1  1  0  0  0  0  0  0  0  0  0  0  0  0  0  0  0  0  0  0  1  1  1  1  1  1  1  1  1  0  0  0  0  0  0  0  0  0  0  0  0  0  0  0  0  0  0  3  3  3  3  3  3  3  3  3  2  2  2  2  2  2  2  2  2  2  2  2  2  2  2  2  2  2  3  3  3  3  3  3  3  3  3  2  2  2  2  2  2  2  2  2  2  2  2  2  2  2  2  2  2  1  1  1  1  1  1  1  1  1  0  0  0  0  0  0  0  0  0  0  0  0  0  0  0  0  0  0  1  1  1  1  1  1  1  1  1  0  0  0  0  0  0  0  0  0  0  0  0  0  0  0  0  0  0  3  3  3  3  3  3  3  3  3  2  2  2  2  2  2  2  2  2  2  2  2  2  2  2  2  2  2  3  3  3  3  3  3  3  3  3  2  2  2  2  2  2  2  2  2  2  2  2  2  2  2  2  2  2  1  1  1  1  1  1  1  1  1  0  0  0  0  0  0  0  0  0  0  0  0  0  0  0  0  0  0  1  1  1  1  1  1  1  1  1  0  0  0  0  0  0  0  0  0  0  0  0  0  0  0  0  0  0  "
          ],
          "name": "stdout"
        }
      ]
    },
    {
      "cell_type": "code",
      "metadata": {
        "id": "6rz447LgCAxX"
      },
      "source": [
        ""
      ],
      "execution_count": null,
      "outputs": []
    },
    {
      "cell_type": "code",
      "metadata": {
        "id": "MIH-ATlkZD-E",
        "colab": {
          "base_uri": "https://localhost:8080/",
          "height": 265
        },
        "outputId": "17d0781d-0307-4d01-8218-acd3fc8ee7db"
      },
      "source": [
        "#############################DBSCAN ALGORITHM###########################\n",
        "from sklearn.cluster import DBSCAN\n",
        "from sklearn.preprocessing import StandardScaler\n",
        "from sklearn.neighbors import NearestNeighbors\n",
        "\n",
        "X = StandardScaler().fit_transform(dataset_X)\n",
        "ns = 4\n",
        "nearestNeighbour = NearestNeighbors(ns).fit(X)\n",
        "distances,indices = nearestNeighbour.kneighbors(X)\n",
        "distanceDec = sorted(distances[:,3],reverse=True)\n",
        "plt.plot(indices[:,0],distanceDec)\n",
        "db = DBSCAN(eps=0.3,min_samples=5).fit(X)\n",
        "labels = db.labels_  #-1 is noise points\n",
        "db.core_sample_indices_     #core_datapointa\n",
        "cores_samples_mask = np.zeros_like(db.labels_,dtype=bool)\n",
        "cores_samples_mask[db.core_sample_indices_]=True\n",
        "cores_samples_mask\n",
        "n_clusters = len(set(labels))-1\n",
        "unique_lables = set(labels)\n",
        "colors= [plt.cm.Spectral(i) for i in np.linspace(0,1,len(unique_lables))]"
      ],
      "execution_count": null,
      "outputs": [
        {
          "output_type": "display_data",
          "data": {
            "image/png": "[encoded data removed]",
            "text/plain": [
              "<Figure size 432x288 with 1 Axes>"
            ]
          },
          "metadata": {
            "tags": [],
            "needs_background": "light"
          }
        }
      ]
    },
    {
      "cell_type": "code",
      "metadata": {
        "id": "Li3fxi3mRlfo",
        "colab": {
          "base_uri": "https://localhost:8080/",
          "height": 281
        },
        "outputId": "4fdc6f10-9bca-4256-b4e6-fe3a1f93b621"
      },
      "source": [
        "for k,col in zip(unique_lables,colors):\n",
        "    if(k==-1):\n",
        "        col=[0,0,0,1]   #noise points\n",
        "    noise_mask = labels==k\n",
        "\n",
        "    y = X[cores_samples_mask & noise_mask]\n",
        "    plt.plot(y[:,0],y[:,1],'o',markerfacecolor=tuple(col),markeredgecolor='k',markersize=15)    #core datapoints\n",
        "    \n",
        "    y = X[~cores_samples_mask & noise_mask]      #boundary datapoints  \n",
        "    plt.plot(y[:,0],y[:,1],'o',markerfacecolor=tuple(col),markeredgecolor='k',markersize=8)    #boundary datapoints\n",
        "\n",
        "plt.title('DBScan')\n",
        "plt.show()"
      ],
      "execution_count": null,
      "outputs": [
        {
          "output_type": "display_data",
          "data": {
            "image/png": "[encoded data removed]",
            "text/plain": [
              "<Figure size 432x288 with 1 Axes>"
            ]
          },
          "metadata": {
            "tags": [],
            "needs_background": "light"
          }
        }
      ]
    },
    {
      "cell_type": "markdown",
      "metadata": {
        "id": "chxHBJCX9D5W"
      },
      "source": [
        "#Conclusion for the All ALgorithms Perfomance:\n",
        "##1. All supervised algorithms that is KNN and Random forest gave almost the similar results to the dataset provided.Accuracy is almost same for each value of K from 1-21 as the data featuers are only the categorical features upto 2-3 values in each.\n",
        "##2. The Unsupervised algoithm show the grouping of the clusters in right way but we can't visualoize it from graoh as it is drawn in 2D and also the Dataset contains only the categorical values in the field of features also which gets less data to be coreralted on basis of 2-3 featuers.\n",
        "##3.I would say that If we first do the unsupervised learning algorithms and would find the clusters and based on that we can find the outliers from the Data and can be removed and should transfer the remaining dataset to the supervised learning algorithm for the classification.This can lead to good model making. \n",
        "##4. I would say that the Supervised algorithm are the best in the terms of finding the accuracy and prediction model as they are already having the labelled data and just they want to learn from it , while the unsupervised has to learn from the data itself and has more complex to learn and accuracy may be affected."
      ]
    }
  ]
}