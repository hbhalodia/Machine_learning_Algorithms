{
  "nbformat": 4,
  "nbformat_minor": 0,
  "metadata": {
    "colab": {
      "name": "LR_Normal_Equation.ipynb",
      "provenance": [],
      "collapsed_sections": []
    },
    "kernelspec": {
      "name": "python3",
      "display_name": "Python 3"
    }
  },
  "cells": [
    {
      "cell_type": "code",
      "metadata": {
        "id": "e5LHfNgsbVo6"
      },
      "source": [
        "import numpy as np  #does mathematical operation\r\n",
        "import matplotlib.pyplot as plt #For plotting the graphs\r\n",
        "import pandas as pd #making the data frames and import the csv files"
      ],
      "execution_count": null,
      "outputs": []
    },
    {
      "cell_type": "code",
      "metadata": {
        "colab": {
          "base_uri": "https://localhost:8080/"
        },
        "id": "oyM7oieAbdfO",
        "outputId": "c3fd591e-3139-47f5-b8af-5c04fb12ce54"
      },
      "source": [
        "from google.colab import drive #to import the google drive data\r\n",
        "drive.mount('/content/drive')   # to mount the drive data into the colab cloud and enter the activation code"
      ],
      "execution_count": null,
      "outputs": [
        {
          "output_type": "stream",
          "text": [
            "Drive already mounted at /content/drive; to attempt to forcibly remount, call drive.mount(\"/content/drive\", force_remount=True).\n"
          ],
          "name": "stdout"
        }
      ]
    },
    {
      "cell_type": "code",
      "metadata": {
        "colab": {
          "base_uri": "https://localhost:8080/"
        },
        "id": "kur5u159bgzN",
        "outputId": "51d284d2-8c7d-480b-dc1e-0f9f96e7793f"
      },
      "source": [
        "cd /content/drive/\"My Drive/Colab Notebooks/LR_normal_equation_dataset\" "
      ],
      "execution_count": null,
      "outputs": [
        {
          "output_type": "stream",
          "text": [
            "/content/drive/My Drive/Colab Notebooks/LR_normal_equation_dataset\n"
          ],
          "name": "stdout"
        }
      ]
    },
    {
      "cell_type": "code",
      "metadata": {
        "colab": {
          "base_uri": "https://localhost:8080/"
        },
        "id": "o0BrRToPcH8m",
        "outputId": "86d491f2-a36b-4ca7-bee5-b58da120715c"
      },
      "source": [
        "coloumnName = ['X','Y']\r\n",
        "dataset = pd.read_csv(\"ex1data1.txt\",names=coloumnName)\r\n",
        "print(dataset)\r\n",
        "dataset.shape   "
      ],
      "execution_count": null,
      "outputs": [
        {
          "output_type": "stream",
          "text": [
            "          X         Y\n",
            "0    6.1101  17.59200\n",
            "1    5.5277   9.13020\n",
            "2    8.5186  13.66200\n",
            "3    7.0032  11.85400\n",
            "4    5.8598   6.82330\n",
            "..      ...       ...\n",
            "92   5.8707   7.20290\n",
            "93   5.3054   1.98690\n",
            "94   8.2934   0.14454\n",
            "95  13.3940   9.05510\n",
            "96   5.4369   0.61705\n",
            "\n",
            "[97 rows x 2 columns]\n"
          ],
          "name": "stdout"
        },
        {
          "output_type": "execute_result",
          "data": {
            "text/plain": [
              "(97, 2)"
            ]
          },
          "metadata": {
            "tags": []
          },
          "execution_count": 17
        }
      ]
    },
    {
      "cell_type": "code",
      "metadata": {
        "colab": {
          "base_uri": "https://localhost:8080/",
          "height": 284
        },
        "id": "PmuJ5bCWcqRo",
        "outputId": "a9a975cd-6c5e-4244-8180-bab740d21971"
      },
      "source": [
        "datasetdataframe =  pd.DataFrame(dataset)\r\n",
        "datasetdataframe.describe()       #to check the mean median , max etc"
      ],
      "execution_count": null,
      "outputs": [
        {
          "output_type": "execute_result",
          "data": {
            "text/html": [
              "<div>\n",
              "<style scoped>\n",
              "    .dataframe tbody tr th:only-of-type {\n",
              "        vertical-align: middle;\n",
              "    }\n",
              "\n",
              "    .dataframe tbody tr th {\n",
              "        vertical-align: top;\n",
              "    }\n",
              "\n",
              "    .dataframe thead th {\n",
              "        text-align: right;\n",
              "    }\n",
              "</style>\n",
              "<table border=\"1\" class=\"dataframe\">\n",
              "  <thead>\n",
              "    <tr style=\"text-align: right;\">\n",
              "      <th></th>\n",
              "      <th>X</th>\n",
              "      <th>Y</th>\n",
              "    </tr>\n",
              "  </thead>\n",
              "  <tbody>\n",
              "    <tr>\n",
              "      <th>count</th>\n",
              "      <td>97.000000</td>\n",
              "      <td>97.000000</td>\n",
              "    </tr>\n",
              "    <tr>\n",
              "      <th>mean</th>\n",
              "      <td>8.159800</td>\n",
              "      <td>5.839135</td>\n",
              "    </tr>\n",
              "    <tr>\n",
              "      <th>std</th>\n",
              "      <td>3.869884</td>\n",
              "      <td>5.510262</td>\n",
              "    </tr>\n",
              "    <tr>\n",
              "      <th>min</th>\n",
              "      <td>5.026900</td>\n",
              "      <td>-2.680700</td>\n",
              "    </tr>\n",
              "    <tr>\n",
              "      <th>25%</th>\n",
              "      <td>5.707700</td>\n",
              "      <td>1.986900</td>\n",
              "    </tr>\n",
              "    <tr>\n",
              "      <th>50%</th>\n",
              "      <td>6.589400</td>\n",
              "      <td>4.562300</td>\n",
              "    </tr>\n",
              "    <tr>\n",
              "      <th>75%</th>\n",
              "      <td>8.578100</td>\n",
              "      <td>7.046700</td>\n",
              "    </tr>\n",
              "    <tr>\n",
              "      <th>max</th>\n",
              "      <td>22.203000</td>\n",
              "      <td>24.147000</td>\n",
              "    </tr>\n",
              "  </tbody>\n",
              "</table>\n",
              "</div>"
            ],
            "text/plain": [
              "               X          Y\n",
              "count  97.000000  97.000000\n",
              "mean    8.159800   5.839135\n",
              "std     3.869884   5.510262\n",
              "min     5.026900  -2.680700\n",
              "25%     5.707700   1.986900\n",
              "50%     6.589400   4.562300\n",
              "75%     8.578100   7.046700\n",
              "max    22.203000  24.147000"
            ]
          },
          "metadata": {
            "tags": []
          },
          "execution_count": 18
        }
      ]
    },
    {
      "cell_type": "code",
      "metadata": {
        "colab": {
          "base_uri": "https://localhost:8080/",
          "height": 402
        },
        "id": "8Ztennwgc8jo",
        "outputId": "6fa32823-9599-40e2-a058-fc5e0e91d3da"
      },
      "source": [
        "X_value = datasetdataframe.iloc[0:datasetdataframe.shape[0],0:1]\r\n",
        "X_value"
      ],
      "execution_count": null,
      "outputs": [
        {
          "output_type": "execute_result",
          "data": {
            "text/html": [
              "<div>\n",
              "<style scoped>\n",
              "    .dataframe tbody tr th:only-of-type {\n",
              "        vertical-align: middle;\n",
              "    }\n",
              "\n",
              "    .dataframe tbody tr th {\n",
              "        vertical-align: top;\n",
              "    }\n",
              "\n",
              "    .dataframe thead th {\n",
              "        text-align: right;\n",
              "    }\n",
              "</style>\n",
              "<table border=\"1\" class=\"dataframe\">\n",
              "  <thead>\n",
              "    <tr style=\"text-align: right;\">\n",
              "      <th></th>\n",
              "      <th>X</th>\n",
              "    </tr>\n",
              "  </thead>\n",
              "  <tbody>\n",
              "    <tr>\n",
              "      <th>0</th>\n",
              "      <td>6.1101</td>\n",
              "    </tr>\n",
              "    <tr>\n",
              "      <th>1</th>\n",
              "      <td>5.5277</td>\n",
              "    </tr>\n",
              "    <tr>\n",
              "      <th>2</th>\n",
              "      <td>8.5186</td>\n",
              "    </tr>\n",
              "    <tr>\n",
              "      <th>3</th>\n",
              "      <td>7.0032</td>\n",
              "    </tr>\n",
              "    <tr>\n",
              "      <th>4</th>\n",
              "      <td>5.8598</td>\n",
              "    </tr>\n",
              "    <tr>\n",
              "      <th>...</th>\n",
              "      <td>...</td>\n",
              "    </tr>\n",
              "    <tr>\n",
              "      <th>92</th>\n",
              "      <td>5.8707</td>\n",
              "    </tr>\n",
              "    <tr>\n",
              "      <th>93</th>\n",
              "      <td>5.3054</td>\n",
              "    </tr>\n",
              "    <tr>\n",
              "      <th>94</th>\n",
              "      <td>8.2934</td>\n",
              "    </tr>\n",
              "    <tr>\n",
              "      <th>95</th>\n",
              "      <td>13.3940</td>\n",
              "    </tr>\n",
              "    <tr>\n",
              "      <th>96</th>\n",
              "      <td>5.4369</td>\n",
              "    </tr>\n",
              "  </tbody>\n",
              "</table>\n",
              "<p>97 rows × 1 columns</p>\n",
              "</div>"
            ],
            "text/plain": [
              "          X\n",
              "0    6.1101\n",
              "1    5.5277\n",
              "2    8.5186\n",
              "3    7.0032\n",
              "4    5.8598\n",
              "..      ...\n",
              "92   5.8707\n",
              "93   5.3054\n",
              "94   8.2934\n",
              "95  13.3940\n",
              "96   5.4369\n",
              "\n",
              "[97 rows x 1 columns]"
            ]
          },
          "metadata": {
            "tags": []
          },
          "execution_count": 19
        }
      ]
    },
    {
      "cell_type": "code",
      "metadata": {
        "colab": {
          "base_uri": "https://localhost:8080/",
          "height": 402
        },
        "id": "1iyLhTv7hi8p",
        "outputId": "c638b6ec-9a62-44de-9dd5-42dfe0fb0688"
      },
      "source": [
        "Y_value = datasetdataframe.iloc[0:datasetdataframe.shape[0],1:2]\r\n",
        "Y_value"
      ],
      "execution_count": null,
      "outputs": [
        {
          "output_type": "execute_result",
          "data": {
            "text/html": [
              "<div>\n",
              "<style scoped>\n",
              "    .dataframe tbody tr th:only-of-type {\n",
              "        vertical-align: middle;\n",
              "    }\n",
              "\n",
              "    .dataframe tbody tr th {\n",
              "        vertical-align: top;\n",
              "    }\n",
              "\n",
              "    .dataframe thead th {\n",
              "        text-align: right;\n",
              "    }\n",
              "</style>\n",
              "<table border=\"1\" class=\"dataframe\">\n",
              "  <thead>\n",
              "    <tr style=\"text-align: right;\">\n",
              "      <th></th>\n",
              "      <th>Y</th>\n",
              "    </tr>\n",
              "  </thead>\n",
              "  <tbody>\n",
              "    <tr>\n",
              "      <th>0</th>\n",
              "      <td>17.59200</td>\n",
              "    </tr>\n",
              "    <tr>\n",
              "      <th>1</th>\n",
              "      <td>9.13020</td>\n",
              "    </tr>\n",
              "    <tr>\n",
              "      <th>2</th>\n",
              "      <td>13.66200</td>\n",
              "    </tr>\n",
              "    <tr>\n",
              "      <th>3</th>\n",
              "      <td>11.85400</td>\n",
              "    </tr>\n",
              "    <tr>\n",
              "      <th>4</th>\n",
              "      <td>6.82330</td>\n",
              "    </tr>\n",
              "    <tr>\n",
              "      <th>...</th>\n",
              "      <td>...</td>\n",
              "    </tr>\n",
              "    <tr>\n",
              "      <th>92</th>\n",
              "      <td>7.20290</td>\n",
              "    </tr>\n",
              "    <tr>\n",
              "      <th>93</th>\n",
              "      <td>1.98690</td>\n",
              "    </tr>\n",
              "    <tr>\n",
              "      <th>94</th>\n",
              "      <td>0.14454</td>\n",
              "    </tr>\n",
              "    <tr>\n",
              "      <th>95</th>\n",
              "      <td>9.05510</td>\n",
              "    </tr>\n",
              "    <tr>\n",
              "      <th>96</th>\n",
              "      <td>0.61705</td>\n",
              "    </tr>\n",
              "  </tbody>\n",
              "</table>\n",
              "<p>97 rows × 1 columns</p>\n",
              "</div>"
            ],
            "text/plain": [
              "           Y\n",
              "0   17.59200\n",
              "1    9.13020\n",
              "2   13.66200\n",
              "3   11.85400\n",
              "4    6.82330\n",
              "..       ...\n",
              "92   7.20290\n",
              "93   1.98690\n",
              "94   0.14454\n",
              "95   9.05510\n",
              "96   0.61705\n",
              "\n",
              "[97 rows x 1 columns]"
            ]
          },
          "metadata": {
            "tags": []
          },
          "execution_count": 20
        }
      ]
    },
    {
      "cell_type": "code",
      "metadata": {
        "colab": {
          "base_uri": "https://localhost:8080/",
          "height": 265
        },
        "id": "vh-JKEyRhnc6",
        "outputId": "1e5e6734-03f4-4c28-a2a0-439df0235b1e"
      },
      "source": [
        "#plotting the Box-plot fr x and y values\r\n",
        "x_box_plot = X_value.boxplot(column=['X'])"
      ],
      "execution_count": null,
      "outputs": [
        {
          "output_type": "display_data",
          "data": {
            "image/png": "[encoded data removed]",
            "text/plain": [
              "<Figure size 432x288 with 1 Axes>"
            ]
          },
          "metadata": {
            "tags": [],
            "needs_background": "light"
          }
        }
      ]
    },
    {
      "cell_type": "code",
      "metadata": {
        "colab": {
          "base_uri": "https://localhost:8080/",
          "height": 266
        },
        "id": "8vnl2Hcehyac",
        "outputId": "880c17d1-33a1-4934-beae-8d7d6c91a716"
      },
      "source": [
        "#plotting the Box-plot fr x and y values\r\n",
        "y_box_plot = Y_value.boxplot(column=['Y'])"
      ],
      "execution_count": null,
      "outputs": [
        {
          "output_type": "display_data",
          "data": {
            "image/png": "[encoded data removed]",
            "text/plain": [
              "<Figure size 432x288 with 1 Axes>"
            ]
          },
          "metadata": {
            "tags": [],
            "needs_background": "light"
          }
        }
      ]
    },
    {
      "cell_type": "code",
      "metadata": {
        "id": "gbmPDfkIh48Y"
      },
      "source": [
        "plt.scatter(X_value,Y_value)\r\n",
        "plt.xticks(np.arange(4,20,step=2))\r\n",
        "plt.yticks(np.arange(4,20,step=2))\r\n",
        "plt.xlabel(\"x-value\")\r\n",
        "plt.ylabel(\"y-Value\")\r\n",
        "plt.title(\"Linear Regression 1st graph\")"
      ],
      "execution_count": null,
      "outputs": []
    },
    {
      "cell_type": "code",
      "metadata": {
        "id": "4JU4qCFbiAG1"
      },
      "source": [
        "X_values = X_value.values.reshape(X_value.size)\r\n",
        "X_values"
      ],
      "execution_count": null,
      "outputs": []
    },
    {
      "cell_type": "code",
      "metadata": {
        "id": "NTJWMZbji9LZ"
      },
      "source": [
        "Y_values = Y_value.values.reshape(Y_value.size)\r\n",
        "Y_values"
      ],
      "execution_count": null,
      "outputs": []
    },
    {
      "cell_type": "code",
      "metadata": {
        "id": "vzLgiyX7jBoe"
      },
      "source": [
        "X = np.array([np.ones(len(X_values)), X_values]).T     #x0 and x1 features\r\n",
        "Y = (Y_values[:, np.newaxis])"
      ],
      "execution_count": null,
      "outputs": []
    },
    {
      "cell_type": "code",
      "metadata": {
        "id": "w7xNXL0GkKA4"
      },
      "source": [
        "X"
      ],
      "execution_count": null,
      "outputs": []
    },
    {
      "cell_type": "code",
      "metadata": {
        "id": "9EKQ-iHxkKyr"
      },
      "source": [
        "Y"
      ],
      "execution_count": null,
      "outputs": []
    },
    {
      "cell_type": "code",
      "metadata": {
        "colab": {
          "base_uri": "https://localhost:8080/"
        },
        "id": "cSidB6sMkLdF",
        "outputId": "01e1c63f-b08b-4ad0-b296-42d6c51045bd"
      },
      "source": [
        "theta_array = np.linalg.inv(X.T.dot(X)).dot(X.T).dot(Y)         #Normal Equation Formula and calculate the theta array\r\n",
        "print(theta_array)"
      ],
      "execution_count": null,
      "outputs": [
        {
          "output_type": "stream",
          "text": [
            "[[-3.89578088]\n",
            " [ 1.19303364]]\n"
          ],
          "name": "stdout"
        }
      ]
    },
    {
      "cell_type": "code",
      "metadata": {
        "colab": {
          "base_uri": "https://localhost:8080/"
        },
        "id": "I-9zp-T2kpUr",
        "outputId": "cd4e73aa-b80a-441d-fd38-29adf38e9a56"
      },
      "source": [
        "theta_array[1][0]"
      ],
      "execution_count": null,
      "outputs": [
        {
          "output_type": "execute_result",
          "data": {
            "text/plain": [
              "1.1930336441895955"
            ]
          },
          "metadata": {
            "tags": []
          },
          "execution_count": 98
        }
      ]
    },
    {
      "cell_type": "code",
      "metadata": {
        "colab": {
          "base_uri": "https://localhost:8080/",
          "height": 266
        },
        "id": "s2prQXkVkTfv",
        "outputId": "4afdec01-0ad4-4485-b71b-cbe3a62c184a"
      },
      "source": [
        "y_new = X_values*theta_array[1][0]+theta_array[0][0]\r\n",
        "plt.plot(X_values,y_new,'r')\r\n",
        "plt.scatter(X_values,Y_values)\r\n",
        "plt.show()"
      ],
      "execution_count": null,
      "outputs": [
        {
          "output_type": "display_data",
          "data": {
            "image/png": "[encoded data removed]",
            "text/plain": [
              "<Figure size 432x288 with 1 Axes>"
            ]
          },
          "metadata": {
            "tags": [],
            "needs_background": "light"
          }
        }
      ]
    },
    {
      "cell_type": "code",
      "metadata": {
        "id": "11muZJi1lGV-"
      },
      "source": [
        ""
      ],
      "execution_count": null,
      "outputs": []
    },
    {
      "cell_type": "markdown",
      "metadata": {
        "id": "rxK2IZBtm5QH"
      },
      "source": [
        "#Gradient Descent for the same dataset and the theta"
      ]
    },
    {
      "cell_type": "code",
      "metadata": {
        "id": "4IbTukwYnILl"
      },
      "source": [
        "#defining the Hypothesis    : H(x) = theta0 + theta1*x\r\n",
        "\r\n",
        "def hypothesis(theta_array,x):      #theta_array = [theta_array[0],theta_array[1]]\r\n",
        "    return theta_array[0]+(theta_array[1]*x)"
      ],
      "execution_count": null,
      "outputs": []
    },
    {
      "cell_type": "code",
      "metadata": {
        "id": "ShwTGbsPnA8W"
      },
      "source": [
        "#defining the cost funciton  : J(theta0,theta1) = 1/2m sum(1 to m)(h(x)-yi)^2\r\n",
        "\r\n",
        "def cost_function(theta_array,x,y,m):   #x and y are list of observation.\r\n",
        "    total_error = 0     #accumulate all the error\r\n",
        "    for i in range(m):\r\n",
        "        total_error+=(theta_array[0]+theta_array[1]*x[i] - y[i])**2\r\n",
        "\r\n",
        "    return total_error/(2*m)"
      ],
      "execution_count": null,
      "outputs": []
    },
    {
      "cell_type": "code",
      "metadata": {
        "id": "ciHKIQXTnQ6N"
      },
      "source": [
        "def gradient_descent(theta_array,x,y,alpha,m):\r\n",
        "    summation_theta0 = 0\r\n",
        "    summation_theta1 = 0\r\n",
        "\r\n",
        "    for i in range(m):\r\n",
        "        summation_theta0+=((theta_array[0]+theta_array[1]*x[i]) - y[i])\r\n",
        "        summation_theta1+=(((theta_array[0]+theta_array[1]*x[i]) - y[i])*x[i])\r\n",
        "\r\n",
        "    new_theta0 = theta_array[0]-alpha*(summation_theta0/m)\r\n",
        "    new_theta1 = theta_array[1]-alpha*(summation_theta1/m)\r\n",
        "\r\n",
        "    updated_theta_array = [new_theta0,new_theta1]\r\n",
        "    #print(updated_theta_array)\r\n",
        "    return updated_theta_array"
      ],
      "execution_count": null,
      "outputs": []
    },
    {
      "cell_type": "code",
      "metadata": {
        "id": "6S6AtZ77nTF3"
      },
      "source": [
        "def training(x,y,alpha,iters):\r\n",
        "    theta_0 = 0\r\n",
        "    theta_1 = 0\r\n",
        "    theta_array = [theta_0,theta_1]\r\n",
        "\r\n",
        "    m=x.size                #size of the data set or the number of observation\r\n",
        "    cost_function_values = []\r\n",
        "    for i in range(iters):\r\n",
        "        theta_array = gradient_descent(theta_array,x,y,alpha,m)     #taking the new theta's\r\n",
        "        cost_function_values.append(cost_function(theta_array,x,y,m))   #taking all the cost function values and storing\r\n",
        "        '''\r\n",
        "        if(i%6==0):\r\n",
        "            y_new=x*theta_array[1]+theta_array[0]       #linear regression line\r\n",
        "            plt.plot(x,y_new,'r')\r\n",
        "            plt.scatter(x,y)\r\n",
        "            plt.show()\r\n",
        "        '''\r\n",
        "\r\n",
        "    x=np.arange(0,len(cost_function_values),step=1)\r\n",
        "    plt.plot(x,cost_function_values,\"-b\")\r\n",
        "    plt.xlabel(\"number of iteration\")\r\n",
        "    plt.ylabel(\"Cost/loss values\")\r\n",
        "    plt.title(\"cost Function curve\")\r\n",
        "    plt.show()\r\n",
        "\r\n",
        "    return theta_array"
      ],
      "execution_count": null,
      "outputs": []
    },
    {
      "cell_type": "code",
      "metadata": {
        "colab": {
          "base_uri": "https://localhost:8080/",
          "height": 295
        },
        "id": "k6ZYERl8nVQf",
        "outputId": "a8ca1566-578f-4a39-d3c3-46b20d52e9ce"
      },
      "source": [
        "alpha = 0.012\r\n",
        "iteration = 5000\r\n",
        "final_theta = training(X_values,Y_values,alpha,iteration)"
      ],
      "execution_count": null,
      "outputs": [
        {
          "output_type": "display_data",
          "data": {
            "image/png": "[encoded data removed]",
            "text/plain": [
              "<Figure size 432x288 with 1 Axes>"
            ]
          },
          "metadata": {
            "tags": [],
            "needs_background": "light"
          }
        }
      ]
    },
    {
      "cell_type": "code",
      "metadata": {
        "colab": {
          "base_uri": "https://localhost:8080/"
        },
        "id": "L-szUXWtneLJ",
        "outputId": "7b7a4c50-aafc-4fb4-a579-22f92c54e742"
      },
      "source": [
        "print(theta_array)      #normal equation theta\r\n",
        "print(final_theta)      #gradient descent theta"
      ],
      "execution_count": null,
      "outputs": [
        {
          "output_type": "stream",
          "text": [
            "[[-3.89578088]\n",
            " [ 1.19303364]]\n",
            "[-3.895701963058936, 1.1930257162964586]\n"
          ],
          "name": "stdout"
        }
      ]
    },
    {
      "cell_type": "code",
      "metadata": {
        "id": "tO5jKCUuoyIr"
      },
      "source": [
        ""
      ],
      "execution_count": null,
      "outputs": []
    }
  ]
}