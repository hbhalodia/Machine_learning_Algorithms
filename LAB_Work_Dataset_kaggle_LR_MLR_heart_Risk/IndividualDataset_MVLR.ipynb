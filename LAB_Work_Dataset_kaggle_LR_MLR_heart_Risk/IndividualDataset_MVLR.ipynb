{
  "nbformat": 4,
  "nbformat_minor": 0,
  "metadata": {
    "colab": {
      "name": "IndividualDataset_MVLR.ipynb",
      "provenance": [],
      "collapsed_sections": []
    },
    "kernelspec": {
      "name": "python3",
      "display_name": "Python 3"
    }
  },
  "cells": [
    {
      "cell_type": "markdown",
      "metadata": {
        "id": "t5TzGcrXl7IM"
      },
      "source": [
        "#**Dataset for predictiong the percent of admission chance in University based on differenct Exam scores.**\r\n",
        "\r\n",
        "##**Dataset Features :**\r\n",
        "###1. GRE Score\r\n",
        "###2. TOFEL Score\r\n",
        "###3. University Rating\r\n",
        "###4. SOP Score\r\n",
        "###5. LOR Score\r\n",
        "###6. CGPA \r\n",
        "###7. Reasearch : An extra feature can be omit while doing training\r\n",
        "\r\n",
        "##**Prediction :**\r\n",
        "###1. How much % is Chance of Admission"
      ]
    },
    {
      "cell_type": "code",
      "metadata": {
        "id": "WhXWQDWZpl0S"
      },
      "source": [
        "import numpy as np  #does mathematical operation\r\n",
        "import matplotlib.pyplot as plt #For plotting the graphs\r\n",
        "import pandas as pd #making the data frames and import the csv files"
      ],
      "execution_count": 1,
      "outputs": []
    },
    {
      "cell_type": "code",
      "metadata": {
        "id": "gro0-MlHp6n3"
      },
      "source": [
        "from google.colab import drive #to import the google drive data"
      ],
      "execution_count": 2,
      "outputs": []
    },
    {
      "cell_type": "code",
      "metadata": {
        "colab": {
          "base_uri": "https://localhost:8080/"
        },
        "id": "d0798XMop80Z",
        "outputId": "8b25c270-460e-499b-dd15-c0b68796b86e"
      },
      "source": [
        "drive.mount('/content/drive')   # to mount the drive data into the colab cloud and enter the activation code"
      ],
      "execution_count": 3,
      "outputs": [
        {
          "output_type": "stream",
          "text": [
            "Mounted at /content/drive\n"
          ],
          "name": "stdout"
        }
      ]
    },
    {
      "cell_type": "code",
      "metadata": {
        "colab": {
          "base_uri": "https://localhost:8080/"
        },
        "id": "3r5RnoTCqESr",
        "outputId": "8d5661d6-3394-48c2-da0a-e058ee61d9f4"
      },
      "source": [
        "cd /content/drive/\"My Drive/Colab Notebooks/Individual_dataset_MVLR\" "
      ],
      "execution_count": 4,
      "outputs": [
        {
          "output_type": "stream",
          "text": [
            "/content/drive/My Drive/Colab Notebooks/Individual_dataset_MVLR\n"
          ],
          "name": "stdout"
        }
      ]
    },
    {
      "cell_type": "code",
      "metadata": {
        "colab": {
          "base_uri": "https://localhost:8080/"
        },
        "id": "GeWNbl8zqVYI",
        "outputId": "65adbb00-f962-44a8-b50c-92e375144d30"
      },
      "source": [
        "dataset = pd.read_csv(\"Admission_Predict.csv\")\r\n",
        "print(dataset)"
      ],
      "execution_count": 5,
      "outputs": [
        {
          "output_type": "stream",
          "text": [
            "     Serial No.  GRE Score  TOEFL Score  ...  CGPA  Research  Chance of Admit \n",
            "0             1        337          118  ...  9.65         1              0.92\n",
            "1             2        324          107  ...  8.87         1              0.76\n",
            "2             3        316          104  ...  8.00         1              0.72\n",
            "3             4        322          110  ...  8.67         1              0.80\n",
            "4             5        314          103  ...  8.21         0              0.65\n",
            "..          ...        ...          ...  ...   ...       ...               ...\n",
            "395         396        324          110  ...  9.04         1              0.82\n",
            "396         397        325          107  ...  9.11         1              0.84\n",
            "397         398        330          116  ...  9.45         1              0.91\n",
            "398         399        312          103  ...  8.78         0              0.67\n",
            "399         400        333          117  ...  9.66         1              0.95\n",
            "\n",
            "[400 rows x 9 columns]\n"
          ],
          "name": "stdout"
        }
      ]
    },
    {
      "cell_type": "code",
      "metadata": {
        "colab": {
          "base_uri": "https://localhost:8080/"
        },
        "id": "XrIje2GerpyJ",
        "outputId": "33a8cf79-c24d-4f0a-c15d-80c1a62f8ff3"
      },
      "source": [
        "dataset.shape"
      ],
      "execution_count": 6,
      "outputs": [
        {
          "output_type": "execute_result",
          "data": {
            "text/plain": [
              "(400, 9)"
            ]
          },
          "metadata": {
            "tags": []
          },
          "execution_count": 6
        }
      ]
    },
    {
      "cell_type": "code",
      "metadata": {
        "colab": {
          "base_uri": "https://localhost:8080/",
          "height": 284
        },
        "id": "v-0Whicqrt3F",
        "outputId": "a4265600-2048-4b91-b08f-1cd0328be69d"
      },
      "source": [
        "dataset.describe()"
      ],
      "execution_count": 7,
      "outputs": [
        {
          "output_type": "execute_result",
          "data": {
            "text/html": [
              "<div>\n",
              "<style scoped>\n",
              "    .dataframe tbody tr th:only-of-type {\n",
              "        vertical-align: middle;\n",
              "    }\n",
              "\n",
              "    .dataframe tbody tr th {\n",
              "        vertical-align: top;\n",
              "    }\n",
              "\n",
              "    .dataframe thead th {\n",
              "        text-align: right;\n",
              "    }\n",
              "</style>\n",
              "<table border=\"1\" class=\"dataframe\">\n",
              "  <thead>\n",
              "    <tr style=\"text-align: right;\">\n",
              "      <th></th>\n",
              "      <th>Serial No.</th>\n",
              "      <th>GRE Score</th>\n",
              "      <th>TOEFL Score</th>\n",
              "      <th>University Rating</th>\n",
              "      <th>SOP</th>\n",
              "      <th>LOR</th>\n",
              "      <th>CGPA</th>\n",
              "      <th>Research</th>\n",
              "      <th>Chance of Admit</th>\n",
              "    </tr>\n",
              "  </thead>\n",
              "  <tbody>\n",
              "    <tr>\n",
              "      <th>count</th>\n",
              "      <td>400.000000</td>\n",
              "      <td>400.000000</td>\n",
              "      <td>400.000000</td>\n",
              "      <td>400.000000</td>\n",
              "      <td>400.000000</td>\n",
              "      <td>400.000000</td>\n",
              "      <td>400.000000</td>\n",
              "      <td>400.000000</td>\n",
              "      <td>400.000000</td>\n",
              "    </tr>\n",
              "    <tr>\n",
              "      <th>mean</th>\n",
              "      <td>200.500000</td>\n",
              "      <td>316.807500</td>\n",
              "      <td>107.410000</td>\n",
              "      <td>3.087500</td>\n",
              "      <td>3.400000</td>\n",
              "      <td>3.452500</td>\n",
              "      <td>8.598925</td>\n",
              "      <td>0.547500</td>\n",
              "      <td>0.724350</td>\n",
              "    </tr>\n",
              "    <tr>\n",
              "      <th>std</th>\n",
              "      <td>115.614301</td>\n",
              "      <td>11.473646</td>\n",
              "      <td>6.069514</td>\n",
              "      <td>1.143728</td>\n",
              "      <td>1.006869</td>\n",
              "      <td>0.898478</td>\n",
              "      <td>0.596317</td>\n",
              "      <td>0.498362</td>\n",
              "      <td>0.142609</td>\n",
              "    </tr>\n",
              "    <tr>\n",
              "      <th>min</th>\n",
              "      <td>1.000000</td>\n",
              "      <td>290.000000</td>\n",
              "      <td>92.000000</td>\n",
              "      <td>1.000000</td>\n",
              "      <td>1.000000</td>\n",
              "      <td>1.000000</td>\n",
              "      <td>6.800000</td>\n",
              "      <td>0.000000</td>\n",
              "      <td>0.340000</td>\n",
              "    </tr>\n",
              "    <tr>\n",
              "      <th>25%</th>\n",
              "      <td>100.750000</td>\n",
              "      <td>308.000000</td>\n",
              "      <td>103.000000</td>\n",
              "      <td>2.000000</td>\n",
              "      <td>2.500000</td>\n",
              "      <td>3.000000</td>\n",
              "      <td>8.170000</td>\n",
              "      <td>0.000000</td>\n",
              "      <td>0.640000</td>\n",
              "    </tr>\n",
              "    <tr>\n",
              "      <th>50%</th>\n",
              "      <td>200.500000</td>\n",
              "      <td>317.000000</td>\n",
              "      <td>107.000000</td>\n",
              "      <td>3.000000</td>\n",
              "      <td>3.500000</td>\n",
              "      <td>3.500000</td>\n",
              "      <td>8.610000</td>\n",
              "      <td>1.000000</td>\n",
              "      <td>0.730000</td>\n",
              "    </tr>\n",
              "    <tr>\n",
              "      <th>75%</th>\n",
              "      <td>300.250000</td>\n",
              "      <td>325.000000</td>\n",
              "      <td>112.000000</td>\n",
              "      <td>4.000000</td>\n",
              "      <td>4.000000</td>\n",
              "      <td>4.000000</td>\n",
              "      <td>9.062500</td>\n",
              "      <td>1.000000</td>\n",
              "      <td>0.830000</td>\n",
              "    </tr>\n",
              "    <tr>\n",
              "      <th>max</th>\n",
              "      <td>400.000000</td>\n",
              "      <td>340.000000</td>\n",
              "      <td>120.000000</td>\n",
              "      <td>5.000000</td>\n",
              "      <td>5.000000</td>\n",
              "      <td>5.000000</td>\n",
              "      <td>9.920000</td>\n",
              "      <td>1.000000</td>\n",
              "      <td>0.970000</td>\n",
              "    </tr>\n",
              "  </tbody>\n",
              "</table>\n",
              "</div>"
            ],
            "text/plain": [
              "       Serial No.   GRE Score  ...    Research  Chance of Admit \n",
              "count  400.000000  400.000000  ...  400.000000        400.000000\n",
              "mean   200.500000  316.807500  ...    0.547500          0.724350\n",
              "std    115.614301   11.473646  ...    0.498362          0.142609\n",
              "min      1.000000  290.000000  ...    0.000000          0.340000\n",
              "25%    100.750000  308.000000  ...    0.000000          0.640000\n",
              "50%    200.500000  317.000000  ...    1.000000          0.730000\n",
              "75%    300.250000  325.000000  ...    1.000000          0.830000\n",
              "max    400.000000  340.000000  ...    1.000000          0.970000\n",
              "\n",
              "[8 rows x 9 columns]"
            ]
          },
          "metadata": {
            "tags": []
          },
          "execution_count": 7
        }
      ]
    },
    {
      "cell_type": "code",
      "metadata": {
        "colab": {
          "base_uri": "https://localhost:8080/",
          "height": 402
        },
        "id": "XP9CC9IerwyC",
        "outputId": "5238b507-ecee-478c-8bb0-6a012c1d146d"
      },
      "source": [
        "dataset.dropna()"
      ],
      "execution_count": 8,
      "outputs": [
        {
          "output_type": "execute_result",
          "data": {
            "text/html": [
              "<div>\n",
              "<style scoped>\n",
              "    .dataframe tbody tr th:only-of-type {\n",
              "        vertical-align: middle;\n",
              "    }\n",
              "\n",
              "    .dataframe tbody tr th {\n",
              "        vertical-align: top;\n",
              "    }\n",
              "\n",
              "    .dataframe thead th {\n",
              "        text-align: right;\n",
              "    }\n",
              "</style>\n",
              "<table border=\"1\" class=\"dataframe\">\n",
              "  <thead>\n",
              "    <tr style=\"text-align: right;\">\n",
              "      <th></th>\n",
              "      <th>Serial No.</th>\n",
              "      <th>GRE Score</th>\n",
              "      <th>TOEFL Score</th>\n",
              "      <th>University Rating</th>\n",
              "      <th>SOP</th>\n",
              "      <th>LOR</th>\n",
              "      <th>CGPA</th>\n",
              "      <th>Research</th>\n",
              "      <th>Chance of Admit</th>\n",
              "    </tr>\n",
              "  </thead>\n",
              "  <tbody>\n",
              "    <tr>\n",
              "      <th>0</th>\n",
              "      <td>1</td>\n",
              "      <td>337</td>\n",
              "      <td>118</td>\n",
              "      <td>4</td>\n",
              "      <td>4.5</td>\n",
              "      <td>4.5</td>\n",
              "      <td>9.65</td>\n",
              "      <td>1</td>\n",
              "      <td>0.92</td>\n",
              "    </tr>\n",
              "    <tr>\n",
              "      <th>1</th>\n",
              "      <td>2</td>\n",
              "      <td>324</td>\n",
              "      <td>107</td>\n",
              "      <td>4</td>\n",
              "      <td>4.0</td>\n",
              "      <td>4.5</td>\n",
              "      <td>8.87</td>\n",
              "      <td>1</td>\n",
              "      <td>0.76</td>\n",
              "    </tr>\n",
              "    <tr>\n",
              "      <th>2</th>\n",
              "      <td>3</td>\n",
              "      <td>316</td>\n",
              "      <td>104</td>\n",
              "      <td>3</td>\n",
              "      <td>3.0</td>\n",
              "      <td>3.5</td>\n",
              "      <td>8.00</td>\n",
              "      <td>1</td>\n",
              "      <td>0.72</td>\n",
              "    </tr>\n",
              "    <tr>\n",
              "      <th>3</th>\n",
              "      <td>4</td>\n",
              "      <td>322</td>\n",
              "      <td>110</td>\n",
              "      <td>3</td>\n",
              "      <td>3.5</td>\n",
              "      <td>2.5</td>\n",
              "      <td>8.67</td>\n",
              "      <td>1</td>\n",
              "      <td>0.80</td>\n",
              "    </tr>\n",
              "    <tr>\n",
              "      <th>4</th>\n",
              "      <td>5</td>\n",
              "      <td>314</td>\n",
              "      <td>103</td>\n",
              "      <td>2</td>\n",
              "      <td>2.0</td>\n",
              "      <td>3.0</td>\n",
              "      <td>8.21</td>\n",
              "      <td>0</td>\n",
              "      <td>0.65</td>\n",
              "    </tr>\n",
              "    <tr>\n",
              "      <th>...</th>\n",
              "      <td>...</td>\n",
              "      <td>...</td>\n",
              "      <td>...</td>\n",
              "      <td>...</td>\n",
              "      <td>...</td>\n",
              "      <td>...</td>\n",
              "      <td>...</td>\n",
              "      <td>...</td>\n",
              "      <td>...</td>\n",
              "    </tr>\n",
              "    <tr>\n",
              "      <th>395</th>\n",
              "      <td>396</td>\n",
              "      <td>324</td>\n",
              "      <td>110</td>\n",
              "      <td>3</td>\n",
              "      <td>3.5</td>\n",
              "      <td>3.5</td>\n",
              "      <td>9.04</td>\n",
              "      <td>1</td>\n",
              "      <td>0.82</td>\n",
              "    </tr>\n",
              "    <tr>\n",
              "      <th>396</th>\n",
              "      <td>397</td>\n",
              "      <td>325</td>\n",
              "      <td>107</td>\n",
              "      <td>3</td>\n",
              "      <td>3.0</td>\n",
              "      <td>3.5</td>\n",
              "      <td>9.11</td>\n",
              "      <td>1</td>\n",
              "      <td>0.84</td>\n",
              "    </tr>\n",
              "    <tr>\n",
              "      <th>397</th>\n",
              "      <td>398</td>\n",
              "      <td>330</td>\n",
              "      <td>116</td>\n",
              "      <td>4</td>\n",
              "      <td>5.0</td>\n",
              "      <td>4.5</td>\n",
              "      <td>9.45</td>\n",
              "      <td>1</td>\n",
              "      <td>0.91</td>\n",
              "    </tr>\n",
              "    <tr>\n",
              "      <th>398</th>\n",
              "      <td>399</td>\n",
              "      <td>312</td>\n",
              "      <td>103</td>\n",
              "      <td>3</td>\n",
              "      <td>3.5</td>\n",
              "      <td>4.0</td>\n",
              "      <td>8.78</td>\n",
              "      <td>0</td>\n",
              "      <td>0.67</td>\n",
              "    </tr>\n",
              "    <tr>\n",
              "      <th>399</th>\n",
              "      <td>400</td>\n",
              "      <td>333</td>\n",
              "      <td>117</td>\n",
              "      <td>4</td>\n",
              "      <td>5.0</td>\n",
              "      <td>4.0</td>\n",
              "      <td>9.66</td>\n",
              "      <td>1</td>\n",
              "      <td>0.95</td>\n",
              "    </tr>\n",
              "  </tbody>\n",
              "</table>\n",
              "<p>400 rows × 9 columns</p>\n",
              "</div>"
            ],
            "text/plain": [
              "     Serial No.  GRE Score  TOEFL Score  ...  CGPA  Research  Chance of Admit \n",
              "0             1        337          118  ...  9.65         1              0.92\n",
              "1             2        324          107  ...  8.87         1              0.76\n",
              "2             3        316          104  ...  8.00         1              0.72\n",
              "3             4        322          110  ...  8.67         1              0.80\n",
              "4             5        314          103  ...  8.21         0              0.65\n",
              "..          ...        ...          ...  ...   ...       ...               ...\n",
              "395         396        324          110  ...  9.04         1              0.82\n",
              "396         397        325          107  ...  9.11         1              0.84\n",
              "397         398        330          116  ...  9.45         1              0.91\n",
              "398         399        312          103  ...  8.78         0              0.67\n",
              "399         400        333          117  ...  9.66         1              0.95\n",
              "\n",
              "[400 rows x 9 columns]"
            ]
          },
          "metadata": {
            "tags": []
          },
          "execution_count": 8
        }
      ]
    },
    {
      "cell_type": "code",
      "metadata": {
        "id": "Y-bahVn-sftr"
      },
      "source": [
        "#feature Normalization\r\n",
        "def feature_normalization(X):\r\n",
        "    mean = np.mean(X,axis=0)\r\n",
        "    std = np.std(X,axis=0)\r\n",
        "    X_norm = (X-mean)/std\r\n",
        "\r\n",
        "    return X_norm,mean,std"
      ],
      "execution_count": 9,
      "outputs": []
    },
    {
      "cell_type": "code",
      "metadata": {
        "id": "-FPUkKdlrz5l"
      },
      "source": [
        "#taking each feature individually from the dataset.\r\n",
        "Gre_score = dataset.iloc[0:dataset.shape[0],1:2]\r\n",
        "TOEFL_score = dataset.iloc[0:dataset.shape[0],2:3]\r\n",
        "University_rating = dataset.iloc[0:dataset.shape[0],3:4]\r\n",
        "Sop_score = dataset.iloc[0:dataset.shape[0],4:5]\r\n",
        "Lor_score = dataset.iloc[0:dataset.shape[0],5:6]\r\n",
        "CGPA_score = dataset.iloc[0:dataset.shape[0],6:7]\r\n",
        "Reasearch = dataset.iloc[0:dataset.shape[0],7:8]\r\n",
        "Chance_of_Admit = dataset.iloc[0:dataset.shape[0],8:9]"
      ],
      "execution_count": 10,
      "outputs": []
    },
    {
      "cell_type": "code",
      "metadata": {
        "colab": {
          "base_uri": "https://localhost:8080/",
          "height": 873
        },
        "id": "ICKMyYaQwzeU",
        "outputId": "88759786-6779-4c29-ed36-5832890af100"
      },
      "source": [
        "#plotting the prediction chance_of_admit with each data point or feature.\r\n",
        "fig,axes = plt.subplots(figsize=(12,12),nrows=3,ncols=2)\r\n",
        "\r\n",
        "axes[0][0].scatter(Gre_score,Chance_of_Admit,color='b')\r\n",
        "axes[0][0].set_xlabel(\"Gre Score\")\r\n",
        "axes[0][0].set_ylabel(\"Admition Chance\")\r\n",
        "axes[0][0].set_title(\"Gre score vs Admition chance\")\r\n",
        "\r\n",
        "axes[0][1].scatter(TOEFL_score,Chance_of_Admit,color='g')\r\n",
        "axes[0][1].set_xlabel(\"TOEFL_score\")\r\n",
        "axes[0][1].set_ylabel(\"Admition Chance\")\r\n",
        "axes[0][1].set_title(\"TOEFL_score vs Admition chance\")\r\n",
        "\r\n",
        "axes[1][0].scatter(University_rating,Chance_of_Admit,color='r')\r\n",
        "axes[1][0].set_xlabel(\"Gre Score\")\r\n",
        "axes[1][0].set_ylabel(\"Admition Chance\")\r\n",
        "axes[1][0].set_title(\"University_rating vs Admition chance\")\r\n",
        "\r\n",
        "axes[1][1].scatter(Sop_score,Chance_of_Admit,color='y')\r\n",
        "axes[1][1].set_xlabel(\"Sop_score\")\r\n",
        "axes[1][1].set_ylabel(\"Admition Chance\")\r\n",
        "axes[1][1].set_title(\"Sop_score vs Admition chance\")\r\n",
        "\r\n",
        "axes[2][0].scatter(Lor_score,Chance_of_Admit,color='orange')\r\n",
        "axes[2][0].set_xlabel(\"Lor_score\")\r\n",
        "axes[2][0].set_ylabel(\"Admition Chance\")\r\n",
        "axes[2][0].set_title(\"Lor_score vs Admition chance\")\r\n",
        "\r\n",
        "axes[2][1].scatter(CGPA_score,Chance_of_Admit,color='pink')\r\n",
        "axes[2][1].set_xlabel(\"CGPA_score\")\r\n",
        "axes[2][1].set_ylabel(\"Admition Chance\")\r\n",
        "axes[2][1].set_title(\"CGPA_score vs Admition chance\")\r\n",
        "\r\n",
        "plt.tight_layout()"
      ],
      "execution_count": 11,
      "outputs": [
        {
          "output_type": "display_data",
          "data": {
            "image/png": "[encoded data removed]",
            "text/plain": [
              "<Figure size 864x864 with 6 Axes>"
            ]
          },
          "metadata": {
            "tags": [],
            "needs_background": "light"
          }
        }
      ]
    },
    {
      "cell_type": "code",
      "metadata": {
        "colab": {
          "base_uri": "https://localhost:8080/"
        },
        "id": "KriHUlF-EUT-",
        "outputId": "a2740b84-7e8d-4e59-afc9-8a871fa69544"
      },
      "source": [
        "type(dataset)"
      ],
      "execution_count": 12,
      "outputs": [
        {
          "output_type": "execute_result",
          "data": {
            "text/plain": [
              "pandas.core.frame.DataFrame"
            ]
          },
          "metadata": {
            "tags": []
          },
          "execution_count": 12
        }
      ]
    },
    {
      "cell_type": "code",
      "metadata": {
        "id": "tRn0Fis-x_m8"
      },
      "source": [
        "data = dataset.values       #dataFrames to array\r\n",
        "n = len(data[:,-1])\r\n",
        "X=data[:,1:8].reshape(n,7)\r\n",
        "X_norm,mean,std = feature_normalization(X)"
      ],
      "execution_count": 13,
      "outputs": []
    },
    {
      "cell_type": "code",
      "metadata": {
        "colab": {
          "base_uri": "https://localhost:8080/"
        },
        "id": "JaYe9e6q3QC1",
        "outputId": "2ce92a1b-535b-4481-c0be-86f4aa588dce"
      },
      "source": [
        "mean"
      ],
      "execution_count": 14,
      "outputs": [
        {
          "output_type": "execute_result",
          "data": {
            "text/plain": [
              "array([316.8075  , 107.41    ,   3.0875  ,   3.4     ,   3.4525  ,\n",
              "         8.598925,   0.5475  ])"
            ]
          },
          "metadata": {
            "tags": []
          },
          "execution_count": 14
        }
      ]
    },
    {
      "cell_type": "code",
      "metadata": {
        "colab": {
          "base_uri": "https://localhost:8080/"
        },
        "id": "j0IE0vAu3SEE",
        "outputId": "77cb263d-bdf0-46cd-fbe8-fc1d5ec91212"
      },
      "source": [
        "print(X_norm.shape[0])"
      ],
      "execution_count": 15,
      "outputs": [
        {
          "output_type": "stream",
          "text": [
            "400\n"
          ],
          "name": "stdout"
        }
      ]
    },
    {
      "cell_type": "code",
      "metadata": {
        "id": "HPHlfN3G3Vmv"
      },
      "source": [
        "Y=data[:,-1].reshape(n,1)   "
      ],
      "execution_count": 16,
      "outputs": []
    },
    {
      "cell_type": "code",
      "metadata": {
        "id": "cTdNVYJoDNUc",
        "colab": {
          "base_uri": "https://localhost:8080/"
        },
        "outputId": "917af1fb-4a06-4a39-92f9-08a47183d58b"
      },
      "source": [
        "Y"
      ],
      "execution_count": 17,
      "outputs": [
        {
          "output_type": "execute_result",
          "data": {
            "text/plain": [
              "array([[0.92],\n",
              "       [0.76],\n",
              "       [0.72],\n",
              "       [0.8 ],\n",
              "       [0.65],\n",
              "       [0.9 ],\n",
              "       [0.75],\n",
              "       [0.68],\n",
              "       [0.5 ],\n",
              "       [0.45],\n",
              "       [0.52],\n",
              "       [0.84],\n",
              "       [0.78],\n",
              "       [0.62],\n",
              "       [0.61],\n",
              "       [0.54],\n",
              "       [0.66],\n",
              "       [0.65],\n",
              "       [0.63],\n",
              "       [0.62],\n",
              "       [0.64],\n",
              "       [0.7 ],\n",
              "       [0.94],\n",
              "       [0.95],\n",
              "       [0.97],\n",
              "       [0.94],\n",
              "       [0.76],\n",
              "       [0.44],\n",
              "       [0.46],\n",
              "       [0.54],\n",
              "       [0.65],\n",
              "       [0.74],\n",
              "       [0.91],\n",
              "       [0.9 ],\n",
              "       [0.94],\n",
              "       [0.88],\n",
              "       [0.64],\n",
              "       [0.58],\n",
              "       [0.52],\n",
              "       [0.48],\n",
              "       [0.46],\n",
              "       [0.49],\n",
              "       [0.53],\n",
              "       [0.87],\n",
              "       [0.91],\n",
              "       [0.88],\n",
              "       [0.86],\n",
              "       [0.89],\n",
              "       [0.82],\n",
              "       [0.78],\n",
              "       [0.76],\n",
              "       [0.56],\n",
              "       [0.78],\n",
              "       [0.72],\n",
              "       [0.7 ],\n",
              "       [0.64],\n",
              "       [0.64],\n",
              "       [0.46],\n",
              "       [0.36],\n",
              "       [0.42],\n",
              "       [0.48],\n",
              "       [0.47],\n",
              "       [0.54],\n",
              "       [0.56],\n",
              "       [0.52],\n",
              "       [0.55],\n",
              "       [0.61],\n",
              "       [0.57],\n",
              "       [0.68],\n",
              "       [0.78],\n",
              "       [0.94],\n",
              "       [0.96],\n",
              "       [0.93],\n",
              "       [0.84],\n",
              "       [0.74],\n",
              "       [0.72],\n",
              "       [0.74],\n",
              "       [0.64],\n",
              "       [0.44],\n",
              "       [0.46],\n",
              "       [0.5 ],\n",
              "       [0.96],\n",
              "       [0.92],\n",
              "       [0.92],\n",
              "       [0.94],\n",
              "       [0.76],\n",
              "       [0.72],\n",
              "       [0.66],\n",
              "       [0.64],\n",
              "       [0.74],\n",
              "       [0.64],\n",
              "       [0.38],\n",
              "       [0.34],\n",
              "       [0.44],\n",
              "       [0.36],\n",
              "       [0.42],\n",
              "       [0.48],\n",
              "       [0.86],\n",
              "       [0.9 ],\n",
              "       [0.79],\n",
              "       [0.71],\n",
              "       [0.64],\n",
              "       [0.62],\n",
              "       [0.57],\n",
              "       [0.74],\n",
              "       [0.69],\n",
              "       [0.87],\n",
              "       [0.91],\n",
              "       [0.93],\n",
              "       [0.68],\n",
              "       [0.61],\n",
              "       [0.69],\n",
              "       [0.62],\n",
              "       [0.72],\n",
              "       [0.59],\n",
              "       [0.66],\n",
              "       [0.56],\n",
              "       [0.45],\n",
              "       [0.47],\n",
              "       [0.71],\n",
              "       [0.94],\n",
              "       [0.94],\n",
              "       [0.57],\n",
              "       [0.61],\n",
              "       [0.57],\n",
              "       [0.64],\n",
              "       [0.85],\n",
              "       [0.78],\n",
              "       [0.84],\n",
              "       [0.92],\n",
              "       [0.96],\n",
              "       [0.77],\n",
              "       [0.71],\n",
              "       [0.79],\n",
              "       [0.89],\n",
              "       [0.82],\n",
              "       [0.76],\n",
              "       [0.71],\n",
              "       [0.8 ],\n",
              "       [0.78],\n",
              "       [0.84],\n",
              "       [0.9 ],\n",
              "       [0.92],\n",
              "       [0.97],\n",
              "       [0.8 ],\n",
              "       [0.81],\n",
              "       [0.75],\n",
              "       [0.83],\n",
              "       [0.96],\n",
              "       [0.79],\n",
              "       [0.93],\n",
              "       [0.94],\n",
              "       [0.86],\n",
              "       [0.79],\n",
              "       [0.8 ],\n",
              "       [0.77],\n",
              "       [0.7 ],\n",
              "       [0.65],\n",
              "       [0.61],\n",
              "       [0.52],\n",
              "       [0.57],\n",
              "       [0.53],\n",
              "       [0.67],\n",
              "       [0.68],\n",
              "       [0.81],\n",
              "       [0.78],\n",
              "       [0.65],\n",
              "       [0.64],\n",
              "       [0.64],\n",
              "       [0.65],\n",
              "       [0.68],\n",
              "       [0.89],\n",
              "       [0.86],\n",
              "       [0.89],\n",
              "       [0.87],\n",
              "       [0.85],\n",
              "       [0.9 ],\n",
              "       [0.82],\n",
              "       [0.72],\n",
              "       [0.73],\n",
              "       [0.71],\n",
              "       [0.71],\n",
              "       [0.68],\n",
              "       [0.75],\n",
              "       [0.72],\n",
              "       [0.89],\n",
              "       [0.84],\n",
              "       [0.93],\n",
              "       [0.93],\n",
              "       [0.88],\n",
              "       [0.9 ],\n",
              "       [0.87],\n",
              "       [0.86],\n",
              "       [0.94],\n",
              "       [0.77],\n",
              "       [0.78],\n",
              "       [0.73],\n",
              "       [0.73],\n",
              "       [0.7 ],\n",
              "       [0.72],\n",
              "       [0.73],\n",
              "       [0.72],\n",
              "       [0.97],\n",
              "       [0.97],\n",
              "       [0.69],\n",
              "       [0.57],\n",
              "       [0.63],\n",
              "       [0.66],\n",
              "       [0.64],\n",
              "       [0.68],\n",
              "       [0.79],\n",
              "       [0.82],\n",
              "       [0.95],\n",
              "       [0.96],\n",
              "       [0.94],\n",
              "       [0.93],\n",
              "       [0.91],\n",
              "       [0.85],\n",
              "       [0.84],\n",
              "       [0.74],\n",
              "       [0.76],\n",
              "       [0.75],\n",
              "       [0.76],\n",
              "       [0.71],\n",
              "       [0.67],\n",
              "       [0.61],\n",
              "       [0.63],\n",
              "       [0.64],\n",
              "       [0.71],\n",
              "       [0.82],\n",
              "       [0.73],\n",
              "       [0.74],\n",
              "       [0.69],\n",
              "       [0.64],\n",
              "       [0.91],\n",
              "       [0.88],\n",
              "       [0.85],\n",
              "       [0.86],\n",
              "       [0.7 ],\n",
              "       [0.59],\n",
              "       [0.6 ],\n",
              "       [0.65],\n",
              "       [0.7 ],\n",
              "       [0.76],\n",
              "       [0.63],\n",
              "       [0.81],\n",
              "       [0.72],\n",
              "       [0.71],\n",
              "       [0.8 ],\n",
              "       [0.77],\n",
              "       [0.74],\n",
              "       [0.7 ],\n",
              "       [0.71],\n",
              "       [0.93],\n",
              "       [0.85],\n",
              "       [0.79],\n",
              "       [0.76],\n",
              "       [0.78],\n",
              "       [0.77],\n",
              "       [0.9 ],\n",
              "       [0.87],\n",
              "       [0.71],\n",
              "       [0.7 ],\n",
              "       [0.7 ],\n",
              "       [0.75],\n",
              "       [0.71],\n",
              "       [0.72],\n",
              "       [0.73],\n",
              "       [0.83],\n",
              "       [0.77],\n",
              "       [0.72],\n",
              "       [0.54],\n",
              "       [0.49],\n",
              "       [0.52],\n",
              "       [0.58],\n",
              "       [0.78],\n",
              "       [0.89],\n",
              "       [0.7 ],\n",
              "       [0.66],\n",
              "       [0.67],\n",
              "       [0.68],\n",
              "       [0.8 ],\n",
              "       [0.81],\n",
              "       [0.8 ],\n",
              "       [0.94],\n",
              "       [0.93],\n",
              "       [0.92],\n",
              "       [0.89],\n",
              "       [0.82],\n",
              "       [0.79],\n",
              "       [0.58],\n",
              "       [0.56],\n",
              "       [0.56],\n",
              "       [0.64],\n",
              "       [0.61],\n",
              "       [0.68],\n",
              "       [0.76],\n",
              "       [0.86],\n",
              "       [0.9 ],\n",
              "       [0.71],\n",
              "       [0.62],\n",
              "       [0.66],\n",
              "       [0.65],\n",
              "       [0.73],\n",
              "       [0.62],\n",
              "       [0.74],\n",
              "       [0.79],\n",
              "       [0.8 ],\n",
              "       [0.69],\n",
              "       [0.7 ],\n",
              "       [0.76],\n",
              "       [0.84],\n",
              "       [0.78],\n",
              "       [0.67],\n",
              "       [0.66],\n",
              "       [0.65],\n",
              "       [0.54],\n",
              "       [0.58],\n",
              "       [0.79],\n",
              "       [0.8 ],\n",
              "       [0.75],\n",
              "       [0.73],\n",
              "       [0.72],\n",
              "       [0.62],\n",
              "       [0.67],\n",
              "       [0.81],\n",
              "       [0.63],\n",
              "       [0.69],\n",
              "       [0.8 ],\n",
              "       [0.43],\n",
              "       [0.8 ],\n",
              "       [0.73],\n",
              "       [0.75],\n",
              "       [0.71],\n",
              "       [0.73],\n",
              "       [0.83],\n",
              "       [0.72],\n",
              "       [0.94],\n",
              "       [0.81],\n",
              "       [0.81],\n",
              "       [0.75],\n",
              "       [0.79],\n",
              "       [0.58],\n",
              "       [0.59],\n",
              "       [0.47],\n",
              "       [0.49],\n",
              "       [0.47],\n",
              "       [0.42],\n",
              "       [0.57],\n",
              "       [0.62],\n",
              "       [0.74],\n",
              "       [0.73],\n",
              "       [0.64],\n",
              "       [0.63],\n",
              "       [0.59],\n",
              "       [0.73],\n",
              "       [0.79],\n",
              "       [0.68],\n",
              "       [0.7 ],\n",
              "       [0.81],\n",
              "       [0.85],\n",
              "       [0.93],\n",
              "       [0.91],\n",
              "       [0.69],\n",
              "       [0.77],\n",
              "       [0.86],\n",
              "       [0.74],\n",
              "       [0.57],\n",
              "       [0.51],\n",
              "       [0.67],\n",
              "       [0.72],\n",
              "       [0.89],\n",
              "       [0.95],\n",
              "       [0.79],\n",
              "       [0.39],\n",
              "       [0.38],\n",
              "       [0.34],\n",
              "       [0.47],\n",
              "       [0.56],\n",
              "       [0.71],\n",
              "       [0.78],\n",
              "       [0.73],\n",
              "       [0.82],\n",
              "       [0.62],\n",
              "       [0.96],\n",
              "       [0.96],\n",
              "       [0.46],\n",
              "       [0.53],\n",
              "       [0.49],\n",
              "       [0.76],\n",
              "       [0.64],\n",
              "       [0.71],\n",
              "       [0.84],\n",
              "       [0.77],\n",
              "       [0.89],\n",
              "       [0.82],\n",
              "       [0.84],\n",
              "       [0.91],\n",
              "       [0.67],\n",
              "       [0.95]])"
            ]
          },
          "metadata": {
            "tags": []
          },
          "execution_count": 17
        }
      ]
    },
    {
      "cell_type": "code",
      "metadata": {
        "id": "dL5dcSSk3wDx"
      },
      "source": [
        "theta_array = np.zeros((8,1))"
      ],
      "execution_count": 18,
      "outputs": []
    },
    {
      "cell_type": "code",
      "metadata": {
        "id": "CO3FYNfM31dM"
      },
      "source": [
        "#defining the Hypothesis    : H(x) = theta0 + theta1*x1 + theta2*x2+...\r\n",
        "\r\n",
        "def hypothesis(theta_array,x1,x2,x3,x4,x5,x6,x7):      \r\n",
        "    return theta_array[0]+(theta_array[1]*x1)+(theta_array[2]*x2)+(theta_array[3]*x3)+(theta_array[4]*x4)+(theta_array[5]*x5)+(theta_array[6]*x6)+(theta_array[7]*x7)"
      ],
      "execution_count": 19,
      "outputs": []
    },
    {
      "cell_type": "code",
      "metadata": {
        "id": "2s8Ve--_4JIt"
      },
      "source": [
        "def cost_function(theta_array,x1,x2,x3,x4,x5,x6,x7,y,m):   #x and y are list of observation.\r\n",
        "    total_error = 0     #accumulate all the error\r\n",
        "    for i in range(m):\r\n",
        "        total_error+=(theta_array[0]+theta_array[1]*x1[i]+theta_array[2]*x2[i]+theta_array[3]*x3[i]+\r\n",
        "                      theta_array[4]*x4[i]+theta_array[5]*x5[i]+theta_array[6]*x6[i]+theta_array[7]*x7[i] - y[i])**2\r\n",
        "\r\n",
        "    return total_error/(2*m)"
      ],
      "execution_count": 20,
      "outputs": []
    },
    {
      "cell_type": "code",
      "metadata": {
        "id": "N6xtLPzvAHUu"
      },
      "source": [
        "def gradient_descent(theta_array,x1,x2,x3,x4,x5,x6,x7,y,alpha,m):\r\n",
        "    summation_theta0 = 0\r\n",
        "    summation_theta1 = 0\r\n",
        "    summation_theta2 = 0\r\n",
        "    summation_theta3 = 0\r\n",
        "    summation_theta4 = 0\r\n",
        "    summation_theta5 = 0\r\n",
        "    summation_theta6 = 0\r\n",
        "    summation_theta7 = 0\r\n",
        "\r\n",
        "    for i in range(m):\r\n",
        "        summation_theta0+=((theta_array[0]+theta_array[1]*x1[i]+theta_array[2]*x2[i]+theta_array[3]*x3[i]+\r\n",
        "                      theta_array[4]*x4[i]+theta_array[5]*x5[i]+theta_array[6]*x6[i]+theta_array[7]*x7[i]) - y[i])\r\n",
        "        summation_theta1+=(((theta_array[0]+theta_array[1]*x1[i]+theta_array[2]*x2[i]+theta_array[3]*x3[i]+\r\n",
        "                      theta_array[4]*x4[i]+theta_array[5]*x5[i]+theta_array[6]*x6[i]+theta_array[7]*x7[i]) - y[i])*x1[i])\r\n",
        "        summation_theta2+=(((theta_array[0]+theta_array[1]*x1[i]+theta_array[2]*x2[i]+theta_array[3]*x3[i]+\r\n",
        "                      theta_array[4]*x4[i]+theta_array[5]*x5[i]+theta_array[6]*x6[i]+theta_array[7]*x7[i]) - y[i])*x2[i])\r\n",
        "        summation_theta3+=(((theta_array[0]+theta_array[1]*x1[i]+theta_array[2]*x2[i]+theta_array[3]*x3[i]+\r\n",
        "                      theta_array[4]*x4[i]+theta_array[5]*x5[i]+theta_array[6]*x6[i]+theta_array[7]*x7[i]) - y[i])*x3[i])\r\n",
        "        summation_theta4+=(((theta_array[0]+theta_array[1]*x1[i]+theta_array[2]*x2[i]+theta_array[3]*x3[i]+\r\n",
        "                      theta_array[4]*x4[i]+theta_array[5]*x5[i]+theta_array[6]*x6[i]+theta_array[7]*x7[i]) - y[i])*x4[i])\r\n",
        "        summation_theta5+=(((theta_array[0]+theta_array[1]*x1[i]+theta_array[2]*x2[i]+theta_array[3]*x3[i]+\r\n",
        "                      theta_array[4]*x4[i]+theta_array[5]*x5[i]+theta_array[6]*x6[i]+theta_array[7]*x7[i]) - y[i])*x5[i])\r\n",
        "        summation_theta6+=(((theta_array[0]+theta_array[1]*x1[i]+theta_array[2]*x2[i]+theta_array[3]*x3[i]+\r\n",
        "                      theta_array[4]*x4[i]+theta_array[5]*x5[i]+theta_array[6]*x6[i]+theta_array[7]*x7[i]) - y[i])*x6[i])\r\n",
        "        summation_theta7+=(((theta_array[0]+theta_array[1]*x1[i]+theta_array[2]*x2[i]+theta_array[3]*x3[i]+\r\n",
        "                      theta_array[4]*x4[i]+theta_array[5]*x5[i]+theta_array[6]*x6[i]+theta_array[7]*x7[i]) - y[i])*x7[i])\r\n",
        "\r\n",
        "    new_theta0 = theta_array[0]-alpha*(summation_theta0/m)\r\n",
        "    new_theta1 = theta_array[1]-alpha*(summation_theta1/m)\r\n",
        "    new_theta2 = theta_array[2]-alpha*(summation_theta2/m)\r\n",
        "    new_theta3 = theta_array[3]-alpha*(summation_theta3/m)\r\n",
        "    new_theta4 = theta_array[4]-alpha*(summation_theta4/m)\r\n",
        "    new_theta5 = theta_array[5]-alpha*(summation_theta5/m)\r\n",
        "    new_theta6 = theta_array[6]-alpha*(summation_theta6/m)\r\n",
        "    new_theta7 = theta_array[7]-alpha*(summation_theta7/m)\r\n",
        "\r\n",
        "    updated_theta_array = [new_theta0,new_theta1,new_theta2,new_theta3,new_theta4,new_theta5,new_theta6,new_theta7]\r\n",
        "    #print(updated_theta_array)\r\n",
        "    return updated_theta_array"
      ],
      "execution_count": 21,
      "outputs": []
    },
    {
      "cell_type": "code",
      "metadata": {
        "id": "p5NGK8FHBo6K"
      },
      "source": [
        "def training(x1,x2,x3,x4,x5,x6,x7,y,alpha,iters):\r\n",
        "    theta_0 = 0\r\n",
        "    theta_1 = 0\r\n",
        "    theta_2 = 0\r\n",
        "    theta_3 = 0\r\n",
        "    theta_4 = 0\r\n",
        "    theta_5 = 0\r\n",
        "    theta_6 = 0\r\n",
        "    theta_7 = 0\r\n",
        "    theta_array = [theta_0,theta_1,theta_2,theta_3,theta_4,theta_5,theta_6,theta_7]\r\n",
        "\r\n",
        "    m=x1.size                #size of the data set or the number of observation\r\n",
        "    cost_function_values = []\r\n",
        "    for i in range(iters):\r\n",
        "        theta_array = gradient_descent(theta_array,x1,x2,x3,x4,x5,x6,x7,y,alpha,m)     #taking the new theta's\r\n",
        "        cost_function_values.append(cost_function(theta_array,x1,x2,x3,x4,x5,x6,x7,y,m))   #taking all the cost function values and storing\r\n",
        "        '''\r\n",
        "        if(i%6==0):\r\n",
        "            y_new=x7*theta_array[7]+x6*theta_array[6]+x5*theta_array[5]+x4*theta_array[4]+x3*theta_array[3]+x2*theta_array[2]+x1*theta_array[1]+theta_array[0]       #linear regression line\r\n",
        "            plt.plot(x1,y_new,'r')\r\n",
        "            plt.scatter(x1,y)\r\n",
        "            plt.show()\r\n",
        "        '''\r\n",
        "    x=np.arange(0,len(cost_function_values),step=1)\r\n",
        "    plt.plot(x,cost_function_values,\"-b\")\r\n",
        "    plt.xlabel(\"number of iteration\")\r\n",
        "    plt.ylabel(\"Cost/loss values\")\r\n",
        "    plt.title(\"cost Function curve\")\r\n",
        "    plt.show()\r\n",
        "\r\n",
        "    return theta_array"
      ],
      "execution_count": 22,
      "outputs": []
    },
    {
      "cell_type": "code",
      "metadata": {
        "colab": {
          "base_uri": "https://localhost:8080/",
          "height": 295
        },
        "id": "dSrYrWQ3Cnzu",
        "outputId": "c9af832d-e31a-4aa6-d412-616bd35e770c"
      },
      "source": [
        "alpha = 0.0001\r\n",
        "iters = 100\r\n",
        "theta_array1 = training(X_norm[:,0:1],X_norm[:,1:2],X_norm[:,2:3],X_norm[:,3:4],X_norm[:,4:5],X_norm[:,5:6],X_norm[:,6:7],Y,alpha,iters)"
      ],
      "execution_count": 23,
      "outputs": [
        {
          "output_type": "display_data",
          "data": {
            "image/png": "[encoded data removed]",
            "text/plain": [
              "<Figure size 432x288 with 1 Axes>"
            ]
          },
          "metadata": {
            "tags": [],
            "needs_background": "light"
          }
        }
      ]
    },
    {
      "cell_type": "code",
      "metadata": {
        "colab": {
          "base_uri": "https://localhost:8080/",
          "height": 295
        },
        "id": "DcTJf5HFGrnp",
        "outputId": "8b778dc2-f8a8-4ce2-85d3-8fdef7a1135d"
      },
      "source": [
        "alpha = 0.001\r\n",
        "iters = 200\r\n",
        "theta_array2 = training(X_norm[:,0:1],X_norm[:,1:2],X_norm[:,2:3],X_norm[:,3:4],X_norm[:,4:5],X_norm[:,5:6],X_norm[:,6:7],Y,alpha,iters)"
      ],
      "execution_count": 24,
      "outputs": [
        {
          "output_type": "display_data",
          "data": {
            "image/png": "[encoded data removed]",
            "text/plain": [
              "<Figure size 432x288 with 1 Axes>"
            ]
          },
          "metadata": {
            "tags": [],
            "needs_background": "light"
          }
        }
      ]
    },
    {
      "cell_type": "code",
      "metadata": {
        "colab": {
          "base_uri": "https://localhost:8080/",
          "height": 295
        },
        "id": "EIUzcLIwGsHn",
        "outputId": "a3baf81d-72f9-4a07-a85d-348a5a5b56b4"
      },
      "source": [
        "alpha = 0.001\r\n",
        "iters = 500\r\n",
        "theta_array3 = training(X_norm[:,0:1],X_norm[:,1:2],X_norm[:,2:3],X_norm[:,3:4],X_norm[:,4:5],X_norm[:,5:6],X_norm[:,6:7],Y,alpha,iters)"
      ],
      "execution_count": 25,
      "outputs": [
        {
          "output_type": "display_data",
          "data": {
            "image/png": "[encoded data removed]",
            "text/plain": [
              "<Figure size 432x288 with 1 Axes>"
            ]
          },
          "metadata": {
            "tags": [],
            "needs_background": "light"
          }
        }
      ]
    },
    {
      "cell_type": "code",
      "metadata": {
        "colab": {
          "base_uri": "https://localhost:8080/",
          "height": 295
        },
        "id": "tj5qazAgG7LI",
        "outputId": "c2c850e5-74bb-4d5d-88de-4974fa730430"
      },
      "source": [
        "alpha = 0.01\r\n",
        "iters = 100\r\n",
        "theta_array4 = training(X_norm[:,0:1],X_norm[:,1:2],X_norm[:,2:3],X_norm[:,3:4],X_norm[:,4:5],X_norm[:,5:6],X_norm[:,6:7],Y,alpha,iters)"
      ],
      "execution_count": 26,
      "outputs": [
        {
          "output_type": "display_data",
          "data": {
            "image/png": "[encoded data removed]",
            "text/plain": [
              "<Figure size 432x288 with 1 Axes>"
            ]
          },
          "metadata": {
            "tags": [],
            "needs_background": "light"
          }
        }
      ]
    },
    {
      "cell_type": "code",
      "metadata": {
        "colab": {
          "base_uri": "https://localhost:8080/",
          "height": 295
        },
        "id": "otvpsASeG87V",
        "outputId": "e6b77500-8f5b-4031-99ab-2c3b1b258cb6"
      },
      "source": [
        "alpha = 0.001\r\n",
        "iters = 500\r\n",
        "theta_array5 = training(X_norm[:,0:1],X_norm[:,1:2],X_norm[:,2:3],X_norm[:,3:4],X_norm[:,4:5],X_norm[:,5:6],X_norm[:,6:7],Y,alpha,iters)"
      ],
      "execution_count": 27,
      "outputs": [
        {
          "output_type": "display_data",
          "data": {
            "image/png": "[encoded data removed]",
            "text/plain": [
              "<Figure size 432x288 with 1 Axes>"
            ]
          },
          "metadata": {
            "tags": [],
            "needs_background": "light"
          }
        }
      ]
    },
    {
      "cell_type": "code",
      "metadata": {
        "colab": {
          "base_uri": "https://localhost:8080/",
          "height": 295
        },
        "id": "GCYC5cynG_kC",
        "outputId": "6e501314-799e-4cc7-8a1c-e07d53bb5adb"
      },
      "source": [
        "alpha = 0.001\r\n",
        "iters = 1000\r\n",
        "theta_array6 = training(X_norm[:,0:1],X_norm[:,1:2],X_norm[:,2:3],X_norm[:,3:4],X_norm[:,4:5],X_norm[:,5:6],X_norm[:,6:7],Y,alpha,iters)"
      ],
      "execution_count": 28,
      "outputs": [
        {
          "output_type": "display_data",
          "data": {
            "image/png": "[encoded data removed]",
            "text/plain": [
              "<Figure size 432x288 with 1 Axes>"
            ]
          },
          "metadata": {
            "tags": [],
            "needs_background": "light"
          }
        }
      ]
    },
    {
      "cell_type": "code",
      "metadata": {
        "colab": {
          "base_uri": "https://localhost:8080/",
          "height": 295
        },
        "id": "FhNIvDhSHMkw",
        "outputId": "23d2b782-b436-4ee3-b804-f499c7d5b0e2"
      },
      "source": [
        "alpha = 0.05\r\n",
        "iters = 100\r\n",
        "theta_array7 = training(X_norm[:,0:1],X_norm[:,1:2],X_norm[:,2:3],X_norm[:,3:4],X_norm[:,4:5],X_norm[:,5:6],X_norm[:,6:7],Y,alpha,iters)"
      ],
      "execution_count": 29,
      "outputs": [
        {
          "output_type": "display_data",
          "data": {
            "image/png": "[encoded data removed]",
            "text/plain": [
              "<Figure size 432x288 with 1 Axes>"
            ]
          },
          "metadata": {
            "tags": [],
            "needs_background": "light"
          }
        }
      ]
    },
    {
      "cell_type": "code",
      "metadata": {
        "colab": {
          "base_uri": "https://localhost:8080/",
          "height": 295
        },
        "id": "eAC8h5EWHVGR",
        "outputId": "c6baf650-3b4f-4a36-a231-90d827753e05"
      },
      "source": [
        "alpha = 0.1\r\n",
        "iters = 1000\r\n",
        "theta_array8 = training(X_norm[:,0:1],X_norm[:,1:2],X_norm[:,2:3],X_norm[:,3:4],X_norm[:,4:5],X_norm[:,5:6],X_norm[:,6:7],Y,alpha,iters)"
      ],
      "execution_count": 30,
      "outputs": [
        {
          "output_type": "display_data",
          "data": {
            "image/png": "[encoded data removed]",
            "text/plain": [
              "<Figure size 432x288 with 1 Axes>"
            ]
          },
          "metadata": {
            "tags": [],
            "needs_background": "light"
          }
        }
      ]
    },
    {
      "cell_type": "code",
      "metadata": {
        "colab": {
          "base_uri": "https://localhost:8080/",
          "height": 295
        },
        "id": "k9tjg4S4HpMg",
        "outputId": "b5f2412b-7c6d-4402-8d6c-76d499fade30"
      },
      "source": [
        "alpha = 0.1\r\n",
        "iters = 100\r\n",
        "theta_array9 = training(X_norm[:,0:1],X_norm[:,1:2],X_norm[:,2:3],X_norm[:,3:4],X_norm[:,4:5],X_norm[:,5:6],X_norm[:,6:7],Y,alpha,iters)"
      ],
      "execution_count": 31,
      "outputs": [
        {
          "output_type": "display_data",
          "data": {
            "image/png": "[encoded data removed]",
            "text/plain": [
              "<Figure size 432x288 with 1 Axes>"
            ]
          },
          "metadata": {
            "tags": [],
            "needs_background": "light"
          }
        }
      ]
    },
    {
      "cell_type": "code",
      "metadata": {
        "colab": {
          "base_uri": "https://localhost:8080/",
          "height": 295
        },
        "id": "Eglqbb_kHxGp",
        "outputId": "f956a34d-e920-4f7f-f7ef-8e6ce6cd293e"
      },
      "source": [
        "alpha = 0.01\r\n",
        "iters = 300\r\n",
        "theta_array10 = training(X_norm[:,0:1],X_norm[:,1:2],X_norm[:,2:3],X_norm[:,3:4],X_norm[:,4:5],X_norm[:,5:6],X_norm[:,6:7],Y,alpha,iters)"
      ],
      "execution_count": 32,
      "outputs": [
        {
          "output_type": "display_data",
          "data": {
            "image/png": "[encoded data removed]",
            "text/plain": [
              "<Figure size 432x288 with 1 Axes>"
            ]
          },
          "metadata": {
            "tags": [],
            "needs_background": "light"
          }
        }
      ]
    },
    {
      "cell_type": "code",
      "metadata": {
        "id": "HZr8B2ivDQCN",
        "colab": {
          "base_uri": "https://localhost:8080/"
        },
        "outputId": "d04240a9-247f-47ce-a592-aeea4097e8cd"
      },
      "source": [
        "print(theta_array)\r\n",
        "print(theta_array1)\r\n",
        "print(theta_array2)\r\n",
        "print(theta_array3)\r\n",
        "print(theta_array4)\r\n",
        "print(theta_array5)\r\n",
        "print(theta_array6)\r\n",
        "print(theta_array7)"
      ],
      "execution_count": 33,
      "outputs": [
        {
          "output_type": "stream",
          "text": [
            "[[0.]\n",
            " [0.]\n",
            " [0.]\n",
            " [0.]\n",
            " [0.]\n",
            " [0.]\n",
            " [0.]\n",
            " [0.]]\n",
            "[array([0.00720776]), array([0.00111696]), array([0.00110127]), array([0.0009878]), array([0.00093766]), array([0.00093099]), array([0.00121641]), array([0.00076887])]\n",
            "[array([0.13136172]), array([0.01489714]), array([0.01458611]), array([0.01261334]), array([0.01174511]), array([0.012074]), array([0.0165446]), array([0.00997568])]\n",
            "[array([0.28511941]), array([0.0224855]), array([0.02173708]), array([0.01753762]), array([0.01568436]), array([0.01737038]), array([0.02594728]), array([0.01430634])]\n",
            "[array([0.45921447]), array([0.02560463]), array([0.02422709]), array([0.01727753]), array([0.01415765]), array([0.01846271]), array([0.0317159]), array([0.0149366])]\n",
            "[array([0.28511941]), array([0.0224855]), array([0.02173708]), array([0.01753762]), array([0.01568436]), array([0.01737038]), array([0.02594728]), array([0.01430634])]\n",
            "[array([0.45800982]), array([0.02557852]), array([0.02420306]), array([0.01726664]), array([0.01415147]), array([0.0184524]), array([0.03168912]), array([0.01492491])]\n",
            "[array([0.72006146]), array([0.02682453]), array([0.02321812]), array([0.00979755]), array([0.00220838]), array([0.0196098]), array([0.05124234]), array([0.01221544])]\n"
          ],
          "name": "stdout"
        }
      ]
    },
    {
      "cell_type": "markdown",
      "metadata": {
        "id": "IInLiyupFwmS"
      },
      "source": [
        "#Normal Equation method for the individual dataset"
      ]
    },
    {
      "cell_type": "code",
      "metadata": {
        "id": "rRRPzoMQFuTO"
      },
      "source": [
        "column_to_be_added = np.array([np.ones(len(X_norm))])\r\n",
        "X = np.hstack((np.atleast_2d(column_to_be_added).T, X_norm ))"
      ],
      "execution_count": 34,
      "outputs": []
    },
    {
      "cell_type": "code",
      "metadata": {
        "colab": {
          "base_uri": "https://localhost:8080/"
        },
        "id": "Y9GkAIkSK-iF",
        "outputId": "83f21179-428c-4080-f9aa-0be4b79c69ba"
      },
      "source": [
        "theta_array_norm = np.linalg.inv(X.T.dot(X)).dot(X.T).dot(Y)         #Normal Equation Formula and calculate the theta array\r\n",
        "print(theta_array_norm)\r\n",
        "print(theta_array8)"
      ],
      "execution_count": 35,
      "outputs": [
        {
          "output_type": "stream",
          "text": [
            "[[ 0.72435   ]\n",
            " [ 0.01990951]\n",
            " [ 0.01769825]\n",
            " [ 0.00653012]\n",
            " [-0.00332371]\n",
            " [ 0.02005866]\n",
            " [ 0.07083692]\n",
            " [ 0.01220709]]\n",
            "[array([0.72435]), array([0.01990953]), array([0.01769824]), array([0.00653013]), array([-0.00332371]), array([0.02005866]), array([0.0708369]), array([0.01220709])]\n"
          ],
          "name": "stdout"
        }
      ]
    },
    {
      "cell_type": "markdown",
      "metadata": {
        "id": "FT3h02dVv9UH"
      },
      "source": [
        "#Gradient Descent Methods and Normal Equation difference in theta\r\n",
        "### From the result of thetas we can see that there is not so much difference from the theta being calculated by the both methods , but the time taken by normal equation methos was very less compared to the Gradient method for this example."
      ]
    },
    {
      "cell_type": "code",
      "metadata": {
        "id": "l4xjFWN5OQNx",
        "colab": {
          "base_uri": "https://localhost:8080/"
        },
        "outputId": "c520e766-b116-4198-8383-e65b180fd9de"
      },
      "source": [
        "predict=hypothesis(theta_array8,X_norm[4:5,0:1],X_norm[4:5,1:2],X_norm[4:5,2:3],X_norm[4:5,3:4],X_norm[4:5,4:5],X_norm[4:5,5:6],X_norm[4:5,6:7])   #predicting the value of Y based on the values of optimized theta     \r\n",
        "predict"
      ],
      "execution_count": 38,
      "outputs": [
        {
          "output_type": "execute_result",
          "data": {
            "text/plain": [
              "array([[0.63520645]])"
            ]
          },
          "metadata": {
            "tags": []
          },
          "execution_count": 38
        }
      ]
    },
    {
      "cell_type": "code",
      "metadata": {
        "id": "0LtUA3OJ8HJY"
      },
      "source": [
        ""
      ],
      "execution_count": null,
      "outputs": []
    }
  ]
}