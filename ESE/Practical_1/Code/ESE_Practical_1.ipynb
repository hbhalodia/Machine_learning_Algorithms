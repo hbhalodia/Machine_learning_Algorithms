{
  "nbformat": 4,
  "nbformat_minor": 0,
  "metadata": {
    "colab": {
      "name": "ESE_Practical_1.ipynb",
      "provenance": []
    },
    "kernelspec": {
      "name": "python3",
      "display_name": "Python 3"
    },
    "language_info": {
      "name": "python"
    }
  },
  "cells": [
    {
      "cell_type": "code",
      "metadata": {
        "id": "gdOLM2xX_4Ny"
      },
      "source": [
        "import numpy as np\n",
        "import matplotlib.pyplot as plt\n",
        "import pandas as pd"
      ],
      "execution_count": 1,
      "outputs": []
    },
    {
      "cell_type": "code",
      "metadata": {
        "id": "H6uIFsX_ArOR"
      },
      "source": [
        "from google.colab import drive"
      ],
      "execution_count": 2,
      "outputs": []
    },
    {
      "cell_type": "code",
      "metadata": {
        "colab": {
          "base_uri": "https://localhost:8080/"
        },
        "id": "0_yaxvw-BFwK",
        "outputId": "587d91f4-a183-49b2-9f9a-5d7cd64a2c16"
      },
      "source": [
        "drive.mount('/content/drive')"
      ],
      "execution_count": 3,
      "outputs": [
        {
          "output_type": "stream",
          "text": [
            "Mounted at /content/drive\n"
          ],
          "name": "stdout"
        }
      ]
    },
    {
      "cell_type": "code",
      "metadata": {
        "colab": {
          "base_uri": "https://localhost:8080/"
        },
        "id": "gw9R41zYBHIE",
        "outputId": "02cb2854-5044-46ea-e8a9-0e8cf053ebb3"
      },
      "source": [
        "cd /content/drive/\"My Drive/Colab Notebooks/ESE_Practical_1\""
      ],
      "execution_count": 4,
      "outputs": [
        {
          "output_type": "stream",
          "text": [
            "/content/drive/My Drive/Colab Notebooks/ESE_Practical_1\n"
          ],
          "name": "stdout"
        }
      ]
    },
    {
      "cell_type": "code",
      "metadata": {
        "colab": {
          "base_uri": "https://localhost:8080/"
        },
        "id": "hVHUatxBBaYl",
        "outputId": "51da0c45-e7f8-4fbf-c2f8-55163b88ff8c"
      },
      "source": [
        "col_names=['s1','c1','s2','c2','s3','c3','s4','c4','s5','c5','classes' ]\n",
        "dataset = pd.read_csv(\"poker-hand-training-true.data\",names=col_names)\n",
        "print(dataset)\n",
        "dataset.shape"
      ],
      "execution_count": 5,
      "outputs": [
        {
          "output_type": "stream",
          "text": [
            "       s1  c1  s2  c2  s3  c3  s4  c4  s5  c5  classes\n",
            "0       1  10   1  11   1  13   1  12   1   1        9\n",
            "1       2  11   2  13   2  10   2  12   2   1        9\n",
            "2       3  12   3  11   3  13   3  10   3   1        9\n",
            "3       4  10   4  11   4   1   4  13   4  12        9\n",
            "4       4   1   4  13   4  12   4  11   4  10        9\n",
            "...    ..  ..  ..  ..  ..  ..  ..  ..  ..  ..      ...\n",
            "25005   3   9   2   6   4  11   4  12   2   4        0\n",
            "25006   4   1   4  10   3  13   3   4   1  10        1\n",
            "25007   2   1   2  10   4   4   4   1   4  13        1\n",
            "25008   2  12   4   3   1  10   1  12   4   9        1\n",
            "25009   1   7   3  11   3   3   4   8   3   7        1\n",
            "\n",
            "[25010 rows x 11 columns]\n"
          ],
          "name": "stdout"
        },
        {
          "output_type": "execute_result",
          "data": {
            "text/plain": [
              "(25010, 11)"
            ]
          },
          "metadata": {
            "tags": []
          },
          "execution_count": 5
        }
      ]
    },
    {
      "cell_type": "code",
      "metadata": {
        "colab": {
          "base_uri": "https://localhost:8080/"
        },
        "id": "l8F-GdDxB3Ft",
        "outputId": "f61a377b-9610-4667-94c8-efc3ef6395d3"
      },
      "source": [
        "dataset_test = pd.read_csv(\"poker-hand-testing.data\",names=col_names)\n",
        "print(dataset_test)\n",
        "dataset_test.shape"
      ],
      "execution_count": 6,
      "outputs": [
        {
          "output_type": "stream",
          "text": [
            "        s1  c1  s2  c2  s3  c3  s4  c4  s5  c5  classes\n",
            "0        1   1   1  13   2   4   2   3   1  12        0\n",
            "1        3  12   3   2   3  11   4   5   2   5        1\n",
            "2        1   9   4   6   1   4   3   2   3   9        1\n",
            "3        1   4   3  13   2  13   2   1   3   6        1\n",
            "4        3  10   2   7   1   2   2  11   4   9        0\n",
            "...     ..  ..  ..  ..  ..  ..  ..  ..  ..  ..      ...\n",
            "999995   3   1   1  12   2   9   4   9   2   6        1\n",
            "999996   3   3   4   5   2   7   1   4   4   3        1\n",
            "999997   1  11   4   7   3   9   1  13   2   7        1\n",
            "999998   3  11   1   8   1   1   3  13   2   8        1\n",
            "999999   2   5   2   9   4   9   2   3   3   3        2\n",
            "\n",
            "[1000000 rows x 11 columns]\n"
          ],
          "name": "stdout"
        },
        {
          "output_type": "execute_result",
          "data": {
            "text/plain": [
              "(1000000, 11)"
            ]
          },
          "metadata": {
            "tags": []
          },
          "execution_count": 6
        }
      ]
    },
    {
      "cell_type": "code",
      "metadata": {
        "colab": {
          "base_uri": "https://localhost:8080/"
        },
        "id": "Er3iN1uIB6jy",
        "outputId": "7246f8d8-fcd2-4c4d-c262-5e37edc3dc6f"
      },
      "source": [
        "tot_class = 10  \n",
        "poker_no_data = {}\n",
        "for i in range(tot_class):\n",
        "    poker_no_data[i] = len(dataset[dataset.classes==i])\n",
        "print(poker_no_data)\n",
        "\n",
        "# Giving name to diferent class to visulize it\n",
        "poker_hands = [0, 1, 2, 3, 4, 5, 6, 7, 8, 9]\n",
        "hand_name = {\n",
        "    0: 'Nothing in hand',\n",
        "    1: 'One pair',\n",
        "    2: 'Two pairs',\n",
        "    3: 'Three of a kind',\n",
        "    4: 'Straight',\n",
        "    5: 'Flush',\n",
        "    6: 'Full house',\n",
        "    7: 'Four of a kind',\n",
        "    8: 'Straight flush',\n",
        "    9: 'Royal flush',\n",
        "}"
      ],
      "execution_count": 7,
      "outputs": [
        {
          "output_type": "stream",
          "text": [
            "{0: 12493, 1: 10599, 2: 1206, 3: 513, 4: 93, 5: 54, 6: 36, 7: 6, 8: 5, 9: 5}\n"
          ],
          "name": "stdout"
        }
      ]
    },
    {
      "cell_type": "code",
      "metadata": {
        "colab": {
          "base_uri": "https://localhost:8080/"
        },
        "id": "214egXZtCLos",
        "outputId": "77d5d85e-2a51-4c2b-daf4-49d3139a6a08"
      },
      "source": [
        "for i in poker_hands:\n",
        "    print(\"%s: %d\" % (hand_name[i], poker_no_data[i]))"
      ],
      "execution_count": 8,
      "outputs": [
        {
          "output_type": "stream",
          "text": [
            "Nothing in hand: 12493\n",
            "One pair: 10599\n",
            "Two pairs: 1206\n",
            "Three of a kind: 513\n",
            "Straight: 93\n",
            "Flush: 54\n",
            "Full house: 36\n",
            "Four of a kind: 6\n",
            "Straight flush: 5\n",
            "Royal flush: 5\n"
          ],
          "name": "stdout"
        }
      ]
    },
    {
      "cell_type": "code",
      "metadata": {
        "colab": {
          "base_uri": "https://localhost:8080/",
          "height": 296
        },
        "id": "HHZo9xFRCRnY",
        "outputId": "17447db6-8d13-4e63-ccc6-fc7c03b7da8c"
      },
      "source": [
        "plt.bar(poker_hands, [poker_no_data[i] for i in poker_no_data], align='center')\n",
        "plt.xlabel('Poker hand id')\n",
        "plt.ylabel('Number of Times Hand come to that nuber')"
      ],
      "execution_count": 10,
      "outputs": [
        {
          "output_type": "execute_result",
          "data": {
            "text/plain": [
              "Text(0, 0.5, 'Number of Times Hand come to that nuber')"
            ]
          },
          "metadata": {
            "tags": []
          },
          "execution_count": 10
        },
        {
          "output_type": "display_data",
          "data": {
            "image/png": "[encoded data removed]",
            "text/plain": [
              "<Figure size 432x288 with 1 Axes>"
            ]
          },
          "metadata": {
            "tags": [],
            "needs_background": "light"
          }
        }
      ]
    },
    {
      "cell_type": "code",
      "metadata": {
        "id": "m_2WgvCXCa5J"
      },
      "source": [
        "x = dataset.drop(['classes'], axis=1)\n",
        "y = dataset['classes']"
      ],
      "execution_count": 11,
      "outputs": []
    },
    {
      "cell_type": "code",
      "metadata": {
        "id": "6j1Ck8j2D2iF"
      },
      "source": [
        "x_test_data = dataset_test.drop(['classes'], axis=1)\n",
        "y_test_data = dataset_test['classes']"
      ],
      "execution_count": 23,
      "outputs": []
    },
    {
      "cell_type": "code",
      "metadata": {
        "id": "W-2uEh5ZCjH7"
      },
      "source": [
        "# spliting data in train and test dataset \n",
        "from sklearn.model_selection import train_test_split\n",
        "X_train, X_test, y_train, y_test = train_test_split(x, y, test_size = 0.25, random_state=42) # here 25% dataset will be of testing and 75% will be for training"
      ],
      "execution_count": 14,
      "outputs": []
    },
    {
      "cell_type": "code",
      "metadata": {
        "colab": {
          "base_uri": "https://localhost:8080/"
        },
        "id": "Qwbh145eCnNH",
        "outputId": "87681b0a-3a9f-49d4-875d-2fe8a31a186c"
      },
      "source": [
        "from sklearn.neighbors import KNeighborsClassifier\n",
        "from sklearn.metrics import classification_report, confusion_matrix, f1_score\n",
        "\n",
        "for i in range(1,25):\n",
        "    knc = KNeighborsClassifier(i)\n",
        "    knc.fit(X_train, y_train)\n",
        "    print(\"For K = \",i);\n",
        "    print(classification_report(y_test, knc.predict(X_test)))\n",
        "    print(\"-------------------------------------------------------------------------\")"
      ],
      "execution_count": 25,
      "outputs": [
        {
          "output_type": "stream",
          "text": [
            "For K =  1\n"
          ],
          "name": "stdout"
        },
        {
          "output_type": "stream",
          "text": [
            "/usr/local/lib/python3.7/dist-packages/sklearn/metrics/_classification.py:1272: UndefinedMetricWarning: Precision and F-score are ill-defined and being set to 0.0 in labels with no predicted samples. Use `zero_division` parameter to control this behavior.\n",
            "  _warn_prf(average, modifier, msg_start, len(result))\n",
            "/usr/local/lib/python3.7/dist-packages/sklearn/metrics/_classification.py:1272: UndefinedMetricWarning: Recall and F-score are ill-defined and being set to 0.0 in labels with no true samples. Use `zero_division` parameter to control this behavior.\n",
            "  _warn_prf(average, modifier, msg_start, len(result))\n"
          ],
          "name": "stderr"
        },
        {
          "output_type": "stream",
          "text": [
            "              precision    recall  f1-score   support\n",
            "\n",
            "           0       0.59      0.60      0.59      3134\n",
            "           1       0.47      0.47      0.47      2630\n",
            "           2       0.15      0.14      0.15       310\n",
            "           3       0.09      0.09      0.09       126\n",
            "           4       0.08      0.08      0.08        25\n",
            "           5       0.07      0.08      0.08        12\n",
            "           6       0.00      0.00      0.00        14\n",
            "           7       0.00      0.00      0.00         1\n",
            "           8       0.00      0.00      0.00         0\n",
            "           9       0.00      0.00      0.00         1\n",
            "\n",
            "    accuracy                           0.50      6253\n",
            "   macro avg       0.15      0.15      0.15      6253\n",
            "weighted avg       0.50      0.50      0.50      6253\n",
            "\n",
            "-------------------------------------------------------------------------\n",
            "For K =  2\n"
          ],
          "name": "stdout"
        },
        {
          "output_type": "stream",
          "text": [
            "/usr/local/lib/python3.7/dist-packages/sklearn/metrics/_classification.py:1272: UndefinedMetricWarning: Precision and F-score are ill-defined and being set to 0.0 in labels with no predicted samples. Use `zero_division` parameter to control this behavior.\n",
            "  _warn_prf(average, modifier, msg_start, len(result))\n"
          ],
          "name": "stderr"
        },
        {
          "output_type": "stream",
          "text": [
            "              precision    recall  f1-score   support\n",
            "\n",
            "           0       0.56      0.83      0.67      3134\n",
            "           1       0.52      0.31      0.39      2630\n",
            "           2       0.26      0.05      0.08       310\n",
            "           3       0.08      0.01      0.01       126\n",
            "           4       0.00      0.00      0.00        25\n",
            "           5       0.00      0.00      0.00        12\n",
            "           6       0.00      0.00      0.00        14\n",
            "           7       0.00      0.00      0.00         1\n",
            "           9       0.00      0.00      0.00         1\n",
            "\n",
            "    accuracy                           0.55      6253\n",
            "   macro avg       0.16      0.13      0.13      6253\n",
            "weighted avg       0.51      0.55      0.50      6253\n",
            "\n",
            "-------------------------------------------------------------------------\n",
            "For K =  3\n"
          ],
          "name": "stdout"
        },
        {
          "output_type": "stream",
          "text": [
            "/usr/local/lib/python3.7/dist-packages/sklearn/metrics/_classification.py:1272: UndefinedMetricWarning: Precision and F-score are ill-defined and being set to 0.0 in labels with no predicted samples. Use `zero_division` parameter to control this behavior.\n",
            "  _warn_prf(average, modifier, msg_start, len(result))\n"
          ],
          "name": "stderr"
        },
        {
          "output_type": "stream",
          "text": [
            "              precision    recall  f1-score   support\n",
            "\n",
            "           0       0.57      0.67      0.62      3134\n",
            "           1       0.48      0.46      0.47      2630\n",
            "           2       0.21      0.05      0.08       310\n",
            "           3       0.16      0.02      0.04       126\n",
            "           4       0.00      0.00      0.00        25\n",
            "           5       0.00      0.00      0.00        12\n",
            "           6       0.00      0.00      0.00        14\n",
            "           7       0.00      0.00      0.00         1\n",
            "           9       0.00      0.00      0.00         1\n",
            "\n",
            "    accuracy                           0.53      6253\n",
            "   macro avg       0.16      0.13      0.13      6253\n",
            "weighted avg       0.50      0.53      0.51      6253\n",
            "\n",
            "-------------------------------------------------------------------------\n",
            "For K =  4\n"
          ],
          "name": "stdout"
        },
        {
          "output_type": "stream",
          "text": [
            "/usr/local/lib/python3.7/dist-packages/sklearn/metrics/_classification.py:1272: UndefinedMetricWarning: Precision and F-score are ill-defined and being set to 0.0 in labels with no predicted samples. Use `zero_division` parameter to control this behavior.\n",
            "  _warn_prf(average, modifier, msg_start, len(result))\n"
          ],
          "name": "stderr"
        },
        {
          "output_type": "stream",
          "text": [
            "              precision    recall  f1-score   support\n",
            "\n",
            "           0       0.58      0.78      0.66      3134\n",
            "           1       0.51      0.37      0.43      2630\n",
            "           2       0.23      0.05      0.09       310\n",
            "           3       0.20      0.05      0.08       126\n",
            "           4       0.00      0.00      0.00        25\n",
            "           5       0.00      0.00      0.00        12\n",
            "           6       0.00      0.00      0.00        14\n",
            "           7       0.00      0.00      0.00         1\n",
            "           9       0.00      0.00      0.00         1\n",
            "\n",
            "    accuracy                           0.55      6253\n",
            "   macro avg       0.17      0.14      0.14      6253\n",
            "weighted avg       0.52      0.55      0.52      6253\n",
            "\n",
            "-------------------------------------------------------------------------\n",
            "For K =  5\n"
          ],
          "name": "stdout"
        },
        {
          "output_type": "stream",
          "text": [
            "/usr/local/lib/python3.7/dist-packages/sklearn/metrics/_classification.py:1272: UndefinedMetricWarning: Precision and F-score are ill-defined and being set to 0.0 in labels with no predicted samples. Use `zero_division` parameter to control this behavior.\n",
            "  _warn_prf(average, modifier, msg_start, len(result))\n"
          ],
          "name": "stderr"
        },
        {
          "output_type": "stream",
          "text": [
            "              precision    recall  f1-score   support\n",
            "\n",
            "           0       0.58      0.70      0.64      3134\n",
            "           1       0.50      0.47      0.49      2630\n",
            "           2       0.17      0.02      0.04       310\n",
            "           3       0.06      0.01      0.01       126\n",
            "           4       0.00      0.00      0.00        25\n",
            "           5       0.00      0.00      0.00        12\n",
            "           6       0.00      0.00      0.00        14\n",
            "           7       0.00      0.00      0.00         1\n",
            "           9       0.00      0.00      0.00         1\n",
            "\n",
            "    accuracy                           0.55      6253\n",
            "   macro avg       0.15      0.13      0.13      6253\n",
            "weighted avg       0.51      0.55      0.52      6253\n",
            "\n",
            "-------------------------------------------------------------------------\n",
            "For K =  6\n"
          ],
          "name": "stdout"
        },
        {
          "output_type": "stream",
          "text": [
            "/usr/local/lib/python3.7/dist-packages/sklearn/metrics/_classification.py:1272: UndefinedMetricWarning: Precision and F-score are ill-defined and being set to 0.0 in labels with no predicted samples. Use `zero_division` parameter to control this behavior.\n",
            "  _warn_prf(average, modifier, msg_start, len(result))\n"
          ],
          "name": "stderr"
        },
        {
          "output_type": "stream",
          "text": [
            "              precision    recall  f1-score   support\n",
            "\n",
            "           0       0.58      0.76      0.66      3134\n",
            "           1       0.52      0.42      0.46      2630\n",
            "           2       0.16      0.02      0.03       310\n",
            "           3       0.21      0.02      0.04       126\n",
            "           4       0.00      0.00      0.00        25\n",
            "           5       0.00      0.00      0.00        12\n",
            "           6       0.00      0.00      0.00        14\n",
            "           7       0.00      0.00      0.00         1\n",
            "           9       0.00      0.00      0.00         1\n",
            "\n",
            "    accuracy                           0.56      6253\n",
            "   macro avg       0.16      0.14      0.13      6253\n",
            "weighted avg       0.52      0.56      0.53      6253\n",
            "\n",
            "-------------------------------------------------------------------------\n",
            "For K =  7\n"
          ],
          "name": "stdout"
        },
        {
          "output_type": "stream",
          "text": [
            "/usr/local/lib/python3.7/dist-packages/sklearn/metrics/_classification.py:1272: UndefinedMetricWarning: Precision and F-score are ill-defined and being set to 0.0 in labels with no predicted samples. Use `zero_division` parameter to control this behavior.\n",
            "  _warn_prf(average, modifier, msg_start, len(result))\n"
          ],
          "name": "stderr"
        },
        {
          "output_type": "stream",
          "text": [
            "              precision    recall  f1-score   support\n",
            "\n",
            "           0       0.59      0.71      0.64      3134\n",
            "           1       0.51      0.46      0.48      2630\n",
            "           2       0.11      0.01      0.02       310\n",
            "           3       0.22      0.02      0.03       126\n",
            "           4       0.00      0.00      0.00        25\n",
            "           5       0.00      0.00      0.00        12\n",
            "           6       0.00      0.00      0.00        14\n",
            "           7       0.00      0.00      0.00         1\n",
            "           9       0.00      0.00      0.00         1\n",
            "\n",
            "    accuracy                           0.55      6253\n",
            "   macro avg       0.16      0.13      0.13      6253\n",
            "weighted avg       0.52      0.55      0.53      6253\n",
            "\n",
            "-------------------------------------------------------------------------\n",
            "For K =  8\n"
          ],
          "name": "stdout"
        },
        {
          "output_type": "stream",
          "text": [
            "/usr/local/lib/python3.7/dist-packages/sklearn/metrics/_classification.py:1272: UndefinedMetricWarning: Precision and F-score are ill-defined and being set to 0.0 in labels with no predicted samples. Use `zero_division` parameter to control this behavior.\n",
            "  _warn_prf(average, modifier, msg_start, len(result))\n"
          ],
          "name": "stderr"
        },
        {
          "output_type": "stream",
          "text": [
            "              precision    recall  f1-score   support\n",
            "\n",
            "           0       0.59      0.76      0.66      3134\n",
            "           1       0.53      0.45      0.48      2630\n",
            "           2       0.11      0.01      0.02       310\n",
            "           3       0.00      0.00      0.00       126\n",
            "           4       0.00      0.00      0.00        25\n",
            "           5       0.00      0.00      0.00        12\n",
            "           6       0.00      0.00      0.00        14\n",
            "           7       0.00      0.00      0.00         1\n",
            "           9       0.00      0.00      0.00         1\n",
            "\n",
            "    accuracy                           0.57      6253\n",
            "   macro avg       0.14      0.13      0.13      6253\n",
            "weighted avg       0.53      0.57      0.54      6253\n",
            "\n",
            "-------------------------------------------------------------------------\n",
            "For K =  9\n"
          ],
          "name": "stdout"
        },
        {
          "output_type": "stream",
          "text": [
            "/usr/local/lib/python3.7/dist-packages/sklearn/metrics/_classification.py:1272: UndefinedMetricWarning: Precision and F-score are ill-defined and being set to 0.0 in labels with no predicted samples. Use `zero_division` parameter to control this behavior.\n",
            "  _warn_prf(average, modifier, msg_start, len(result))\n"
          ],
          "name": "stderr"
        },
        {
          "output_type": "stream",
          "text": [
            "              precision    recall  f1-score   support\n",
            "\n",
            "           0       0.60      0.72      0.65      3134\n",
            "           1       0.52      0.48      0.50      2630\n",
            "           2       0.09      0.01      0.01       310\n",
            "           3       0.00      0.00      0.00       126\n",
            "           4       0.00      0.00      0.00        25\n",
            "           5       0.00      0.00      0.00        12\n",
            "           6       0.00      0.00      0.00        14\n",
            "           7       0.00      0.00      0.00         1\n",
            "           9       0.00      0.00      0.00         1\n",
            "\n",
            "    accuracy                           0.56      6253\n",
            "   macro avg       0.13      0.13      0.13      6253\n",
            "weighted avg       0.52      0.56      0.54      6253\n",
            "\n",
            "-------------------------------------------------------------------------\n",
            "For K =  10\n"
          ],
          "name": "stdout"
        },
        {
          "output_type": "stream",
          "text": [
            "/usr/local/lib/python3.7/dist-packages/sklearn/metrics/_classification.py:1272: UndefinedMetricWarning: Precision and F-score are ill-defined and being set to 0.0 in labels with no predicted samples. Use `zero_division` parameter to control this behavior.\n",
            "  _warn_prf(average, modifier, msg_start, len(result))\n"
          ],
          "name": "stderr"
        },
        {
          "output_type": "stream",
          "text": [
            "              precision    recall  f1-score   support\n",
            "\n",
            "           0       0.60      0.76      0.67      3134\n",
            "           1       0.53      0.45      0.49      2630\n",
            "           2       0.04      0.00      0.01       310\n",
            "           3       0.00      0.00      0.00       126\n",
            "           4       0.00      0.00      0.00        25\n",
            "           5       0.00      0.00      0.00        12\n",
            "           6       0.00      0.00      0.00        14\n",
            "           7       0.00      0.00      0.00         1\n",
            "           9       0.00      0.00      0.00         1\n",
            "\n",
            "    accuracy                           0.57      6253\n",
            "   macro avg       0.13      0.14      0.13      6253\n",
            "weighted avg       0.53      0.57      0.54      6253\n",
            "\n",
            "-------------------------------------------------------------------------\n",
            "For K =  11\n"
          ],
          "name": "stdout"
        },
        {
          "output_type": "stream",
          "text": [
            "/usr/local/lib/python3.7/dist-packages/sklearn/metrics/_classification.py:1272: UndefinedMetricWarning: Precision and F-score are ill-defined and being set to 0.0 in labels with no predicted samples. Use `zero_division` parameter to control this behavior.\n",
            "  _warn_prf(average, modifier, msg_start, len(result))\n"
          ],
          "name": "stderr"
        },
        {
          "output_type": "stream",
          "text": [
            "              precision    recall  f1-score   support\n",
            "\n",
            "           0       0.60      0.73      0.66      3134\n",
            "           1       0.52      0.48      0.50      2630\n",
            "           2       0.21      0.01      0.02       310\n",
            "           3       0.00      0.00      0.00       126\n",
            "           4       0.00      0.00      0.00        25\n",
            "           5       0.00      0.00      0.00        12\n",
            "           6       0.00      0.00      0.00        14\n",
            "           7       0.00      0.00      0.00         1\n",
            "           9       0.00      0.00      0.00         1\n",
            "\n",
            "    accuracy                           0.57      6253\n",
            "   macro avg       0.15      0.14      0.13      6253\n",
            "weighted avg       0.53      0.57      0.54      6253\n",
            "\n",
            "-------------------------------------------------------------------------\n",
            "For K =  12\n"
          ],
          "name": "stdout"
        },
        {
          "output_type": "stream",
          "text": [
            "/usr/local/lib/python3.7/dist-packages/sklearn/metrics/_classification.py:1272: UndefinedMetricWarning: Precision and F-score are ill-defined and being set to 0.0 in labels with no predicted samples. Use `zero_division` parameter to control this behavior.\n",
            "  _warn_prf(average, modifier, msg_start, len(result))\n"
          ],
          "name": "stderr"
        },
        {
          "output_type": "stream",
          "text": [
            "              precision    recall  f1-score   support\n",
            "\n",
            "           0       0.60      0.76      0.67      3134\n",
            "           1       0.53      0.46      0.49      2630\n",
            "           2       0.17      0.01      0.01       310\n",
            "           3       0.00      0.00      0.00       126\n",
            "           4       0.00      0.00      0.00        25\n",
            "           5       0.00      0.00      0.00        12\n",
            "           6       0.00      0.00      0.00        14\n",
            "           7       0.00      0.00      0.00         1\n",
            "           9       0.00      0.00      0.00         1\n",
            "\n",
            "    accuracy                           0.57      6253\n",
            "   macro avg       0.14      0.14      0.13      6253\n",
            "weighted avg       0.53      0.57      0.54      6253\n",
            "\n",
            "-------------------------------------------------------------------------\n",
            "For K =  13\n"
          ],
          "name": "stdout"
        },
        {
          "output_type": "stream",
          "text": [
            "/usr/local/lib/python3.7/dist-packages/sklearn/metrics/_classification.py:1272: UndefinedMetricWarning: Precision and F-score are ill-defined and being set to 0.0 in labels with no predicted samples. Use `zero_division` parameter to control this behavior.\n",
            "  _warn_prf(average, modifier, msg_start, len(result))\n"
          ],
          "name": "stderr"
        },
        {
          "output_type": "stream",
          "text": [
            "              precision    recall  f1-score   support\n",
            "\n",
            "           0       0.60      0.74      0.66      3134\n",
            "           1       0.52      0.47      0.50      2630\n",
            "           2       0.12      0.00      0.01       310\n",
            "           3       0.00      0.00      0.00       126\n",
            "           4       0.00      0.00      0.00        25\n",
            "           5       0.00      0.00      0.00        12\n",
            "           6       0.00      0.00      0.00        14\n",
            "           7       0.00      0.00      0.00         1\n",
            "           9       0.00      0.00      0.00         1\n",
            "\n",
            "    accuracy                           0.57      6253\n",
            "   macro avg       0.14      0.13      0.13      6253\n",
            "weighted avg       0.53      0.57      0.54      6253\n",
            "\n",
            "-------------------------------------------------------------------------\n",
            "For K =  14\n"
          ],
          "name": "stdout"
        },
        {
          "output_type": "stream",
          "text": [
            "/usr/local/lib/python3.7/dist-packages/sklearn/metrics/_classification.py:1272: UndefinedMetricWarning: Precision and F-score are ill-defined and being set to 0.0 in labels with no predicted samples. Use `zero_division` parameter to control this behavior.\n",
            "  _warn_prf(average, modifier, msg_start, len(result))\n"
          ],
          "name": "stderr"
        },
        {
          "output_type": "stream",
          "text": [
            "              precision    recall  f1-score   support\n",
            "\n",
            "           0       0.60      0.76      0.67      3134\n",
            "           1       0.53      0.46      0.49      2630\n",
            "           2       0.17      0.00      0.01       310\n",
            "           3       0.00      0.00      0.00       126\n",
            "           4       0.00      0.00      0.00        25\n",
            "           5       0.00      0.00      0.00        12\n",
            "           6       0.00      0.00      0.00        14\n",
            "           7       0.00      0.00      0.00         1\n",
            "           9       0.00      0.00      0.00         1\n",
            "\n",
            "    accuracy                           0.57      6253\n",
            "   macro avg       0.14      0.14      0.13      6253\n",
            "weighted avg       0.53      0.57      0.54      6253\n",
            "\n",
            "-------------------------------------------------------------------------\n",
            "For K =  15\n"
          ],
          "name": "stdout"
        },
        {
          "output_type": "stream",
          "text": [
            "/usr/local/lib/python3.7/dist-packages/sklearn/metrics/_classification.py:1272: UndefinedMetricWarning: Precision and F-score are ill-defined and being set to 0.0 in labels with no predicted samples. Use `zero_division` parameter to control this behavior.\n",
            "  _warn_prf(average, modifier, msg_start, len(result))\n"
          ],
          "name": "stderr"
        },
        {
          "output_type": "stream",
          "text": [
            "              precision    recall  f1-score   support\n",
            "\n",
            "           0       0.60      0.74      0.66      3134\n",
            "           1       0.53      0.48      0.50      2630\n",
            "           2       0.33      0.01      0.02       310\n",
            "           3       0.00      0.00      0.00       126\n",
            "           4       0.00      0.00      0.00        25\n",
            "           5       0.00      0.00      0.00        12\n",
            "           6       0.00      0.00      0.00        14\n",
            "           7       0.00      0.00      0.00         1\n",
            "           9       0.00      0.00      0.00         1\n",
            "\n",
            "    accuracy                           0.57      6253\n",
            "   macro avg       0.16      0.14      0.13      6253\n",
            "weighted avg       0.54      0.57      0.54      6253\n",
            "\n",
            "-------------------------------------------------------------------------\n",
            "For K =  16\n"
          ],
          "name": "stdout"
        },
        {
          "output_type": "stream",
          "text": [
            "/usr/local/lib/python3.7/dist-packages/sklearn/metrics/_classification.py:1272: UndefinedMetricWarning: Precision and F-score are ill-defined and being set to 0.0 in labels with no predicted samples. Use `zero_division` parameter to control this behavior.\n",
            "  _warn_prf(average, modifier, msg_start, len(result))\n"
          ],
          "name": "stderr"
        },
        {
          "output_type": "stream",
          "text": [
            "              precision    recall  f1-score   support\n",
            "\n",
            "           0       0.60      0.76      0.67      3134\n",
            "           1       0.53      0.45      0.49      2630\n",
            "           2       0.14      0.00      0.01       310\n",
            "           3       0.00      0.00      0.00       126\n",
            "           4       0.00      0.00      0.00        25\n",
            "           5       0.00      0.00      0.00        12\n",
            "           6       0.00      0.00      0.00        14\n",
            "           7       0.00      0.00      0.00         1\n",
            "           9       0.00      0.00      0.00         1\n",
            "\n",
            "    accuracy                           0.57      6253\n",
            "   macro avg       0.14      0.14      0.13      6253\n",
            "weighted avg       0.53      0.57      0.54      6253\n",
            "\n",
            "-------------------------------------------------------------------------\n",
            "For K =  17\n"
          ],
          "name": "stdout"
        },
        {
          "output_type": "stream",
          "text": [
            "/usr/local/lib/python3.7/dist-packages/sklearn/metrics/_classification.py:1272: UndefinedMetricWarning: Precision and F-score are ill-defined and being set to 0.0 in labels with no predicted samples. Use `zero_division` parameter to control this behavior.\n",
            "  _warn_prf(average, modifier, msg_start, len(result))\n"
          ],
          "name": "stderr"
        },
        {
          "output_type": "stream",
          "text": [
            "              precision    recall  f1-score   support\n",
            "\n",
            "           0       0.60      0.75      0.67      3134\n",
            "           1       0.53      0.47      0.50      2630\n",
            "           2       0.29      0.01      0.01       310\n",
            "           3       0.00      0.00      0.00       126\n",
            "           4       0.00      0.00      0.00        25\n",
            "           5       0.00      0.00      0.00        12\n",
            "           6       0.00      0.00      0.00        14\n",
            "           7       0.00      0.00      0.00         1\n",
            "           9       0.00      0.00      0.00         1\n",
            "\n",
            "    accuracy                           0.57      6253\n",
            "   macro avg       0.16      0.14      0.13      6253\n",
            "weighted avg       0.54      0.57      0.54      6253\n",
            "\n",
            "-------------------------------------------------------------------------\n",
            "For K =  18\n"
          ],
          "name": "stdout"
        },
        {
          "output_type": "stream",
          "text": [
            "/usr/local/lib/python3.7/dist-packages/sklearn/metrics/_classification.py:1272: UndefinedMetricWarning: Precision and F-score are ill-defined and being set to 0.0 in labels with no predicted samples. Use `zero_division` parameter to control this behavior.\n",
            "  _warn_prf(average, modifier, msg_start, len(result))\n"
          ],
          "name": "stderr"
        },
        {
          "output_type": "stream",
          "text": [
            "              precision    recall  f1-score   support\n",
            "\n",
            "           0       0.60      0.76      0.67      3134\n",
            "           1       0.53      0.46      0.50      2630\n",
            "           2       0.50      0.01      0.01       310\n",
            "           3       0.00      0.00      0.00       126\n",
            "           4       0.00      0.00      0.00        25\n",
            "           5       0.00      0.00      0.00        12\n",
            "           6       0.00      0.00      0.00        14\n",
            "           7       0.00      0.00      0.00         1\n",
            "           9       0.00      0.00      0.00         1\n",
            "\n",
            "    accuracy                           0.58      6253\n",
            "   macro avg       0.18      0.14      0.13      6253\n",
            "weighted avg       0.55      0.58      0.55      6253\n",
            "\n",
            "-------------------------------------------------------------------------\n",
            "For K =  19\n"
          ],
          "name": "stdout"
        },
        {
          "output_type": "stream",
          "text": [
            "/usr/local/lib/python3.7/dist-packages/sklearn/metrics/_classification.py:1272: UndefinedMetricWarning: Precision and F-score are ill-defined and being set to 0.0 in labels with no predicted samples. Use `zero_division` parameter to control this behavior.\n",
            "  _warn_prf(average, modifier, msg_start, len(result))\n"
          ],
          "name": "stderr"
        },
        {
          "output_type": "stream",
          "text": [
            "              precision    recall  f1-score   support\n",
            "\n",
            "           0       0.60      0.75      0.67      3134\n",
            "           1       0.53      0.47      0.50      2630\n",
            "           2       0.29      0.01      0.01       310\n",
            "           3       0.00      0.00      0.00       126\n",
            "           4       0.00      0.00      0.00        25\n",
            "           5       0.00      0.00      0.00        12\n",
            "           6       0.00      0.00      0.00        14\n",
            "           7       0.00      0.00      0.00         1\n",
            "           9       0.00      0.00      0.00         1\n",
            "\n",
            "    accuracy                           0.57      6253\n",
            "   macro avg       0.16      0.14      0.13      6253\n",
            "weighted avg       0.54      0.57      0.55      6253\n",
            "\n",
            "-------------------------------------------------------------------------\n",
            "For K =  20\n"
          ],
          "name": "stdout"
        },
        {
          "output_type": "stream",
          "text": [
            "/usr/local/lib/python3.7/dist-packages/sklearn/metrics/_classification.py:1272: UndefinedMetricWarning: Precision and F-score are ill-defined and being set to 0.0 in labels with no predicted samples. Use `zero_division` parameter to control this behavior.\n",
            "  _warn_prf(average, modifier, msg_start, len(result))\n"
          ],
          "name": "stderr"
        },
        {
          "output_type": "stream",
          "text": [
            "              precision    recall  f1-score   support\n",
            "\n",
            "           0       0.60      0.77      0.68      3134\n",
            "           1       0.54      0.46      0.50      2630\n",
            "           2       0.50      0.01      0.01       310\n",
            "           3       0.00      0.00      0.00       126\n",
            "           4       0.00      0.00      0.00        25\n",
            "           5       0.00      0.00      0.00        12\n",
            "           6       0.00      0.00      0.00        14\n",
            "           7       0.00      0.00      0.00         1\n",
            "           9       0.00      0.00      0.00         1\n",
            "\n",
            "    accuracy                           0.58      6253\n",
            "   macro avg       0.18      0.14      0.13      6253\n",
            "weighted avg       0.56      0.58      0.55      6253\n",
            "\n",
            "-------------------------------------------------------------------------\n",
            "For K =  21\n"
          ],
          "name": "stdout"
        },
        {
          "output_type": "stream",
          "text": [
            "/usr/local/lib/python3.7/dist-packages/sklearn/metrics/_classification.py:1272: UndefinedMetricWarning: Precision and F-score are ill-defined and being set to 0.0 in labels with no predicted samples. Use `zero_division` parameter to control this behavior.\n",
            "  _warn_prf(average, modifier, msg_start, len(result))\n"
          ],
          "name": "stderr"
        },
        {
          "output_type": "stream",
          "text": [
            "              precision    recall  f1-score   support\n",
            "\n",
            "           0       0.60      0.76      0.67      3134\n",
            "           1       0.54      0.47      0.50      2630\n",
            "           2       0.33      0.01      0.02       310\n",
            "           3       0.00      0.00      0.00       126\n",
            "           4       0.00      0.00      0.00        25\n",
            "           5       0.00      0.00      0.00        12\n",
            "           6       0.00      0.00      0.00        14\n",
            "           7       0.00      0.00      0.00         1\n",
            "           9       0.00      0.00      0.00         1\n",
            "\n",
            "    accuracy                           0.58      6253\n",
            "   macro avg       0.16      0.14      0.13      6253\n",
            "weighted avg       0.55      0.58      0.55      6253\n",
            "\n",
            "-------------------------------------------------------------------------\n",
            "For K =  22\n"
          ],
          "name": "stdout"
        },
        {
          "output_type": "stream",
          "text": [
            "/usr/local/lib/python3.7/dist-packages/sklearn/metrics/_classification.py:1272: UndefinedMetricWarning: Precision and F-score are ill-defined and being set to 0.0 in labels with no predicted samples. Use `zero_division` parameter to control this behavior.\n",
            "  _warn_prf(average, modifier, msg_start, len(result))\n"
          ],
          "name": "stderr"
        },
        {
          "output_type": "stream",
          "text": [
            "              precision    recall  f1-score   support\n",
            "\n",
            "           0       0.60      0.76      0.67      3134\n",
            "           1       0.54      0.47      0.50      2630\n",
            "           2       0.50      0.01      0.02       310\n",
            "           3       0.00      0.00      0.00       126\n",
            "           4       0.00      0.00      0.00        25\n",
            "           5       0.00      0.00      0.00        12\n",
            "           6       0.00      0.00      0.00        14\n",
            "           7       0.00      0.00      0.00         1\n",
            "           9       0.00      0.00      0.00         1\n",
            "\n",
            "    accuracy                           0.58      6253\n",
            "   macro avg       0.18      0.14      0.13      6253\n",
            "weighted avg       0.55      0.58      0.55      6253\n",
            "\n",
            "-------------------------------------------------------------------------\n",
            "For K =  23\n"
          ],
          "name": "stdout"
        },
        {
          "output_type": "stream",
          "text": [
            "/usr/local/lib/python3.7/dist-packages/sklearn/metrics/_classification.py:1272: UndefinedMetricWarning: Precision and F-score are ill-defined and being set to 0.0 in labels with no predicted samples. Use `zero_division` parameter to control this behavior.\n",
            "  _warn_prf(average, modifier, msg_start, len(result))\n"
          ],
          "name": "stderr"
        },
        {
          "output_type": "stream",
          "text": [
            "              precision    recall  f1-score   support\n",
            "\n",
            "           0       0.60      0.76      0.67      3134\n",
            "           1       0.54      0.47      0.50      2630\n",
            "           2       0.00      0.00      0.00       310\n",
            "           3       0.00      0.00      0.00       126\n",
            "           4       0.00      0.00      0.00        25\n",
            "           5       0.00      0.00      0.00        12\n",
            "           6       0.00      0.00      0.00        14\n",
            "           7       0.00      0.00      0.00         1\n",
            "           9       0.00      0.00      0.00         1\n",
            "\n",
            "    accuracy                           0.58      6253\n",
            "   macro avg       0.13      0.14      0.13      6253\n",
            "weighted avg       0.53      0.58      0.55      6253\n",
            "\n",
            "-------------------------------------------------------------------------\n",
            "For K =  24\n",
            "              precision    recall  f1-score   support\n",
            "\n",
            "           0       0.61      0.77      0.68      3134\n",
            "           1       0.54      0.47      0.50      2630\n",
            "           2       0.00      0.00      0.00       310\n",
            "           3       0.00      0.00      0.00       126\n",
            "           4       0.00      0.00      0.00        25\n",
            "           5       0.00      0.00      0.00        12\n",
            "           6       0.00      0.00      0.00        14\n",
            "           7       0.00      0.00      0.00         1\n",
            "           9       0.00      0.00      0.00         1\n",
            "\n",
            "    accuracy                           0.58      6253\n",
            "   macro avg       0.13      0.14      0.13      6253\n",
            "weighted avg       0.53      0.58      0.55      6253\n",
            "\n",
            "-------------------------------------------------------------------------\n"
          ],
          "name": "stdout"
        },
        {
          "output_type": "stream",
          "text": [
            "/usr/local/lib/python3.7/dist-packages/sklearn/metrics/_classification.py:1272: UndefinedMetricWarning: Precision and F-score are ill-defined and being set to 0.0 in labels with no predicted samples. Use `zero_division` parameter to control this behavior.\n",
            "  _warn_prf(average, modifier, msg_start, len(result))\n"
          ],
          "name": "stderr"
        }
      ]
    },
    {
      "cell_type": "code",
      "metadata": {
        "id": "7Y6FdMz8CvzA"
      },
      "source": [
        "#here we can see that accuracy for each value of K isa betn 54% to 57% on the training dataset."
      ],
      "execution_count": 20,
      "outputs": []
    },
    {
      "cell_type": "code",
      "metadata": {
        "id": "GtJ8fIz8DqYA"
      },
      "source": [
        "#Now use for the Testing Datasert"
      ],
      "execution_count": 21,
      "outputs": []
    },
    {
      "cell_type": "code",
      "metadata": {
        "colab": {
          "base_uri": "https://localhost:8080/"
        },
        "id": "wo-l07ZBDu0Z",
        "outputId": "e8b7b759-7893-4bab-eae8-769d0c15e290"
      },
      "source": [
        "for i in range(1,5):\n",
        "    knc = KNeighborsClassifier(i)\n",
        "    knc.fit(X_train, y_train)\n",
        "    print(\"For K = \",i);\n",
        "    print(classification_report(y_test_data, knc.predict(x_test_data)))\n",
        "    print(\"-------------------------------------------------------------------------\")"
      ],
      "execution_count": 26,
      "outputs": [
        {
          "output_type": "stream",
          "text": [
            "For K =  1\n",
            "              precision    recall  f1-score   support\n",
            "\n",
            "           0       0.59      0.60      0.59    501209\n",
            "           1       0.47      0.47      0.47    422498\n",
            "           2       0.13      0.12      0.13     47622\n",
            "           3       0.10      0.10      0.10     21121\n",
            "           4       0.06      0.05      0.06      3885\n",
            "           5       0.03      0.03      0.03      1996\n",
            "           6       0.03      0.02      0.02      1424\n",
            "           7       0.00      0.00      0.00       230\n",
            "           8       0.00      0.00      0.00        12\n",
            "           9       0.00      0.00      0.00         3\n",
            "\n",
            "    accuracy                           0.51   1000000\n",
            "   macro avg       0.14      0.14      0.14   1000000\n",
            "weighted avg       0.51      0.51      0.51   1000000\n",
            "\n",
            "-------------------------------------------------------------------------\n",
            "For K =  2\n"
          ],
          "name": "stdout"
        },
        {
          "output_type": "stream",
          "text": [
            "/usr/local/lib/python3.7/dist-packages/sklearn/metrics/_classification.py:1272: UndefinedMetricWarning: Precision and F-score are ill-defined and being set to 0.0 in labels with no predicted samples. Use `zero_division` parameter to control this behavior.\n",
            "  _warn_prf(average, modifier, msg_start, len(result))\n"
          ],
          "name": "stderr"
        },
        {
          "output_type": "stream",
          "text": [
            "              precision    recall  f1-score   support\n",
            "\n",
            "           0       0.56      0.82      0.67    501209\n",
            "           1       0.52      0.32      0.39    422498\n",
            "           2       0.19      0.04      0.06     47622\n",
            "           3       0.15      0.01      0.03     21121\n",
            "           4       0.06      0.00      0.01      3885\n",
            "           5       0.00      0.00      0.00      1996\n",
            "           6       0.20      0.00      0.00      1424\n",
            "           7       0.00      0.00      0.00       230\n",
            "           8       0.00      0.00      0.00        12\n",
            "           9       0.00      0.00      0.00         3\n",
            "\n",
            "    accuracy                           0.55   1000000\n",
            "   macro avg       0.17      0.12      0.12   1000000\n",
            "weighted avg       0.51      0.55      0.50   1000000\n",
            "\n",
            "-------------------------------------------------------------------------\n",
            "For K =  3\n"
          ],
          "name": "stdout"
        },
        {
          "output_type": "stream",
          "text": [
            "/usr/local/lib/python3.7/dist-packages/sklearn/metrics/_classification.py:1272: UndefinedMetricWarning: Precision and F-score are ill-defined and being set to 0.0 in labels with no predicted samples. Use `zero_division` parameter to control this behavior.\n",
            "  _warn_prf(average, modifier, msg_start, len(result))\n"
          ],
          "name": "stderr"
        },
        {
          "output_type": "stream",
          "text": [
            "              precision    recall  f1-score   support\n",
            "\n",
            "           0       0.58      0.67      0.62    501209\n",
            "           1       0.49      0.46      0.47    422498\n",
            "           2       0.18      0.04      0.07     47622\n",
            "           3       0.16      0.02      0.04     21121\n",
            "           4       0.08      0.01      0.01      3885\n",
            "           5       0.11      0.00      0.00      1996\n",
            "           6       0.15      0.00      0.00      1424\n",
            "           7       0.00      0.00      0.00       230\n",
            "           8       0.00      0.00      0.00        12\n",
            "           9       0.00      0.00      0.00         3\n",
            "\n",
            "    accuracy                           0.53   1000000\n",
            "   macro avg       0.17      0.12      0.12   1000000\n",
            "weighted avg       0.51      0.53      0.52   1000000\n",
            "\n",
            "-------------------------------------------------------------------------\n",
            "For K =  4\n"
          ],
          "name": "stdout"
        },
        {
          "output_type": "stream",
          "text": [
            "/usr/local/lib/python3.7/dist-packages/sklearn/metrics/_classification.py:1272: UndefinedMetricWarning: Precision and F-score are ill-defined and being set to 0.0 in labels with no predicted samples. Use `zero_division` parameter to control this behavior.\n",
            "  _warn_prf(average, modifier, msg_start, len(result))\n"
          ],
          "name": "stderr"
        },
        {
          "output_type": "stream",
          "text": [
            "              precision    recall  f1-score   support\n",
            "\n",
            "           0       0.58      0.77      0.66    501209\n",
            "           1       0.52      0.38      0.44    422498\n",
            "           2       0.18      0.04      0.07     47622\n",
            "           3       0.14      0.02      0.04     21121\n",
            "           4       0.07      0.01      0.01      3885\n",
            "           5       0.05      0.00      0.00      1996\n",
            "           6       0.15      0.00      0.00      1424\n",
            "           7       0.00      0.00      0.00       230\n",
            "           8       0.00      0.00      0.00        12\n",
            "           9       0.00      0.00      0.00         3\n",
            "\n",
            "    accuracy                           0.55   1000000\n",
            "   macro avg       0.17      0.12      0.12   1000000\n",
            "weighted avg       0.52      0.55      0.52   1000000\n",
            "\n",
            "-------------------------------------------------------------------------\n"
          ],
          "name": "stdout"
        }
      ]
    },
    {
      "cell_type": "code",
      "metadata": {
        "id": "wGjHQ5oRDvTr"
      },
      "source": [
        ""
      ],
      "execution_count": null,
      "outputs": []
    }
  ]
}