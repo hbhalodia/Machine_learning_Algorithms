{
  "nbformat": 4,
  "nbformat_minor": 0,
  "metadata": {
    "colab": {
      "name": "Individual_Dataset_Kmeans.ipynb",
      "provenance": []
    },
    "kernelspec": {
      "name": "python3",
      "display_name": "Python 3"
    },
    "language_info": {
      "name": "python"
    }
  },
  "cells": [
    {
      "cell_type": "code",
      "metadata": {
        "id": "JVF7oGb9cEsZ"
      },
      "source": [
        "import numpy as np  #does mathematical operation\n",
        "import matplotlib.pyplot as plt #For plotting the graphs\n",
        "import pandas as pd #making the data frames and import the csv files"
      ],
      "execution_count": 2,
      "outputs": []
    },
    {
      "cell_type": "code",
      "metadata": {
        "id": "aZUYzjxqcFV6"
      },
      "source": [
        "from google.colab import drive #to import the google drive data"
      ],
      "execution_count": 3,
      "outputs": []
    },
    {
      "cell_type": "code",
      "metadata": {
        "colab": {
          "base_uri": "https://localhost:8080/"
        },
        "id": "hXP6QuROcGVd",
        "outputId": "b1cc2aae-2bab-4de9-d290-73f5ce9f839b"
      },
      "source": [
        "drive.mount('/content/drive')   # to mount the drive data into the colab cloud and enter the activation code"
      ],
      "execution_count": 4,
      "outputs": [
        {
          "output_type": "stream",
          "text": [
            "Mounted at /content/drive\n"
          ],
          "name": "stdout"
        }
      ]
    },
    {
      "cell_type": "code",
      "metadata": {
        "colab": {
          "base_uri": "https://localhost:8080/"
        },
        "id": "fvxH8LracIJA",
        "outputId": "323b16a8-9834-420c-8332-c723c70988d8"
      },
      "source": [
        "cd /content/drive/\"My Drive/Colab Notebooks/K-meansClusteringDataset\" "
      ],
      "execution_count": 5,
      "outputs": [
        {
          "output_type": "stream",
          "text": [
            "/content/drive/My Drive/Colab Notebooks/K-meansClusteringDataset\n"
          ],
          "name": "stdout"
        }
      ]
    },
    {
      "cell_type": "code",
      "metadata": {
        "id": "Z_U6MNIycTGC"
      },
      "source": [
        "dataset = pd.read_csv(\"Instagram visits clustering.csv\")"
      ],
      "execution_count": 6,
      "outputs": []
    },
    {
      "cell_type": "code",
      "metadata": {
        "colab": {
          "base_uri": "https://localhost:8080/",
          "height": 402
        },
        "id": "yucahISScUyW",
        "outputId": "f217ad39-fd6a-4491-be80-f8bb05b3521d"
      },
      "source": [
        "dataset"
      ],
      "execution_count": 7,
      "outputs": [
        {
          "output_type": "execute_result",
          "data": {
            "text/html": [
              "<div>\n",
              "<style scoped>\n",
              "    .dataframe tbody tr th:only-of-type {\n",
              "        vertical-align: middle;\n",
              "    }\n",
              "\n",
              "    .dataframe tbody tr th {\n",
              "        vertical-align: top;\n",
              "    }\n",
              "\n",
              "    .dataframe thead th {\n",
              "        text-align: right;\n",
              "    }\n",
              "</style>\n",
              "<table border=\"1\" class=\"dataframe\">\n",
              "  <thead>\n",
              "    <tr style=\"text-align: right;\">\n",
              "      <th></th>\n",
              "      <th>User ID</th>\n",
              "      <th>Instagram visit score</th>\n",
              "      <th>Spending_rank(0 to 100)</th>\n",
              "    </tr>\n",
              "  </thead>\n",
              "  <tbody>\n",
              "    <tr>\n",
              "      <th>0</th>\n",
              "      <td>0</td>\n",
              "      <td>63</td>\n",
              "      <td>24.050708</td>\n",
              "    </tr>\n",
              "    <tr>\n",
              "      <th>1</th>\n",
              "      <td>1</td>\n",
              "      <td>61</td>\n",
              "      <td>25.223290</td>\n",
              "    </tr>\n",
              "    <tr>\n",
              "      <th>2</th>\n",
              "      <td>2</td>\n",
              "      <td>104</td>\n",
              "      <td>18.528245</td>\n",
              "    </tr>\n",
              "    <tr>\n",
              "      <th>3</th>\n",
              "      <td>3</td>\n",
              "      <td>82</td>\n",
              "      <td>86.890232</td>\n",
              "    </tr>\n",
              "    <tr>\n",
              "      <th>4</th>\n",
              "      <td>4</td>\n",
              "      <td>14</td>\n",
              "      <td>31.492397</td>\n",
              "    </tr>\n",
              "    <tr>\n",
              "      <th>...</th>\n",
              "      <td>...</td>\n",
              "      <td>...</td>\n",
              "      <td>...</td>\n",
              "    </tr>\n",
              "    <tr>\n",
              "      <th>2595</th>\n",
              "      <td>2595</td>\n",
              "      <td>25</td>\n",
              "      <td>25.745908</td>\n",
              "    </tr>\n",
              "    <tr>\n",
              "      <th>2596</th>\n",
              "      <td>2596</td>\n",
              "      <td>52</td>\n",
              "      <td>9.275066</td>\n",
              "    </tr>\n",
              "    <tr>\n",
              "      <th>2597</th>\n",
              "      <td>2597</td>\n",
              "      <td>100</td>\n",
              "      <td>84.999487</td>\n",
              "    </tr>\n",
              "    <tr>\n",
              "      <th>2598</th>\n",
              "      <td>2598</td>\n",
              "      <td>87</td>\n",
              "      <td>20.530806</td>\n",
              "    </tr>\n",
              "    <tr>\n",
              "      <th>2599</th>\n",
              "      <td>2599</td>\n",
              "      <td>34</td>\n",
              "      <td>76.388622</td>\n",
              "    </tr>\n",
              "  </tbody>\n",
              "</table>\n",
              "<p>2600 rows × 3 columns</p>\n",
              "</div>"
            ],
            "text/plain": [
              "      User ID  Instagram visit score  Spending_rank(0 to 100)\n",
              "0           0                     63                24.050708\n",
              "1           1                     61                25.223290\n",
              "2           2                    104                18.528245\n",
              "3           3                     82                86.890232\n",
              "4           4                     14                31.492397\n",
              "...       ...                    ...                      ...\n",
              "2595     2595                     25                25.745908\n",
              "2596     2596                     52                 9.275066\n",
              "2597     2597                    100                84.999487\n",
              "2598     2598                     87                20.530806\n",
              "2599     2599                     34                76.388622\n",
              "\n",
              "[2600 rows x 3 columns]"
            ]
          },
          "metadata": {
            "tags": []
          },
          "execution_count": 7
        }
      ]
    },
    {
      "cell_type": "code",
      "metadata": {
        "id": "JZtt3q1qccYe"
      },
      "source": [
        "X = dataset.iloc[:,1:3].values"
      ],
      "execution_count": 8,
      "outputs": []
    },
    {
      "cell_type": "code",
      "metadata": {
        "colab": {
          "base_uri": "https://localhost:8080/"
        },
        "id": "nJlFoeL0chU0",
        "outputId": "e08a5bbb-b337-4247-c4aa-e009a0c8fd6b"
      },
      "source": [
        "X"
      ],
      "execution_count": 9,
      "outputs": [
        {
          "output_type": "execute_result",
          "data": {
            "text/plain": [
              "array([[ 63.        ,  24.05070845],\n",
              "       [ 61.        ,  25.22329005],\n",
              "       [104.        ,  18.52824526],\n",
              "       ...,\n",
              "       [100.        ,  84.99948736],\n",
              "       [ 87.        ,  20.53080557],\n",
              "       [ 34.        ,  76.38862194]])"
            ]
          },
          "metadata": {
            "tags": []
          },
          "execution_count": 9
        }
      ]
    },
    {
      "cell_type": "code",
      "metadata": {
        "id": "IFW30i9hchzi"
      },
      "source": [
        "from sklearn.cluster import KMeans"
      ],
      "execution_count": 10,
      "outputs": []
    },
    {
      "cell_type": "code",
      "metadata": {
        "colab": {
          "base_uri": "https://localhost:8080/",
          "height": 295
        },
        "id": "56pS1n98ckzS",
        "outputId": "80220cac-7377-44eb-d745-c1a129623d65"
      },
      "source": [
        "wcss=[]\n",
        "for i in range(1,10):\n",
        "    kmeans = KMeans(n_clusters=i,init='k-means++',random_state=0)\n",
        "    kmeans.fit(X)\n",
        "    wcss.append(kmeans.inertia_)        #residual values which we are having.\n",
        "plt.plot(range(1,10),wcss)\n",
        "plt.title('K means Elbow Graph')\n",
        "plt.xlabel('# of Cluster')\n",
        "plt.ylabel('WCSS')\n",
        "plt.show()"
      ],
      "execution_count": 11,
      "outputs": [
        {
          "output_type": "display_data",
          "data": {
            "image/png": "[encoded data removed]",
            "text/plain": [
              "<Figure size 432x288 with 1 Axes>"
            ]
          },
          "metadata": {
            "tags": [],
            "needs_background": "light"
          }
        }
      ]
    },
    {
      "cell_type": "code",
      "metadata": {
        "id": "0UR6hSNtcmqP"
      },
      "source": [
        "kmeans = KMeans(n_clusters=5,init='k-means++',random_state=0)\n",
        "y_kmeans = kmeans.fit_predict(X)"
      ],
      "execution_count": 12,
      "outputs": []
    },
    {
      "cell_type": "code",
      "metadata": {
        "colab": {
          "base_uri": "https://localhost:8080/",
          "height": 295
        },
        "id": "9dJ3fbX7coY7",
        "outputId": "c8b24a53-35a3-4284-9014-e38f5c74f04b"
      },
      "source": [
        "#visualize the Cluster\n",
        "plt.scatter(X[y_kmeans==0,0],X[y_kmeans==0,1],s=20,c='red',label='cluster1')\n",
        "plt.scatter(X[y_kmeans==1,0],X[y_kmeans==1,1],s=20,c='orange',label='cluster2')\n",
        "plt.scatter(X[y_kmeans==2,0],X[y_kmeans==2,1],s=20,c='green',label='cluster3')\n",
        "plt.scatter(X[y_kmeans==3,0],X[y_kmeans==3,1],s=20,c='cyan',label='cluster4')\n",
        "plt.scatter(X[y_kmeans==4,0],X[y_kmeans==4,1],s=20,c='magenta',label='cluster5')\n",
        "\n",
        "plt.scatter(kmeans.cluster_centers_[:,0],kmeans.cluster_centers_[:,1],s=100,c='blue',label='centroids')\n",
        "\n",
        "plt.title('Heirarchical Clustering')\n",
        "plt.xlabel('Visit Score')\n",
        "plt.ylabel('Spending Score')\n",
        "plt.legend()  \n",
        "plt.show()"
      ],
      "execution_count": 14,
      "outputs": [
        {
          "output_type": "display_data",
          "data": {
            "image/png": "[encoded data removed]",
            "text/plain": [
              "<Figure size 432x288 with 1 Axes>"
            ]
          },
          "metadata": {
            "tags": [],
            "needs_background": "light"
          }
        }
      ]
    },
    {
      "cell_type": "code",
      "metadata": {
        "id": "8WR4Y685cqDX"
      },
      "source": [
        ""
      ],
      "execution_count": null,
      "outputs": []
    }
  ]
}