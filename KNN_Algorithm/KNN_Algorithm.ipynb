{
  "nbformat": 4,
  "nbformat_minor": 0,
  "metadata": {
    "colab": {
      "name": "KNN_Algorithm.ipynb",
      "provenance": [],
      "collapsed_sections": []
    },
    "kernelspec": {
      "name": "python3",
      "display_name": "Python 3"
    }
  },
  "cells": [
    {
      "cell_type": "code",
      "metadata": {
        "id": "CU07nwygAuAH"
      },
      "source": [
        "import numpy as np  #does mathematical operation\r\n",
        "import matplotlib.pyplot as plt #For plotting the graphs\r\n",
        "import pandas as pd #making the data frames and import the csv files\r\n",
        "import math\r\n",
        "from sklearn import metrics\r\n",
        "\r\n",
        "#from google.colab import drive #to import the google drive data\r\n",
        "\r\n",
        "#drive.mount('/content/drive')   # to mount the drive data into the colab cloud and enter the activation code\r\n"
      ],
      "execution_count": null,
      "outputs": []
    },
    {
      "cell_type": "code",
      "metadata": {
        "id": "d8eu1B62BRlN"
      },
      "source": [
        "#cd /content/drive/\"My Drive/Colab Notebooks/Linear_Regression\" \r\n"
      ],
      "execution_count": null,
      "outputs": []
    },
    {
      "cell_type": "code",
      "metadata": {
        "id": "ICzqxYcwBCzE",
        "colab": {
          "base_uri": "https://localhost:8080/",
          "height": 195
        },
        "outputId": "8730e8f6-163c-4730-cd12-6e3246c8871d"
      },
      "source": [
        "#Taking the Dataset from URL and read it as CSV File\r\n",
        "url = \"https://archive.ics.uci.edu/ml/machine-learning-databases/iris/iris.data\"\r\n",
        "Colnames = ['sepal_length','sepal_width','petal_length','petal_width','Class']\r\n",
        "dataset = pd.read_csv(url,names=Colnames)\r\n",
        "dataset.head()      #to Read top 5 Values   "
      ],
      "execution_count": null,
      "outputs": [
        {
          "output_type": "execute_result",
          "data": {
            "text/html": [
              "<div>\n",
              "<style scoped>\n",
              "    .dataframe tbody tr th:only-of-type {\n",
              "        vertical-align: middle;\n",
              "    }\n",
              "\n",
              "    .dataframe tbody tr th {\n",
              "        vertical-align: top;\n",
              "    }\n",
              "\n",
              "    .dataframe thead th {\n",
              "        text-align: right;\n",
              "    }\n",
              "</style>\n",
              "<table border=\"1\" class=\"dataframe\">\n",
              "  <thead>\n",
              "    <tr style=\"text-align: right;\">\n",
              "      <th></th>\n",
              "      <th>sepal_length</th>\n",
              "      <th>sepal_width</th>\n",
              "      <th>petal_length</th>\n",
              "      <th>petal_width</th>\n",
              "      <th>Class</th>\n",
              "    </tr>\n",
              "  </thead>\n",
              "  <tbody>\n",
              "    <tr>\n",
              "      <th>0</th>\n",
              "      <td>5.1</td>\n",
              "      <td>3.5</td>\n",
              "      <td>1.4</td>\n",
              "      <td>0.2</td>\n",
              "      <td>Iris-setosa</td>\n",
              "    </tr>\n",
              "    <tr>\n",
              "      <th>1</th>\n",
              "      <td>4.9</td>\n",
              "      <td>3.0</td>\n",
              "      <td>1.4</td>\n",
              "      <td>0.2</td>\n",
              "      <td>Iris-setosa</td>\n",
              "    </tr>\n",
              "    <tr>\n",
              "      <th>2</th>\n",
              "      <td>4.7</td>\n",
              "      <td>3.2</td>\n",
              "      <td>1.3</td>\n",
              "      <td>0.2</td>\n",
              "      <td>Iris-setosa</td>\n",
              "    </tr>\n",
              "    <tr>\n",
              "      <th>3</th>\n",
              "      <td>4.6</td>\n",
              "      <td>3.1</td>\n",
              "      <td>1.5</td>\n",
              "      <td>0.2</td>\n",
              "      <td>Iris-setosa</td>\n",
              "    </tr>\n",
              "    <tr>\n",
              "      <th>4</th>\n",
              "      <td>5.0</td>\n",
              "      <td>3.6</td>\n",
              "      <td>1.4</td>\n",
              "      <td>0.2</td>\n",
              "      <td>Iris-setosa</td>\n",
              "    </tr>\n",
              "  </tbody>\n",
              "</table>\n",
              "</div>"
            ],
            "text/plain": [
              "   sepal_length  sepal_width  petal_length  petal_width        Class\n",
              "0           5.1          3.5           1.4          0.2  Iris-setosa\n",
              "1           4.9          3.0           1.4          0.2  Iris-setosa\n",
              "2           4.7          3.2           1.3          0.2  Iris-setosa\n",
              "3           4.6          3.1           1.5          0.2  Iris-setosa\n",
              "4           5.0          3.6           1.4          0.2  Iris-setosa"
            ]
          },
          "metadata": {
            "tags": []
          },
          "execution_count": 104
        }
      ]
    },
    {
      "cell_type": "code",
      "metadata": {
        "id": "FFJi8b-RBcNl",
        "colab": {
          "base_uri": "https://localhost:8080/",
          "height": 195
        },
        "outputId": "9b4c7c0a-30ee-440e-9b0e-a5f1c08af29e"
      },
      "source": [
        "dataset.tail()      #TO read last 5 Values"
      ],
      "execution_count": null,
      "outputs": [
        {
          "output_type": "execute_result",
          "data": {
            "text/html": [
              "<div>\n",
              "<style scoped>\n",
              "    .dataframe tbody tr th:only-of-type {\n",
              "        vertical-align: middle;\n",
              "    }\n",
              "\n",
              "    .dataframe tbody tr th {\n",
              "        vertical-align: top;\n",
              "    }\n",
              "\n",
              "    .dataframe thead th {\n",
              "        text-align: right;\n",
              "    }\n",
              "</style>\n",
              "<table border=\"1\" class=\"dataframe\">\n",
              "  <thead>\n",
              "    <tr style=\"text-align: right;\">\n",
              "      <th></th>\n",
              "      <th>sepal_length</th>\n",
              "      <th>sepal_width</th>\n",
              "      <th>petal_length</th>\n",
              "      <th>petal_width</th>\n",
              "      <th>Class</th>\n",
              "    </tr>\n",
              "  </thead>\n",
              "  <tbody>\n",
              "    <tr>\n",
              "      <th>145</th>\n",
              "      <td>6.7</td>\n",
              "      <td>3.0</td>\n",
              "      <td>5.2</td>\n",
              "      <td>2.3</td>\n",
              "      <td>Iris-virginica</td>\n",
              "    </tr>\n",
              "    <tr>\n",
              "      <th>146</th>\n",
              "      <td>6.3</td>\n",
              "      <td>2.5</td>\n",
              "      <td>5.0</td>\n",
              "      <td>1.9</td>\n",
              "      <td>Iris-virginica</td>\n",
              "    </tr>\n",
              "    <tr>\n",
              "      <th>147</th>\n",
              "      <td>6.5</td>\n",
              "      <td>3.0</td>\n",
              "      <td>5.2</td>\n",
              "      <td>2.0</td>\n",
              "      <td>Iris-virginica</td>\n",
              "    </tr>\n",
              "    <tr>\n",
              "      <th>148</th>\n",
              "      <td>6.2</td>\n",
              "      <td>3.4</td>\n",
              "      <td>5.4</td>\n",
              "      <td>2.3</td>\n",
              "      <td>Iris-virginica</td>\n",
              "    </tr>\n",
              "    <tr>\n",
              "      <th>149</th>\n",
              "      <td>5.9</td>\n",
              "      <td>3.0</td>\n",
              "      <td>5.1</td>\n",
              "      <td>1.8</td>\n",
              "      <td>Iris-virginica</td>\n",
              "    </tr>\n",
              "  </tbody>\n",
              "</table>\n",
              "</div>"
            ],
            "text/plain": [
              "     sepal_length  sepal_width  petal_length  petal_width           Class\n",
              "145           6.7          3.0           5.2          2.3  Iris-virginica\n",
              "146           6.3          2.5           5.0          1.9  Iris-virginica\n",
              "147           6.5          3.0           5.2          2.0  Iris-virginica\n",
              "148           6.2          3.4           5.4          2.3  Iris-virginica\n",
              "149           5.9          3.0           5.1          1.8  Iris-virginica"
            ]
          },
          "metadata": {
            "tags": []
          },
          "execution_count": 105
        }
      ]
    },
    {
      "cell_type": "code",
      "metadata": {
        "colab": {
          "base_uri": "https://localhost:8080/"
        },
        "id": "VLtq_SR-OOCm",
        "outputId": "96a087c2-0a50-43ea-a26f-1f4f9022164e"
      },
      "source": [
        "dataset.shape"
      ],
      "execution_count": null,
      "outputs": [
        {
          "output_type": "execute_result",
          "data": {
            "text/plain": [
              "(150, 5)"
            ]
          },
          "metadata": {
            "tags": []
          },
          "execution_count": 106
        }
      ]
    },
    {
      "cell_type": "code",
      "metadata": {
        "id": "IO-3yEVHObOn"
      },
      "source": [
        "training_dataset = dataset.values[:,0:4]"
      ],
      "execution_count": null,
      "outputs": []
    },
    {
      "cell_type": "code",
      "metadata": {
        "colab": {
          "base_uri": "https://localhost:8080/"
        },
        "id": "srD3UYEsOoo2",
        "outputId": "c1ba82ab-4cf5-4877-fde7-81e4f7bbaa03"
      },
      "source": [
        "training_dataset\r\n",
        "training_dataset.shape"
      ],
      "execution_count": null,
      "outputs": [
        {
          "output_type": "execute_result",
          "data": {
            "text/plain": [
              "(150, 4)"
            ]
          },
          "metadata": {
            "tags": []
          },
          "execution_count": 108
        }
      ]
    },
    {
      "cell_type": "code",
      "metadata": {
        "id": "WnUYzg2KOxwM"
      },
      "source": [
        "training_class_dataset = dataset.values[:,-1]"
      ],
      "execution_count": null,
      "outputs": []
    },
    {
      "cell_type": "code",
      "metadata": {
        "colab": {
          "base_uri": "https://localhost:8080/"
        },
        "id": "LrRSGEl5O_Cb",
        "outputId": "0ad3f3b7-a333-4e53-eba1-6cd87ca313b0"
      },
      "source": [
        "training_class_dataset\r\n",
        "training_class_dataset.shape"
      ],
      "execution_count": null,
      "outputs": [
        {
          "output_type": "execute_result",
          "data": {
            "text/plain": [
              "(150,)"
            ]
          },
          "metadata": {
            "tags": []
          },
          "execution_count": 110
        }
      ]
    },
    {
      "cell_type": "code",
      "metadata": {
        "id": "SdRBExPtPAiQ"
      },
      "source": [
        "#To find the euclidiean distance between the points\r\n",
        "def euclidiean_distance(row1,row2):     #Taking 2 observations as the parameters to find the distance between them\r\n",
        "    distance = 0.0  \r\n",
        "    for i in range(len(row1)):\r\n",
        "        distance+=(row1[i]-row2[i])**2\r\n",
        "    \r\n",
        "    return math.sqrt(distance)"
      ],
      "execution_count": null,
      "outputs": []
    },
    {
      "cell_type": "code",
      "metadata": {
        "colab": {
          "base_uri": "https://localhost:8080/"
        },
        "id": "ZL4-elrBP1hl",
        "outputId": "2fd19cd0-8457-464c-e987-ec922ff0debf"
      },
      "source": [
        "#To find the unique classes from the dataser\r\n",
        "unique_list = []\r\n",
        "for x in training_class_dataset:\r\n",
        "    if x not in unique_list:\r\n",
        "        unique_list.append(x)\r\n",
        "print(unique_list)\r\n",
        "\r\n",
        "#to replcae the class with  numerical value\r\n",
        "for i in range(len(training_class_dataset)):\r\n",
        "    for k in range(len(unique_list)):\r\n",
        "        if(training_class_dataset[i]==unique_list[k]):\r\n",
        "            training_class_dataset[i]=k\r\n",
        "            break\r\n",
        "print(training_class_dataset)\r\n"
      ],
      "execution_count": null,
      "outputs": [
        {
          "output_type": "stream",
          "text": [
            "['Iris-setosa', 'Iris-versicolor', 'Iris-virginica']\n",
            "[0 0 0 0 0 0 0 0 0 0 0 0 0 0 0 0 0 0 0 0 0 0 0 0 0 0 0 0 0 0 0 0 0 0 0 0 0\n",
            " 0 0 0 0 0 0 0 0 0 0 0 0 0 1 1 1 1 1 1 1 1 1 1 1 1 1 1 1 1 1 1 1 1 1 1 1 1\n",
            " 1 1 1 1 1 1 1 1 1 1 1 1 1 1 1 1 1 1 1 1 1 1 1 1 1 1 2 2 2 2 2 2 2 2 2 2 2\n",
            " 2 2 2 2 2 2 2 2 2 2 2 2 2 2 2 2 2 2 2 2 2 2 2 2 2 2 2 2 2 2 2 2 2 2 2 2 2\n",
            " 2 2]\n"
          ],
          "name": "stdout"
        }
      ]
    },
    {
      "cell_type": "code",
      "metadata": {
        "id": "ojNG2pJeQdCZ",
        "colab": {
          "base_uri": "https://localhost:8080/"
        },
        "outputId": "c78d261f-aec5-4401-d72c-0cf3da56dbcb"
      },
      "source": [
        "distance = []\r\n",
        "for i in range(len(training_dataset)):\r\n",
        "    distance.append([euclidiean_distance(training_dataset[i],training_dataset[52]),training_class_dataset[i]])\r\n",
        "print(distance)\r\n",
        "print(len(distance))"
      ],
      "execution_count": null,
      "outputs": [
        {
          "output_type": "stream",
          "text": [
            "[[4.164132562731403, 0], [4.236744032862973, 0], [4.415880433163924, 0], [4.305810028322198, 0], [4.219004621945798, 0], [3.786819245752298, 0], [4.366921112179611, 0], [4.117037770047781, 0], [4.497777228809804, 0], [4.1856899072912706, 0], [3.9824615503479754, 0], [4.132795663954366, 0], [4.316248370981448, 0], [4.813522618623497, 0], [4.171330722922843, 0], [3.9874804074753776, 0], [4.130375285612677, 0], [4.134005321718878, 0], [3.6891733491393435, 0], [4.090232267243512, 0], [3.7775653535048206, 0], [4.045985664828782, 0], [4.737087712930806, 0], [3.8105117766515306, 0], [3.897435053981016, 0], [4.024922359499622, 0], [3.9749213828703587, 0], [4.037325847637271, 0], [4.113392760240627, 0], [4.174925149029621, 0], [4.12189276910499, 0], [3.8871583451153624, 0], [4.172529209005013, 0], [4.136423575989288, 0], [4.1856899072912706, 0], [4.358898943540674, 0], [4.095119045888655, 0], [4.1856899072912706, 0], [4.572745346069471, 0], [4.0718546143004675, 0], [4.262628297189424, 0], [4.560701700396553, 0], [4.572745346069471, 0], [3.9331920878594278, 0], [3.7336309405188945, 0], [4.2555845661906435, 0], [4.038564101261735, 0], [4.386342439892263, 0], [4.021193852576621, 0], [4.194043395102154, 0], [0.26457513110645914, 1], [0.6480740698407862, 1], [0.0, 1], [1.8574175621006714, 1], [0.5830951894845308, 1], [1.315294643796591, 1], [0.6708203932499374, 1], [2.7018512172212596, 1], [0.5099019513592794, 1], [2.014944167960989, 1], [2.651414716712571, 1], [1.2247448713915892, 1], [1.6370705543744903, 1], [0.8544003745317538, 1], [1.860107523773828, 1], [0.5477225575051662, 1], [1.3638181696985865, 1], [1.5033296378372916, 1], [1.2083045973594573, 1], [1.7916472867168924, 1], [1.0535653752852738, 1], [1.2569805089976542, 1], [0.8485281374238575, 1], [0.9273618495495711, 1], [0.830662386291808, 1], [0.6000000000000003, 1], [0.346410161513776, 1], [0.31622776601683794, 1], [1.0049875621120894, 1], [1.9748417658131503, 1], [1.954482028569207, 1], [2.034698994937581, 1], [1.5684387141358127, 1], [1.0099504938362078, 1], [1.5556349186104046, 1], [1.0344080432788605, 1], [0.2828427124746193, 1], [1.1357816691600553, 1], [1.5427248620541523, 1], [1.7804493814764861, 1], [1.5968719422671314, 1], [0.8660254037844396, 1], [1.5362291495737221, 1], [2.6570660511172854, 1], [1.5427248620541518, 1], [1.4247806848775009, 1], [1.4177446878757827, 1], [0.964365076099296, 1], [2.7147743920996463, 1], [1.486606874731851, 1], [1.6155494421403511, 2], [1.2529964086141672, 2], [1.1874342087037917, 2], [0.9899494936611664, 2], [1.212435565298214, 2], [1.9364916731037076, 2], [2.1354156504062622, 2], [1.4999999999999993, 2], [1.1401754250991376, 2], [1.6673332000533063, 2], [0.6782329983125268, 2], [0.8544003745317528, 2], [0.8602325267042625, 2], [1.4352700094407325, 2], [1.4662878298615183, 2], [1.0295630140986995, 2], [0.787400787401181, 2], [2.20454076850486, 2], [2.351595203260969, 2], [1.2767145334803707, 2], [1.1357816691600544, 2], [1.4247806848775015, 2], [2.0542638584174133, 2], [0.7810249675906658, 2], [1.0392304845413263, 2], [1.183215956619923, 2], [0.8246211251235325, 2], [0.8602325267042633, 2], [1.090871211463571, 2], [0.9591663046625434, 2], [1.3928388277184114, 2], [1.9974984355438177, 2], [1.1489125293076055, 2], [0.7000000000000004, 2], [1.1789826122551597, 2], [1.6522711641858299, 2], [1.3228756555322951, 2], [0.8366600265340753, 2], [0.9591663046625444, 2], [0.7810249675906655, 2], [1.1575836902790222, 2], [0.8246211251235317, 2], [1.2529964086141672, 2], [1.2884098726725124, 2], [1.3114877048604001, 2], [0.8831760866327845, 2], [0.9433981132056607, 2], [0.7141428428542852, 2], [1.212435565298214, 2], [1.0677078252031311, 2]]\n",
            "150\n"
          ],
          "name": "stdout"
        }
      ]
    },
    {
      "cell_type": "code",
      "metadata": {
        "id": "Cj5_xns6SGQd",
        "colab": {
          "base_uri": "https://localhost:8080/"
        },
        "outputId": "42d38f2e-5265-4ff5-a5c3-2927150656e1"
      },
      "source": [
        "distance.sort()\r\n",
        "distance"
      ],
      "execution_count": null,
      "outputs": [
        {
          "output_type": "execute_result",
          "data": {
            "text/plain": [
              "[[0.0, 1],\n",
              " [0.26457513110645914, 1],\n",
              " [0.2828427124746193, 1],\n",
              " [0.31622776601683794, 1],\n",
              " [0.346410161513776, 1],\n",
              " [0.5099019513592794, 1],\n",
              " [0.5477225575051662, 1],\n",
              " [0.5830951894845308, 1],\n",
              " [0.6000000000000003, 1],\n",
              " [0.6480740698407862, 1],\n",
              " [0.6708203932499374, 1],\n",
              " [0.6782329983125268, 2],\n",
              " [0.7000000000000004, 2],\n",
              " [0.7141428428542852, 2],\n",
              " [0.7810249675906655, 2],\n",
              " [0.7810249675906658, 2],\n",
              " [0.787400787401181, 2],\n",
              " [0.8246211251235317, 2],\n",
              " [0.8246211251235325, 2],\n",
              " [0.830662386291808, 1],\n",
              " [0.8366600265340753, 2],\n",
              " [0.8485281374238575, 1],\n",
              " [0.8544003745317528, 2],\n",
              " [0.8544003745317538, 1],\n",
              " [0.8602325267042625, 2],\n",
              " [0.8602325267042633, 2],\n",
              " [0.8660254037844396, 1],\n",
              " [0.8831760866327845, 2],\n",
              " [0.9273618495495711, 1],\n",
              " [0.9433981132056607, 2],\n",
              " [0.9591663046625434, 2],\n",
              " [0.9591663046625444, 2],\n",
              " [0.964365076099296, 1],\n",
              " [0.9899494936611664, 2],\n",
              " [1.0049875621120894, 1],\n",
              " [1.0099504938362078, 1],\n",
              " [1.0295630140986995, 2],\n",
              " [1.0344080432788605, 1],\n",
              " [1.0392304845413263, 2],\n",
              " [1.0535653752852738, 1],\n",
              " [1.0677078252031311, 2],\n",
              " [1.090871211463571, 2],\n",
              " [1.1357816691600544, 2],\n",
              " [1.1357816691600553, 1],\n",
              " [1.1401754250991376, 2],\n",
              " [1.1489125293076055, 2],\n",
              " [1.1575836902790222, 2],\n",
              " [1.1789826122551597, 2],\n",
              " [1.183215956619923, 2],\n",
              " [1.1874342087037917, 2],\n",
              " [1.2083045973594573, 1],\n",
              " [1.212435565298214, 2],\n",
              " [1.212435565298214, 2],\n",
              " [1.2247448713915892, 1],\n",
              " [1.2529964086141672, 2],\n",
              " [1.2529964086141672, 2],\n",
              " [1.2569805089976542, 1],\n",
              " [1.2767145334803707, 2],\n",
              " [1.2884098726725124, 2],\n",
              " [1.3114877048604001, 2],\n",
              " [1.315294643796591, 1],\n",
              " [1.3228756555322951, 2],\n",
              " [1.3638181696985865, 1],\n",
              " [1.3928388277184114, 2],\n",
              " [1.4177446878757827, 1],\n",
              " [1.4247806848775009, 1],\n",
              " [1.4247806848775015, 2],\n",
              " [1.4352700094407325, 2],\n",
              " [1.4662878298615183, 2],\n",
              " [1.486606874731851, 1],\n",
              " [1.4999999999999993, 2],\n",
              " [1.5033296378372916, 1],\n",
              " [1.5362291495737221, 1],\n",
              " [1.5427248620541518, 1],\n",
              " [1.5427248620541523, 1],\n",
              " [1.5556349186104046, 1],\n",
              " [1.5684387141358127, 1],\n",
              " [1.5968719422671314, 1],\n",
              " [1.6155494421403511, 2],\n",
              " [1.6370705543744903, 1],\n",
              " [1.6522711641858299, 2],\n",
              " [1.6673332000533063, 2],\n",
              " [1.7804493814764861, 1],\n",
              " [1.7916472867168924, 1],\n",
              " [1.8574175621006714, 1],\n",
              " [1.860107523773828, 1],\n",
              " [1.9364916731037076, 2],\n",
              " [1.954482028569207, 1],\n",
              " [1.9748417658131503, 1],\n",
              " [1.9974984355438177, 2],\n",
              " [2.014944167960989, 1],\n",
              " [2.034698994937581, 1],\n",
              " [2.0542638584174133, 2],\n",
              " [2.1354156504062622, 2],\n",
              " [2.20454076850486, 2],\n",
              " [2.351595203260969, 2],\n",
              " [2.651414716712571, 1],\n",
              " [2.6570660511172854, 1],\n",
              " [2.7018512172212596, 1],\n",
              " [2.7147743920996463, 1],\n",
              " [3.6891733491393435, 0],\n",
              " [3.7336309405188945, 0],\n",
              " [3.7775653535048206, 0],\n",
              " [3.786819245752298, 0],\n",
              " [3.8105117766515306, 0],\n",
              " [3.8871583451153624, 0],\n",
              " [3.897435053981016, 0],\n",
              " [3.9331920878594278, 0],\n",
              " [3.9749213828703587, 0],\n",
              " [3.9824615503479754, 0],\n",
              " [3.9874804074753776, 0],\n",
              " [4.021193852576621, 0],\n",
              " [4.024922359499622, 0],\n",
              " [4.037325847637271, 0],\n",
              " [4.038564101261735, 0],\n",
              " [4.045985664828782, 0],\n",
              " [4.0718546143004675, 0],\n",
              " [4.090232267243512, 0],\n",
              " [4.095119045888655, 0],\n",
              " [4.113392760240627, 0],\n",
              " [4.117037770047781, 0],\n",
              " [4.12189276910499, 0],\n",
              " [4.130375285612677, 0],\n",
              " [4.132795663954366, 0],\n",
              " [4.134005321718878, 0],\n",
              " [4.136423575989288, 0],\n",
              " [4.164132562731403, 0],\n",
              " [4.171330722922843, 0],\n",
              " [4.172529209005013, 0],\n",
              " [4.174925149029621, 0],\n",
              " [4.1856899072912706, 0],\n",
              " [4.1856899072912706, 0],\n",
              " [4.1856899072912706, 0],\n",
              " [4.194043395102154, 0],\n",
              " [4.219004621945798, 0],\n",
              " [4.236744032862973, 0],\n",
              " [4.2555845661906435, 0],\n",
              " [4.262628297189424, 0],\n",
              " [4.305810028322198, 0],\n",
              " [4.316248370981448, 0],\n",
              " [4.358898943540674, 0],\n",
              " [4.366921112179611, 0],\n",
              " [4.386342439892263, 0],\n",
              " [4.415880433163924, 0],\n",
              " [4.497777228809804, 0],\n",
              " [4.560701700396553, 0],\n",
              " [4.572745346069471, 0],\n",
              " [4.572745346069471, 0],\n",
              " [4.737087712930806, 0],\n",
              " [4.813522618623497, 0]]"
            ]
          },
          "metadata": {
            "tags": []
          },
          "execution_count": 114
        }
      ]
    },
    {
      "cell_type": "code",
      "metadata": {
        "id": "fW7NZitdTS4X"
      },
      "source": [
        "nearest_neighbour_k = 7\r\n"
      ],
      "execution_count": null,
      "outputs": []
    },
    {
      "cell_type": "code",
      "metadata": {
        "colab": {
          "base_uri": "https://localhost:8080/"
        },
        "id": "QHJLROT2To2z",
        "outputId": "731bfed1-a960-49f8-cf56-b2ed7a62bb77"
      },
      "source": [
        "identify = [0 for i in range(len(unique_list))]\r\n",
        "for i in range(nearest_neighbour_k):\r\n",
        "    identify[distance[i][1]]+=1\r\n",
        "print(identify)"
      ],
      "execution_count": null,
      "outputs": [
        {
          "output_type": "stream",
          "text": [
            "[0, 7, 0]\n"
          ],
          "name": "stdout"
        }
      ]
    },
    {
      "cell_type": "code",
      "metadata": {
        "colab": {
          "base_uri": "https://localhost:8080/"
        },
        "id": "C8SxvZguT0hW",
        "outputId": "c739fbb9-30b9-4b3c-ba10-e34ee64a0598"
      },
      "source": [
        "unique_list"
      ],
      "execution_count": null,
      "outputs": [
        {
          "output_type": "execute_result",
          "data": {
            "text/plain": [
              "['Iris-setosa', 'Iris-versicolor', 'Iris-virginica']"
            ]
          },
          "metadata": {
            "tags": []
          },
          "execution_count": 117
        }
      ]
    },
    {
      "cell_type": "code",
      "metadata": {
        "colab": {
          "base_uri": "https://localhost:8080/"
        },
        "id": "kPNtSv-eUgX1",
        "outputId": "82ea54f5-22f0-4289-ecb9-20b1432ee860"
      },
      "source": [
        "print(\"Predicted Class is : \",unique_list[identify.index(max(identify))])"
      ],
      "execution_count": null,
      "outputs": [
        {
          "output_type": "stream",
          "text": [
            "Predicted Class is :  Iris-versicolor\n"
          ],
          "name": "stdout"
        }
      ]
    },
    {
      "cell_type": "code",
      "metadata": {
        "id": "JGaapgUaVFYt"
      },
      "source": [
        "#To find the confusion matrix\r\n",
        "#Step1 : Randomize the data (jumbled)\r\n",
        "#take 125  vlaues in training and 25 as testing\r\n",
        "#you make the confusion matrix (between predicted and original classes)\r\n",
        "#find parameters of that confusion matrix"
      ],
      "execution_count": null,
      "outputs": []
    },
    {
      "cell_type": "code",
      "metadata": {
        "id": "2_BfVbijVdMP"
      },
      "source": [
        "#To randomize the data \r\n",
        "random_dataset = dataset.sample(frac=1)"
      ],
      "execution_count": null,
      "outputs": []
    },
    {
      "cell_type": "code",
      "metadata": {
        "colab": {
          "base_uri": "https://localhost:8080/"
        },
        "id": "zFVtT1aZafAr",
        "outputId": "edda04ae-165a-4a48-b348-f716a60bcb3f"
      },
      "source": [
        "#Seperating the Training and the testing Data For the Featues\r\n",
        "train_data_features = random_dataset.values[:125,0:4]\r\n",
        "test_data_features = random_dataset.values[125:,0:4]\r\n",
        "print(train_data_features)\r\n",
        "print(\"\\n\\n\\n\")\r\n",
        "print(test_data_features)"
      ],
      "execution_count": null,
      "outputs": [
        {
          "output_type": "stream",
          "text": [
            "[[6.4 3.2 4.5 1.5]\n",
            " [6.9 3.2 5.7 2.3]\n",
            " [5.5 3.5 1.3 0.2]\n",
            " [7.6 3.0 6.6 2.1]\n",
            " [4.4 3.0 1.3 0.2]\n",
            " [7.7 2.6 6.9 2.3]\n",
            " [7.7 2.8 6.7 2.0]\n",
            " [6.7 3.1 5.6 2.4]\n",
            " [4.4 2.9 1.4 0.2]\n",
            " [6.3 2.5 5.0 1.9]\n",
            " [7.4 2.8 6.1 1.9]\n",
            " [5.1 3.8 1.9 0.4]\n",
            " [6.7 2.5 5.8 1.8]\n",
            " [7.3 2.9 6.3 1.8]\n",
            " [5.1 3.7 1.5 0.4]\n",
            " [4.6 3.1 1.5 0.2]\n",
            " [5.2 4.1 1.5 0.1]\n",
            " [5.4 3.9 1.7 0.4]\n",
            " [6.4 2.8 5.6 2.1]\n",
            " [4.8 3.4 1.6 0.2]\n",
            " [6.0 2.7 5.1 1.6]\n",
            " [5.7 2.6 3.5 1.0]\n",
            " [4.8 3.0 1.4 0.3]\n",
            " [6.1 3.0 4.6 1.4]\n",
            " [4.7 3.2 1.3 0.2]\n",
            " [5.1 3.3 1.7 0.5]\n",
            " [6.7 3.3 5.7 2.1]\n",
            " [5.6 2.5 3.9 1.1]\n",
            " [4.6 3.2 1.4 0.2]\n",
            " [5.2 2.7 3.9 1.4]\n",
            " [5.5 2.6 4.4 1.2]\n",
            " [4.9 3.0 1.4 0.2]\n",
            " [5.7 4.4 1.5 0.4]\n",
            " [6.0 3.0 4.8 1.8]\n",
            " [6.7 3.3 5.7 2.5]\n",
            " [5.6 3.0 4.5 1.5]\n",
            " [5.0 2.0 3.5 1.0]\n",
            " [6.3 2.7 4.9 1.8]\n",
            " [5.6 2.9 3.6 1.3]\n",
            " [7.7 3.8 6.7 2.2]\n",
            " [4.8 3.0 1.4 0.1]\n",
            " [5.9 3.0 5.1 1.8]\n",
            " [5.8 2.7 5.1 1.9]\n",
            " [6.4 2.9 4.3 1.3]\n",
            " [5.5 2.3 4.0 1.3]\n",
            " [6.9 3.1 5.4 2.1]\n",
            " [6.0 2.2 5.0 1.5]\n",
            " [5.7 2.9 4.2 1.3]\n",
            " [4.8 3.4 1.9 0.2]\n",
            " [5.7 3.0 4.2 1.2]\n",
            " [6.3 2.9 5.6 1.8]\n",
            " [5.1 3.8 1.5 0.3]\n",
            " [6.7 3.0 5.0 1.7]\n",
            " [6.5 3.2 5.1 2.0]\n",
            " [5.4 3.0 4.5 1.5]\n",
            " [5.0 3.4 1.6 0.4]\n",
            " [6.2 2.2 4.5 1.5]\n",
            " [5.0 3.0 1.6 0.2]\n",
            " [7.2 3.0 5.8 1.6]\n",
            " [6.0 3.4 4.5 1.6]\n",
            " [4.8 3.1 1.6 0.2]\n",
            " [6.7 3.1 4.7 1.5]\n",
            " [6.5 3.0 5.5 1.8]\n",
            " [6.8 2.8 4.8 1.4]\n",
            " [7.1 3.0 5.9 2.1]\n",
            " [4.3 3.0 1.1 0.1]\n",
            " [5.0 3.5 1.3 0.3]\n",
            " [6.3 3.3 4.7 1.6]\n",
            " [7.0 3.2 4.7 1.4]\n",
            " [6.8 3.2 5.9 2.3]\n",
            " [6.9 3.1 5.1 2.3]\n",
            " [4.9 3.1 1.5 0.1]\n",
            " [6.5 3.0 5.8 2.2]\n",
            " [5.0 3.4 1.5 0.2]\n",
            " [6.3 2.5 4.9 1.5]\n",
            " [6.7 3.1 4.4 1.4]\n",
            " [5.0 3.5 1.6 0.6]\n",
            " [7.2 3.2 6.0 1.8]\n",
            " [4.9 3.1 1.5 0.1]\n",
            " [5.5 2.4 3.7 1.0]\n",
            " [5.0 2.3 3.3 1.0]\n",
            " [6.3 2.8 5.1 1.5]\n",
            " [4.9 2.4 3.3 1.0]\n",
            " [5.8 2.7 4.1 1.0]\n",
            " [4.9 3.1 1.5 0.1]\n",
            " [6.2 2.9 4.3 1.3]\n",
            " [5.8 2.7 3.9 1.2]\n",
            " [5.5 2.5 4.0 1.3]\n",
            " [6.1 2.8 4.7 1.2]\n",
            " [4.7 3.2 1.6 0.2]\n",
            " [5.8 4.0 1.2 0.2]\n",
            " [6.1 3.0 4.9 1.8]\n",
            " [5.8 2.7 5.1 1.9]\n",
            " [6.5 2.8 4.6 1.5]\n",
            " [5.9 3.0 4.2 1.5]\n",
            " [5.1 3.5 1.4 0.2]\n",
            " [5.3 3.7 1.5 0.2]\n",
            " [5.9 3.2 4.8 1.8]\n",
            " [6.3 3.4 5.6 2.4]\n",
            " [5.5 4.2 1.4 0.2]\n",
            " [5.6 3.0 4.1 1.3]\n",
            " [4.5 2.3 1.3 0.3]\n",
            " [6.1 2.9 4.7 1.4]\n",
            " [6.5 3.0 5.2 2.0]\n",
            " [6.1 2.8 4.0 1.3]\n",
            " [5.2 3.5 1.5 0.2]\n",
            " [5.1 3.5 1.4 0.3]\n",
            " [4.9 2.5 4.5 1.7]\n",
            " [5.8 2.8 5.1 2.4]\n",
            " [5.1 3.8 1.6 0.2]\n",
            " [5.7 2.5 5.0 2.0]\n",
            " [5.1 3.4 1.5 0.2]\n",
            " [6.4 3.2 5.3 2.3]\n",
            " [5.1 2.5 3.0 1.1]\n",
            " [5.4 3.4 1.5 0.4]\n",
            " [6.9 3.1 4.9 1.5]\n",
            " [4.6 3.4 1.4 0.3]\n",
            " [7.2 3.6 6.1 2.5]\n",
            " [5.4 3.4 1.7 0.2]\n",
            " [5.7 2.8 4.5 1.3]\n",
            " [5.0 3.2 1.2 0.2]\n",
            " [5.4 3.7 1.5 0.2]\n",
            " [5.6 2.7 4.2 1.3]\n",
            " [5.2 3.4 1.4 0.2]\n",
            " [5.8 2.6 4.0 1.2]]\n",
            "\n",
            "\n",
            "\n",
            "\n",
            "[[4.4 3.2 1.3 0.2]\n",
            " [6.2 3.4 5.4 2.3]\n",
            " [7.7 3.0 6.1 2.3]\n",
            " [7.9 3.8 6.4 2.0]\n",
            " [5.7 2.8 4.1 1.3]\n",
            " [6.2 2.8 4.8 1.8]\n",
            " [5.7 3.8 1.7 0.3]\n",
            " [5.0 3.6 1.4 0.2]\n",
            " [6.6 2.9 4.6 1.3]\n",
            " [6.1 2.6 5.6 1.4]\n",
            " [6.7 3.0 5.2 2.3]\n",
            " [6.6 3.0 4.4 1.4]\n",
            " [5.4 3.9 1.3 0.4]\n",
            " [6.3 2.3 4.4 1.3]\n",
            " [6.8 3.0 5.5 2.1]\n",
            " [6.0 2.9 4.5 1.5]\n",
            " [6.3 3.3 6.0 2.5]\n",
            " [5.6 2.8 4.9 2.0]\n",
            " [6.4 2.7 5.3 1.9]\n",
            " [6.4 3.1 5.5 1.8]\n",
            " [6.4 2.8 5.6 2.2]\n",
            " [5.0 3.3 1.4 0.2]\n",
            " [4.6 3.6 1.0 0.2]\n",
            " [5.5 2.4 3.8 1.1]\n",
            " [6.0 2.2 4.0 1.0]]\n"
          ],
          "name": "stdout"
        }
      ]
    },
    {
      "cell_type": "code",
      "metadata": {
        "colab": {
          "base_uri": "https://localhost:8080/"
        },
        "id": "pdBJW6DobFDd",
        "outputId": "62c16421-d425-438f-e062-aee2febcd454"
      },
      "source": [
        "train_data_output = random_dataset.values[:125,-1]\r\n",
        "test_data_output = random_dataset.values[125:,-1]\r\n",
        "\r\n",
        "print(train_data_output)\r\n",
        "print(\"\\n\\n\\n\")\r\n",
        "print(test_data_output)"
      ],
      "execution_count": null,
      "outputs": [
        {
          "output_type": "stream",
          "text": [
            "['Iris-versicolor' 'Iris-virginica' 'Iris-setosa' 'Iris-virginica'\n",
            " 'Iris-setosa' 'Iris-virginica' 'Iris-virginica' 'Iris-virginica'\n",
            " 'Iris-setosa' 'Iris-virginica' 'Iris-virginica' 'Iris-setosa'\n",
            " 'Iris-virginica' 'Iris-virginica' 'Iris-setosa' 'Iris-setosa'\n",
            " 'Iris-setosa' 'Iris-setosa' 'Iris-virginica' 'Iris-setosa'\n",
            " 'Iris-versicolor' 'Iris-versicolor' 'Iris-setosa' 'Iris-versicolor'\n",
            " 'Iris-setosa' 'Iris-setosa' 'Iris-virginica' 'Iris-versicolor'\n",
            " 'Iris-setosa' 'Iris-versicolor' 'Iris-versicolor' 'Iris-setosa'\n",
            " 'Iris-setosa' 'Iris-virginica' 'Iris-virginica' 'Iris-versicolor'\n",
            " 'Iris-versicolor' 'Iris-virginica' 'Iris-versicolor' 'Iris-virginica'\n",
            " 'Iris-setosa' 'Iris-virginica' 'Iris-virginica' 'Iris-versicolor'\n",
            " 'Iris-versicolor' 'Iris-virginica' 'Iris-virginica' 'Iris-versicolor'\n",
            " 'Iris-setosa' 'Iris-versicolor' 'Iris-virginica' 'Iris-setosa'\n",
            " 'Iris-versicolor' 'Iris-virginica' 'Iris-versicolor' 'Iris-setosa'\n",
            " 'Iris-versicolor' 'Iris-setosa' 'Iris-virginica' 'Iris-versicolor'\n",
            " 'Iris-setosa' 'Iris-versicolor' 'Iris-virginica' 'Iris-versicolor'\n",
            " 'Iris-virginica' 'Iris-setosa' 'Iris-setosa' 'Iris-versicolor'\n",
            " 'Iris-versicolor' 'Iris-virginica' 'Iris-virginica' 'Iris-setosa'\n",
            " 'Iris-virginica' 'Iris-setosa' 'Iris-versicolor' 'Iris-versicolor'\n",
            " 'Iris-setosa' 'Iris-virginica' 'Iris-setosa' 'Iris-versicolor'\n",
            " 'Iris-versicolor' 'Iris-virginica' 'Iris-versicolor' 'Iris-versicolor'\n",
            " 'Iris-setosa' 'Iris-versicolor' 'Iris-versicolor' 'Iris-versicolor'\n",
            " 'Iris-versicolor' 'Iris-setosa' 'Iris-setosa' 'Iris-virginica'\n",
            " 'Iris-virginica' 'Iris-versicolor' 'Iris-versicolor' 'Iris-setosa'\n",
            " 'Iris-setosa' 'Iris-versicolor' 'Iris-virginica' 'Iris-setosa'\n",
            " 'Iris-versicolor' 'Iris-setosa' 'Iris-versicolor' 'Iris-virginica'\n",
            " 'Iris-versicolor' 'Iris-setosa' 'Iris-setosa' 'Iris-virginica'\n",
            " 'Iris-virginica' 'Iris-setosa' 'Iris-virginica' 'Iris-setosa'\n",
            " 'Iris-virginica' 'Iris-versicolor' 'Iris-setosa' 'Iris-versicolor'\n",
            " 'Iris-setosa' 'Iris-virginica' 'Iris-setosa' 'Iris-versicolor'\n",
            " 'Iris-setosa' 'Iris-setosa' 'Iris-versicolor' 'Iris-setosa'\n",
            " 'Iris-versicolor']\n",
            "\n",
            "\n",
            "\n",
            "\n",
            "['Iris-setosa' 'Iris-virginica' 'Iris-virginica' 'Iris-virginica'\n",
            " 'Iris-versicolor' 'Iris-virginica' 'Iris-setosa' 'Iris-setosa'\n",
            " 'Iris-versicolor' 'Iris-virginica' 'Iris-virginica' 'Iris-versicolor'\n",
            " 'Iris-setosa' 'Iris-versicolor' 'Iris-virginica' 'Iris-versicolor'\n",
            " 'Iris-virginica' 'Iris-virginica' 'Iris-virginica' 'Iris-virginica'\n",
            " 'Iris-virginica' 'Iris-setosa' 'Iris-setosa' 'Iris-versicolor'\n",
            " 'Iris-versicolor']\n"
          ],
          "name": "stdout"
        }
      ]
    },
    {
      "cell_type": "code",
      "metadata": {
        "colab": {
          "base_uri": "https://localhost:8080/"
        },
        "id": "tc5OKOlFbQfW",
        "outputId": "0ebfd061-d3f5-4364-9239-8ee398b9a9cf"
      },
      "source": [
        "\r\n",
        "#To find the unique classes from the dataser For the Training Data\r\n",
        "unique_list_training = []\r\n",
        "for x in train_data_output:\r\n",
        "    if x not in unique_list_training:\r\n",
        "        unique_list_training.append(x)\r\n",
        "print(unique_list)\r\n",
        "\r\n",
        "#to replcae the class with  numerical value\r\n",
        "for i in range(len(train_data_output)):\r\n",
        "    for k in range(len(unique_list_training)):\r\n",
        "        if(train_data_output[i]==unique_list_training[k]):\r\n",
        "            train_data_output[i]=k\r\n",
        "            break\r\n",
        "print(train_data_output)\r\n"
      ],
      "execution_count": null,
      "outputs": [
        {
          "output_type": "stream",
          "text": [
            "['Iris-setosa', 'Iris-versicolor', 'Iris-virginica']\n",
            "[0 1 2 1 2 1 1 1 2 1 1 2 1 1 2 2 2 2 1 2 0 0 2 0 2 2 1 0 2 0 0 2 2 1 1 0 0\n",
            " 1 0 1 2 1 1 0 0 1 1 0 2 0 1 2 0 1 0 2 0 2 1 0 2 0 1 0 1 2 2 0 0 1 1 2 1 2\n",
            " 0 0 2 1 2 0 0 1 0 0 2 0 0 0 0 2 2 1 1 0 0 2 2 0 1 2 0 2 0 1 0 2 2 1 1 2 1\n",
            " 2 1 0 2 0 2 1 2 0 2 2 0 2 0]\n"
          ],
          "name": "stdout"
        }
      ]
    },
    {
      "cell_type": "code",
      "metadata": {
        "colab": {
          "base_uri": "https://localhost:8080/"
        },
        "id": "4AIhzsWIePsK",
        "outputId": "442c49ce-2ee4-4a57-ad64-a5378ca9fc77"
      },
      "source": [
        "#To find the unique classes from the dataser For the Testing Data\r\n",
        "unique_list_testing = []\r\n",
        "for x in test_data_output:\r\n",
        "    if x not in unique_list_testing:\r\n",
        "        unique_list_testing.append(x)\r\n",
        "print(unique_list_testing)\r\n",
        "\r\n",
        "#to replcae the class with  numerical value\r\n",
        "for i in range(len(test_data_output)):\r\n",
        "    for k in range(len(unique_list_testing)):\r\n",
        "        if(test_data_output[i]==unique_list_testing[k]):\r\n",
        "            test_data_output[i]=k\r\n",
        "            break\r\n",
        "print(test_data_output)\r\n"
      ],
      "execution_count": null,
      "outputs": [
        {
          "output_type": "stream",
          "text": [
            "['Iris-setosa', 'Iris-virginica', 'Iris-versicolor']\n",
            "[0 1 1 1 2 1 0 0 2 1 1 2 0 2 1 2 1 1 1 1 1 0 0 2 2]\n"
          ],
          "name": "stdout"
        }
      ]
    },
    {
      "cell_type": "code",
      "metadata": {
        "id": "3dUiro67eJDP"
      },
      "source": [
        "print(metrics.confusion_matrix)"
      ],
      "execution_count": null,
      "outputs": []
    }
  ]
}