{
  "nbformat": 4,
  "nbformat_minor": 0,
  "metadata": {
    "colab": {
      "name": "KNN_individual_dataset_heart.ipynb",
      "provenance": [],
      "collapsed_sections": []
    },
    "kernelspec": {
      "name": "python3",
      "display_name": "Python 3"
    }
  },
  "cells": [
    {
      "cell_type": "code",
      "metadata": {
        "id": "pVOuMolsJmgn"
      },
      "source": [
        "import numpy as np  #does mathematical operation\r\n",
        "import matplotlib.pyplot as plt #For plotting the graphs\r\n",
        "import pandas as pd #making the data frames and import the csv files"
      ],
      "execution_count": 1,
      "outputs": []
    },
    {
      "cell_type": "code",
      "metadata": {
        "id": "b5_yKc1rJ9g7"
      },
      "source": [
        "from google.colab import drive #to import the google drive data"
      ],
      "execution_count": 2,
      "outputs": []
    },
    {
      "cell_type": "code",
      "metadata": {
        "colab": {
          "base_uri": "https://localhost:8080/"
        },
        "id": "l41zwEamJ-4w",
        "outputId": "e9d8cf2e-3bfc-449d-f089-e636a79c2212"
      },
      "source": [
        "drive.mount('/content/drive')   # to mount the drive data into the colab cloud and enter the activation code"
      ],
      "execution_count": 3,
      "outputs": [
        {
          "output_type": "stream",
          "text": [
            "Mounted at /content/drive\n"
          ],
          "name": "stdout"
        }
      ]
    },
    {
      "cell_type": "code",
      "metadata": {
        "colab": {
          "base_uri": "https://localhost:8080/"
        },
        "id": "m65EfaTHKATH",
        "outputId": "faac8309-fdad-4e5d-8a59-308f8af4cc84"
      },
      "source": [
        "cd /content/drive/\"My Drive/Colab Notebooks/KNN_Individual_Dataset\" "
      ],
      "execution_count": 4,
      "outputs": [
        {
          "output_type": "stream",
          "text": [
            "/content/drive/My Drive/Colab Notebooks/KNN_Individual_Dataset\n"
          ],
          "name": "stdout"
        }
      ]
    },
    {
      "cell_type": "code",
      "metadata": {
        "id": "ASa8uW3vKRFk"
      },
      "source": [
        "dataset = pd.read_csv('heart.csv')      #To read the CSV File       "
      ],
      "execution_count": 5,
      "outputs": []
    },
    {
      "cell_type": "code",
      "metadata": {
        "colab": {
          "base_uri": "https://localhost:8080/",
          "height": 195
        },
        "id": "h61dm_yJKSqC",
        "outputId": "f8a2b973-608d-4473-9ce0-e50840d7fc66"
      },
      "source": [
        "dataset.head()      #to Print the first 5 Values of the Dataset"
      ],
      "execution_count": 6,
      "outputs": [
        {
          "output_type": "execute_result",
          "data": {
            "text/html": [
              "<div>\n",
              "<style scoped>\n",
              "    .dataframe tbody tr th:only-of-type {\n",
              "        vertical-align: middle;\n",
              "    }\n",
              "\n",
              "    .dataframe tbody tr th {\n",
              "        vertical-align: top;\n",
              "    }\n",
              "\n",
              "    .dataframe thead th {\n",
              "        text-align: right;\n",
              "    }\n",
              "</style>\n",
              "<table border=\"1\" class=\"dataframe\">\n",
              "  <thead>\n",
              "    <tr style=\"text-align: right;\">\n",
              "      <th></th>\n",
              "      <th>age</th>\n",
              "      <th>sex</th>\n",
              "      <th>cp</th>\n",
              "      <th>trestbps</th>\n",
              "      <th>chol</th>\n",
              "      <th>fbs</th>\n",
              "      <th>restecg</th>\n",
              "      <th>thalach</th>\n",
              "      <th>exang</th>\n",
              "      <th>oldpeak</th>\n",
              "      <th>slope</th>\n",
              "      <th>ca</th>\n",
              "      <th>thal</th>\n",
              "      <th>target</th>\n",
              "    </tr>\n",
              "  </thead>\n",
              "  <tbody>\n",
              "    <tr>\n",
              "      <th>0</th>\n",
              "      <td>63</td>\n",
              "      <td>1</td>\n",
              "      <td>3</td>\n",
              "      <td>145</td>\n",
              "      <td>233</td>\n",
              "      <td>1</td>\n",
              "      <td>0</td>\n",
              "      <td>150</td>\n",
              "      <td>0</td>\n",
              "      <td>2.3</td>\n",
              "      <td>0</td>\n",
              "      <td>0</td>\n",
              "      <td>1</td>\n",
              "      <td>1</td>\n",
              "    </tr>\n",
              "    <tr>\n",
              "      <th>1</th>\n",
              "      <td>37</td>\n",
              "      <td>1</td>\n",
              "      <td>2</td>\n",
              "      <td>130</td>\n",
              "      <td>250</td>\n",
              "      <td>0</td>\n",
              "      <td>1</td>\n",
              "      <td>187</td>\n",
              "      <td>0</td>\n",
              "      <td>3.5</td>\n",
              "      <td>0</td>\n",
              "      <td>0</td>\n",
              "      <td>2</td>\n",
              "      <td>1</td>\n",
              "    </tr>\n",
              "    <tr>\n",
              "      <th>2</th>\n",
              "      <td>41</td>\n",
              "      <td>0</td>\n",
              "      <td>1</td>\n",
              "      <td>130</td>\n",
              "      <td>204</td>\n",
              "      <td>0</td>\n",
              "      <td>0</td>\n",
              "      <td>172</td>\n",
              "      <td>0</td>\n",
              "      <td>1.4</td>\n",
              "      <td>2</td>\n",
              "      <td>0</td>\n",
              "      <td>2</td>\n",
              "      <td>1</td>\n",
              "    </tr>\n",
              "    <tr>\n",
              "      <th>3</th>\n",
              "      <td>56</td>\n",
              "      <td>1</td>\n",
              "      <td>1</td>\n",
              "      <td>120</td>\n",
              "      <td>236</td>\n",
              "      <td>0</td>\n",
              "      <td>1</td>\n",
              "      <td>178</td>\n",
              "      <td>0</td>\n",
              "      <td>0.8</td>\n",
              "      <td>2</td>\n",
              "      <td>0</td>\n",
              "      <td>2</td>\n",
              "      <td>1</td>\n",
              "    </tr>\n",
              "    <tr>\n",
              "      <th>4</th>\n",
              "      <td>57</td>\n",
              "      <td>0</td>\n",
              "      <td>0</td>\n",
              "      <td>120</td>\n",
              "      <td>354</td>\n",
              "      <td>0</td>\n",
              "      <td>1</td>\n",
              "      <td>163</td>\n",
              "      <td>1</td>\n",
              "      <td>0.6</td>\n",
              "      <td>2</td>\n",
              "      <td>0</td>\n",
              "      <td>2</td>\n",
              "      <td>1</td>\n",
              "    </tr>\n",
              "  </tbody>\n",
              "</table>\n",
              "</div>"
            ],
            "text/plain": [
              "   age  sex  cp  trestbps  chol  fbs  ...  exang  oldpeak  slope  ca  thal  target\n",
              "0   63    1   3       145   233    1  ...      0      2.3      0   0     1       1\n",
              "1   37    1   2       130   250    0  ...      0      3.5      0   0     2       1\n",
              "2   41    0   1       130   204    0  ...      0      1.4      2   0     2       1\n",
              "3   56    1   1       120   236    0  ...      0      0.8      2   0     2       1\n",
              "4   57    0   0       120   354    0  ...      1      0.6      2   0     2       1\n",
              "\n",
              "[5 rows x 14 columns]"
            ]
          },
          "metadata": {
            "tags": []
          },
          "execution_count": 6
        }
      ]
    },
    {
      "cell_type": "code",
      "metadata": {
        "colab": {
          "base_uri": "https://localhost:8080/",
          "height": 284
        },
        "id": "mt_1F2sDKUKf",
        "outputId": "90d0e644-fbd0-40cb-e63b-da42a44e58ea"
      },
      "source": [
        "dataset.describe()      #Would result into the Statistical Analysis of all the data"
      ],
      "execution_count": 7,
      "outputs": [
        {
          "output_type": "execute_result",
          "data": {
            "text/html": [
              "<div>\n",
              "<style scoped>\n",
              "    .dataframe tbody tr th:only-of-type {\n",
              "        vertical-align: middle;\n",
              "    }\n",
              "\n",
              "    .dataframe tbody tr th {\n",
              "        vertical-align: top;\n",
              "    }\n",
              "\n",
              "    .dataframe thead th {\n",
              "        text-align: right;\n",
              "    }\n",
              "</style>\n",
              "<table border=\"1\" class=\"dataframe\">\n",
              "  <thead>\n",
              "    <tr style=\"text-align: right;\">\n",
              "      <th></th>\n",
              "      <th>age</th>\n",
              "      <th>sex</th>\n",
              "      <th>cp</th>\n",
              "      <th>trestbps</th>\n",
              "      <th>chol</th>\n",
              "      <th>fbs</th>\n",
              "      <th>restecg</th>\n",
              "      <th>thalach</th>\n",
              "      <th>exang</th>\n",
              "      <th>oldpeak</th>\n",
              "      <th>slope</th>\n",
              "      <th>ca</th>\n",
              "      <th>thal</th>\n",
              "      <th>target</th>\n",
              "    </tr>\n",
              "  </thead>\n",
              "  <tbody>\n",
              "    <tr>\n",
              "      <th>count</th>\n",
              "      <td>303.000000</td>\n",
              "      <td>303.000000</td>\n",
              "      <td>303.000000</td>\n",
              "      <td>303.000000</td>\n",
              "      <td>303.000000</td>\n",
              "      <td>303.000000</td>\n",
              "      <td>303.000000</td>\n",
              "      <td>303.000000</td>\n",
              "      <td>303.000000</td>\n",
              "      <td>303.000000</td>\n",
              "      <td>303.000000</td>\n",
              "      <td>303.000000</td>\n",
              "      <td>303.000000</td>\n",
              "      <td>303.000000</td>\n",
              "    </tr>\n",
              "    <tr>\n",
              "      <th>mean</th>\n",
              "      <td>54.366337</td>\n",
              "      <td>0.683168</td>\n",
              "      <td>0.966997</td>\n",
              "      <td>131.623762</td>\n",
              "      <td>246.264026</td>\n",
              "      <td>0.148515</td>\n",
              "      <td>0.528053</td>\n",
              "      <td>149.646865</td>\n",
              "      <td>0.326733</td>\n",
              "      <td>1.039604</td>\n",
              "      <td>1.399340</td>\n",
              "      <td>0.729373</td>\n",
              "      <td>2.313531</td>\n",
              "      <td>0.544554</td>\n",
              "    </tr>\n",
              "    <tr>\n",
              "      <th>std</th>\n",
              "      <td>9.082101</td>\n",
              "      <td>0.466011</td>\n",
              "      <td>1.032052</td>\n",
              "      <td>17.538143</td>\n",
              "      <td>51.830751</td>\n",
              "      <td>0.356198</td>\n",
              "      <td>0.525860</td>\n",
              "      <td>22.905161</td>\n",
              "      <td>0.469794</td>\n",
              "      <td>1.161075</td>\n",
              "      <td>0.616226</td>\n",
              "      <td>1.022606</td>\n",
              "      <td>0.612277</td>\n",
              "      <td>0.498835</td>\n",
              "    </tr>\n",
              "    <tr>\n",
              "      <th>min</th>\n",
              "      <td>29.000000</td>\n",
              "      <td>0.000000</td>\n",
              "      <td>0.000000</td>\n",
              "      <td>94.000000</td>\n",
              "      <td>126.000000</td>\n",
              "      <td>0.000000</td>\n",
              "      <td>0.000000</td>\n",
              "      <td>71.000000</td>\n",
              "      <td>0.000000</td>\n",
              "      <td>0.000000</td>\n",
              "      <td>0.000000</td>\n",
              "      <td>0.000000</td>\n",
              "      <td>0.000000</td>\n",
              "      <td>0.000000</td>\n",
              "    </tr>\n",
              "    <tr>\n",
              "      <th>25%</th>\n",
              "      <td>47.500000</td>\n",
              "      <td>0.000000</td>\n",
              "      <td>0.000000</td>\n",
              "      <td>120.000000</td>\n",
              "      <td>211.000000</td>\n",
              "      <td>0.000000</td>\n",
              "      <td>0.000000</td>\n",
              "      <td>133.500000</td>\n",
              "      <td>0.000000</td>\n",
              "      <td>0.000000</td>\n",
              "      <td>1.000000</td>\n",
              "      <td>0.000000</td>\n",
              "      <td>2.000000</td>\n",
              "      <td>0.000000</td>\n",
              "    </tr>\n",
              "    <tr>\n",
              "      <th>50%</th>\n",
              "      <td>55.000000</td>\n",
              "      <td>1.000000</td>\n",
              "      <td>1.000000</td>\n",
              "      <td>130.000000</td>\n",
              "      <td>240.000000</td>\n",
              "      <td>0.000000</td>\n",
              "      <td>1.000000</td>\n",
              "      <td>153.000000</td>\n",
              "      <td>0.000000</td>\n",
              "      <td>0.800000</td>\n",
              "      <td>1.000000</td>\n",
              "      <td>0.000000</td>\n",
              "      <td>2.000000</td>\n",
              "      <td>1.000000</td>\n",
              "    </tr>\n",
              "    <tr>\n",
              "      <th>75%</th>\n",
              "      <td>61.000000</td>\n",
              "      <td>1.000000</td>\n",
              "      <td>2.000000</td>\n",
              "      <td>140.000000</td>\n",
              "      <td>274.500000</td>\n",
              "      <td>0.000000</td>\n",
              "      <td>1.000000</td>\n",
              "      <td>166.000000</td>\n",
              "      <td>1.000000</td>\n",
              "      <td>1.600000</td>\n",
              "      <td>2.000000</td>\n",
              "      <td>1.000000</td>\n",
              "      <td>3.000000</td>\n",
              "      <td>1.000000</td>\n",
              "    </tr>\n",
              "    <tr>\n",
              "      <th>max</th>\n",
              "      <td>77.000000</td>\n",
              "      <td>1.000000</td>\n",
              "      <td>3.000000</td>\n",
              "      <td>200.000000</td>\n",
              "      <td>564.000000</td>\n",
              "      <td>1.000000</td>\n",
              "      <td>2.000000</td>\n",
              "      <td>202.000000</td>\n",
              "      <td>1.000000</td>\n",
              "      <td>6.200000</td>\n",
              "      <td>2.000000</td>\n",
              "      <td>4.000000</td>\n",
              "      <td>3.000000</td>\n",
              "      <td>1.000000</td>\n",
              "    </tr>\n",
              "  </tbody>\n",
              "</table>\n",
              "</div>"
            ],
            "text/plain": [
              "              age         sex          cp  ...          ca        thal      target\n",
              "count  303.000000  303.000000  303.000000  ...  303.000000  303.000000  303.000000\n",
              "mean    54.366337    0.683168    0.966997  ...    0.729373    2.313531    0.544554\n",
              "std      9.082101    0.466011    1.032052  ...    1.022606    0.612277    0.498835\n",
              "min     29.000000    0.000000    0.000000  ...    0.000000    0.000000    0.000000\n",
              "25%     47.500000    0.000000    0.000000  ...    0.000000    2.000000    0.000000\n",
              "50%     55.000000    1.000000    1.000000  ...    0.000000    2.000000    1.000000\n",
              "75%     61.000000    1.000000    2.000000  ...    1.000000    3.000000    1.000000\n",
              "max     77.000000    1.000000    3.000000  ...    4.000000    3.000000    1.000000\n",
              "\n",
              "[8 rows x 14 columns]"
            ]
          },
          "metadata": {
            "tags": []
          },
          "execution_count": 7
        }
      ]
    },
    {
      "cell_type": "code",
      "metadata": {
        "colab": {
          "base_uri": "https://localhost:8080/"
        },
        "id": "S78B-127KWBq",
        "outputId": "771831f2-e6d0-49d2-e1d6-b2eb440bf9e8"
      },
      "source": [
        "dataset.shape   #Our dataset has 303 datapoints for 13 input feature and 1 output/target variable."
      ],
      "execution_count": 8,
      "outputs": [
        {
          "output_type": "execute_result",
          "data": {
            "text/plain": [
              "(303, 14)"
            ]
          },
          "metadata": {
            "tags": []
          },
          "execution_count": 8
        }
      ]
    },
    {
      "cell_type": "code",
      "metadata": {
        "id": "ImV3KbWKKY44"
      },
      "source": [
        "X_input_features = dataset.iloc[:,:12]      #Seperating the independent input features from the dataset"
      ],
      "execution_count": 9,
      "outputs": []
    },
    {
      "cell_type": "code",
      "metadata": {
        "colab": {
          "base_uri": "https://localhost:8080/",
          "height": 402
        },
        "id": "iylk5XbcKhxt",
        "outputId": "d7566080-6ef3-4728-a20a-3aa8d5e42eb4"
      },
      "source": [
        "X_input_features        #printing the result"
      ],
      "execution_count": 10,
      "outputs": [
        {
          "output_type": "execute_result",
          "data": {
            "text/html": [
              "<div>\n",
              "<style scoped>\n",
              "    .dataframe tbody tr th:only-of-type {\n",
              "        vertical-align: middle;\n",
              "    }\n",
              "\n",
              "    .dataframe tbody tr th {\n",
              "        vertical-align: top;\n",
              "    }\n",
              "\n",
              "    .dataframe thead th {\n",
              "        text-align: right;\n",
              "    }\n",
              "</style>\n",
              "<table border=\"1\" class=\"dataframe\">\n",
              "  <thead>\n",
              "    <tr style=\"text-align: right;\">\n",
              "      <th></th>\n",
              "      <th>age</th>\n",
              "      <th>sex</th>\n",
              "      <th>cp</th>\n",
              "      <th>trestbps</th>\n",
              "      <th>chol</th>\n",
              "      <th>fbs</th>\n",
              "      <th>restecg</th>\n",
              "      <th>thalach</th>\n",
              "      <th>exang</th>\n",
              "      <th>oldpeak</th>\n",
              "      <th>slope</th>\n",
              "      <th>ca</th>\n",
              "    </tr>\n",
              "  </thead>\n",
              "  <tbody>\n",
              "    <tr>\n",
              "      <th>0</th>\n",
              "      <td>63</td>\n",
              "      <td>1</td>\n",
              "      <td>3</td>\n",
              "      <td>145</td>\n",
              "      <td>233</td>\n",
              "      <td>1</td>\n",
              "      <td>0</td>\n",
              "      <td>150</td>\n",
              "      <td>0</td>\n",
              "      <td>2.3</td>\n",
              "      <td>0</td>\n",
              "      <td>0</td>\n",
              "    </tr>\n",
              "    <tr>\n",
              "      <th>1</th>\n",
              "      <td>37</td>\n",
              "      <td>1</td>\n",
              "      <td>2</td>\n",
              "      <td>130</td>\n",
              "      <td>250</td>\n",
              "      <td>0</td>\n",
              "      <td>1</td>\n",
              "      <td>187</td>\n",
              "      <td>0</td>\n",
              "      <td>3.5</td>\n",
              "      <td>0</td>\n",
              "      <td>0</td>\n",
              "    </tr>\n",
              "    <tr>\n",
              "      <th>2</th>\n",
              "      <td>41</td>\n",
              "      <td>0</td>\n",
              "      <td>1</td>\n",
              "      <td>130</td>\n",
              "      <td>204</td>\n",
              "      <td>0</td>\n",
              "      <td>0</td>\n",
              "      <td>172</td>\n",
              "      <td>0</td>\n",
              "      <td>1.4</td>\n",
              "      <td>2</td>\n",
              "      <td>0</td>\n",
              "    </tr>\n",
              "    <tr>\n",
              "      <th>3</th>\n",
              "      <td>56</td>\n",
              "      <td>1</td>\n",
              "      <td>1</td>\n",
              "      <td>120</td>\n",
              "      <td>236</td>\n",
              "      <td>0</td>\n",
              "      <td>1</td>\n",
              "      <td>178</td>\n",
              "      <td>0</td>\n",
              "      <td>0.8</td>\n",
              "      <td>2</td>\n",
              "      <td>0</td>\n",
              "    </tr>\n",
              "    <tr>\n",
              "      <th>4</th>\n",
              "      <td>57</td>\n",
              "      <td>0</td>\n",
              "      <td>0</td>\n",
              "      <td>120</td>\n",
              "      <td>354</td>\n",
              "      <td>0</td>\n",
              "      <td>1</td>\n",
              "      <td>163</td>\n",
              "      <td>1</td>\n",
              "      <td>0.6</td>\n",
              "      <td>2</td>\n",
              "      <td>0</td>\n",
              "    </tr>\n",
              "    <tr>\n",
              "      <th>...</th>\n",
              "      <td>...</td>\n",
              "      <td>...</td>\n",
              "      <td>...</td>\n",
              "      <td>...</td>\n",
              "      <td>...</td>\n",
              "      <td>...</td>\n",
              "      <td>...</td>\n",
              "      <td>...</td>\n",
              "      <td>...</td>\n",
              "      <td>...</td>\n",
              "      <td>...</td>\n",
              "      <td>...</td>\n",
              "    </tr>\n",
              "    <tr>\n",
              "      <th>298</th>\n",
              "      <td>57</td>\n",
              "      <td>0</td>\n",
              "      <td>0</td>\n",
              "      <td>140</td>\n",
              "      <td>241</td>\n",
              "      <td>0</td>\n",
              "      <td>1</td>\n",
              "      <td>123</td>\n",
              "      <td>1</td>\n",
              "      <td>0.2</td>\n",
              "      <td>1</td>\n",
              "      <td>0</td>\n",
              "    </tr>\n",
              "    <tr>\n",
              "      <th>299</th>\n",
              "      <td>45</td>\n",
              "      <td>1</td>\n",
              "      <td>3</td>\n",
              "      <td>110</td>\n",
              "      <td>264</td>\n",
              "      <td>0</td>\n",
              "      <td>1</td>\n",
              "      <td>132</td>\n",
              "      <td>0</td>\n",
              "      <td>1.2</td>\n",
              "      <td>1</td>\n",
              "      <td>0</td>\n",
              "    </tr>\n",
              "    <tr>\n",
              "      <th>300</th>\n",
              "      <td>68</td>\n",
              "      <td>1</td>\n",
              "      <td>0</td>\n",
              "      <td>144</td>\n",
              "      <td>193</td>\n",
              "      <td>1</td>\n",
              "      <td>1</td>\n",
              "      <td>141</td>\n",
              "      <td>0</td>\n",
              "      <td>3.4</td>\n",
              "      <td>1</td>\n",
              "      <td>2</td>\n",
              "    </tr>\n",
              "    <tr>\n",
              "      <th>301</th>\n",
              "      <td>57</td>\n",
              "      <td>1</td>\n",
              "      <td>0</td>\n",
              "      <td>130</td>\n",
              "      <td>131</td>\n",
              "      <td>0</td>\n",
              "      <td>1</td>\n",
              "      <td>115</td>\n",
              "      <td>1</td>\n",
              "      <td>1.2</td>\n",
              "      <td>1</td>\n",
              "      <td>1</td>\n",
              "    </tr>\n",
              "    <tr>\n",
              "      <th>302</th>\n",
              "      <td>57</td>\n",
              "      <td>0</td>\n",
              "      <td>1</td>\n",
              "      <td>130</td>\n",
              "      <td>236</td>\n",
              "      <td>0</td>\n",
              "      <td>0</td>\n",
              "      <td>174</td>\n",
              "      <td>0</td>\n",
              "      <td>0.0</td>\n",
              "      <td>1</td>\n",
              "      <td>1</td>\n",
              "    </tr>\n",
              "  </tbody>\n",
              "</table>\n",
              "<p>303 rows × 12 columns</p>\n",
              "</div>"
            ],
            "text/plain": [
              "     age  sex  cp  trestbps  chol  ...  thalach  exang  oldpeak  slope  ca\n",
              "0     63    1   3       145   233  ...      150      0      2.3      0   0\n",
              "1     37    1   2       130   250  ...      187      0      3.5      0   0\n",
              "2     41    0   1       130   204  ...      172      0      1.4      2   0\n",
              "3     56    1   1       120   236  ...      178      0      0.8      2   0\n",
              "4     57    0   0       120   354  ...      163      1      0.6      2   0\n",
              "..   ...  ...  ..       ...   ...  ...      ...    ...      ...    ...  ..\n",
              "298   57    0   0       140   241  ...      123      1      0.2      1   0\n",
              "299   45    1   3       110   264  ...      132      0      1.2      1   0\n",
              "300   68    1   0       144   193  ...      141      0      3.4      1   2\n",
              "301   57    1   0       130   131  ...      115      1      1.2      1   1\n",
              "302   57    0   1       130   236  ...      174      0      0.0      1   1\n",
              "\n",
              "[303 rows x 12 columns]"
            ]
          },
          "metadata": {
            "tags": []
          },
          "execution_count": 10
        }
      ]
    },
    {
      "cell_type": "code",
      "metadata": {
        "id": "Ro2EMUtnKi2y"
      },
      "source": [
        "Y_target_variable = dataset.iloc[:,-1]         #seperating the target or dependent variable Y from the Dataset      "
      ],
      "execution_count": 11,
      "outputs": []
    },
    {
      "cell_type": "code",
      "metadata": {
        "colab": {
          "base_uri": "https://localhost:8080/"
        },
        "id": "-PlfWsKbKkXL",
        "outputId": "9ecdb958-72f3-4554-e650-ec1915aefdd0"
      },
      "source": [
        "Y_target_variable       #printing the result"
      ],
      "execution_count": 12,
      "outputs": [
        {
          "output_type": "execute_result",
          "data": {
            "text/plain": [
              "0      1\n",
              "1      1\n",
              "2      1\n",
              "3      1\n",
              "4      1\n",
              "      ..\n",
              "298    0\n",
              "299    0\n",
              "300    0\n",
              "301    0\n",
              "302    0\n",
              "Name: target, Length: 303, dtype: int64"
            ]
          },
          "metadata": {
            "tags": []
          },
          "execution_count": 12
        }
      ]
    },
    {
      "cell_type": "code",
      "metadata": {
        "id": "pmf3LHWcKlvm"
      },
      "source": [
        "isHeart_risk = dataset.loc[Y_target_variable==1]        #Seperatign the patient who has heart risk"
      ],
      "execution_count": 13,
      "outputs": []
    },
    {
      "cell_type": "code",
      "metadata": {
        "id": "aB6M3SM1KnSL"
      },
      "source": [
        "notHeart_risk = dataset.loc[Y_target_variable==0]       #Seperatign the patient who not have heart risk"
      ],
      "execution_count": 14,
      "outputs": []
    },
    {
      "cell_type": "code",
      "metadata": {
        "id": "uIeqZJF9Kohv"
      },
      "source": [
        "#Plot to show the difference in the classes given in the dataset.\r\n",
        "plt.scatter(isHeart_risk.iloc[:, 0], isHeart_risk.iloc[:, 1], s=10, label='HeartRisk')\r\n",
        "plt.scatter(notHeart_risk.iloc[:, 0], notHeart_risk.iloc[:, 1], s=10, label='Not HeartRisk')\r\n",
        "plt.legend()\r\n",
        "plt.show()\r\n",
        "plt.title('Graph for the people who have heart risk or not based on age and sex')"
      ],
      "execution_count": null,
      "outputs": []
    },
    {
      "cell_type": "code",
      "metadata": {
        "id": "KUMAsLmDKuu_"
      },
      "source": [
        "#import the library for the testing and the training split.\r\n",
        "from sklearn.model_selection import train_test_split"
      ],
      "execution_count": 16,
      "outputs": []
    },
    {
      "cell_type": "code",
      "metadata": {
        "id": "IOwBgyPEKxmD"
      },
      "source": [
        "#convert to the array\r\n",
        "X_input_features = np.array(X_input_features)\r\n",
        "Y_target_variable = np.array(Y_target_variable)"
      ],
      "execution_count": 17,
      "outputs": []
    },
    {
      "cell_type": "code",
      "metadata": {
        "id": "rctBB6etKz0g"
      },
      "source": [
        "X_train,X_test,Y_train,Y_test = train_test_split(X_input_features,Y_target_variable,test_size=0.25,random_state=42)      #First train and test data for featureand then for labels"
      ],
      "execution_count": 18,
      "outputs": []
    },
    {
      "cell_type": "code",
      "metadata": {
        "colab": {
          "base_uri": "https://localhost:8080/"
        },
        "id": "WSij9yX9K14r",
        "outputId": "8d5bdd78-1cb1-45a7-d9be-e2c34baf71c7"
      },
      "source": [
        "#Seeing all 4 seperated values.\r\n",
        "'''\r\n",
        "print(X_train)\r\n",
        "print(X_test)\r\n",
        "print(Y_train)\r\n",
        "print(Y_test)\r\n",
        "'''\r\n",
        "print(X_train.shape)\r\n",
        "print(X_test.shape)\r\n",
        "print(Y_train.shape)\r\n",
        "print(Y_test.shape)"
      ],
      "execution_count": 19,
      "outputs": [
        {
          "output_type": "stream",
          "text": [
            "(227, 12)\n",
            "(76, 12)\n",
            "(227,)\n",
            "(76,)\n"
          ],
          "name": "stdout"
        }
      ]
    },
    {
      "cell_type": "code",
      "metadata": {
        "id": "Eyl73X8zK3d7"
      },
      "source": [
        "#Import the KNN classifire libraray for model evaluation\r\n",
        "from sklearn.neighbors import KNeighborsClassifier"
      ],
      "execution_count": 20,
      "outputs": []
    },
    {
      "cell_type": "code",
      "metadata": {
        "id": "eH_RF8f5LMaz"
      },
      "source": [
        "#Model Evaluation for the neighours = 3\r\n",
        "knn_model_evaluation_K_3 = KNeighborsClassifier(n_neighbors=3)"
      ],
      "execution_count": 29,
      "outputs": []
    },
    {
      "cell_type": "code",
      "metadata": {
        "colab": {
          "base_uri": "https://localhost:8080/"
        },
        "id": "qg4LRPWCLU-9",
        "outputId": "2e8a994b-9506-4cbb-8b5b-4d6db3e44d0a"
      },
      "source": [
        "knn_model_evaluation_K_3.fit(X_train,Y_train)"
      ],
      "execution_count": 23,
      "outputs": [
        {
          "output_type": "execute_result",
          "data": {
            "text/plain": [
              "KNeighborsClassifier(algorithm='auto', leaf_size=30, metric='minkowski',\n",
              "                     metric_params=None, n_jobs=None, n_neighbors=3, p=2,\n",
              "                     weights='uniform')"
            ]
          },
          "metadata": {
            "tags": []
          },
          "execution_count": 23
        }
      ]
    },
    {
      "cell_type": "code",
      "metadata": {
        "id": "hntRXwHTLocI"
      },
      "source": [
        "Y_pred_model_k_3 = knn_model_evaluation_K_3.predict(X_test)"
      ],
      "execution_count": 24,
      "outputs": []
    },
    {
      "cell_type": "code",
      "metadata": {
        "id": "lSegDJG9L75E"
      },
      "source": [
        "#priting the confusion matrix based on the prediction\r\n",
        "#import the confusion matrix library\r\n",
        "from sklearn import metrics"
      ],
      "execution_count": 25,
      "outputs": []
    },
    {
      "cell_type": "code",
      "metadata": {
        "id": "6g5fyIyyL-_J"
      },
      "source": [
        "#making the confusion matrix\r\n",
        "confusion_matrixx = metrics.confusion_matrix(Y_test,Y_pred_model_k_3)"
      ],
      "execution_count": 26,
      "outputs": []
    },
    {
      "cell_type": "code",
      "metadata": {
        "colab": {
          "base_uri": "https://localhost:8080/"
        },
        "id": "XL-xF8pKMDAJ",
        "outputId": "af46dcc8-5f35-474d-bf6c-8ac3e1c67f34"
      },
      "source": [
        "confusion_matrixx       #print the confusion matrix"
      ],
      "execution_count": 27,
      "outputs": [
        {
          "output_type": "execute_result",
          "data": {
            "text/plain": [
              "array([[24, 11],\n",
              "       [14, 27]])"
            ]
          },
          "metadata": {
            "tags": []
          },
          "execution_count": 27
        }
      ]
    },
    {
      "cell_type": "code",
      "metadata": {
        "colab": {
          "base_uri": "https://localhost:8080/"
        },
        "id": "jNqh-47ZMFOn",
        "outputId": "c85a56a7-a960-4331-b9df-10db4cb96f82"
      },
      "source": [
        "#printing the Parameter for the model learining like accuracy , precision and recall\r\n",
        "print(\"Accuracy:\",metrics.accuracy_score(Y_test, Y_pred_model_k_3))\r\n",
        "print(\"Precision:\",metrics.precision_score(Y_test, Y_pred_model_k_3))\r\n",
        "print(\"Recall:\",metrics.recall_score(Y_test, Y_pred_model_k_3))"
      ],
      "execution_count": 28,
      "outputs": [
        {
          "output_type": "stream",
          "text": [
            "Accuracy: 0.6710526315789473\n",
            "Precision: 0.7105263157894737\n",
            "Recall: 0.6585365853658537\n"
          ],
          "name": "stdout"
        }
      ]
    },
    {
      "cell_type": "code",
      "metadata": {
        "colab": {
          "base_uri": "https://localhost:8080/"
        },
        "id": "j_IEOPl6MJk3",
        "outputId": "4856ab37-a657-48cb-fadf-89fcd91b9a05"
      },
      "source": [
        "#For the K value of = 5\r\n",
        "knn_model_evaluation_K_5 = KNeighborsClassifier(n_neighbors=5)\r\n",
        "knn_model_evaluation_K_5.fit(X_train,Y_train)\r\n",
        "Y_pred_model_k_5 = knn_model_evaluation_K_5.predict(X_test)\r\n",
        "confusion_matrixx = metrics.confusion_matrix(Y_test,Y_pred_model_k_5)\r\n",
        "print(confusion_matrixx)       #print the confusion matrix\r\n",
        "#printing the Parameter for the model learining like accuracy , precision and recall\r\n",
        "print(\"Accuracy:\",metrics.accuracy_score(Y_test, Y_pred_model_k_5))\r\n",
        "print(\"Precision:\",metrics.precision_score(Y_test, Y_pred_model_k_5))\r\n",
        "print(\"Recall:\",metrics.recall_score(Y_test, Y_pred_model_k_5))"
      ],
      "execution_count": 31,
      "outputs": [
        {
          "output_type": "stream",
          "text": [
            "[[22 13]\n",
            " [10 31]]\n",
            "Accuracy: 0.6973684210526315\n",
            "Precision: 0.7045454545454546\n",
            "Recall: 0.7560975609756098\n"
          ],
          "name": "stdout"
        }
      ]
    },
    {
      "cell_type": "code",
      "metadata": {
        "colab": {
          "base_uri": "https://localhost:8080/"
        },
        "id": "N4hP88c4MeDi",
        "outputId": "2c124395-217b-4c23-d3d5-32ad9bfe3dae"
      },
      "source": [
        "#For the K value of = 7\r\n",
        "knn_model_evaluation_K_7= KNeighborsClassifier(n_neighbors=7)\r\n",
        "knn_model_evaluation_K_7.fit(X_train,Y_train)\r\n",
        "Y_pred_model_k_7= knn_model_evaluation_K_7.predict(X_test)\r\n",
        "confusion_matrixx = metrics.confusion_matrix(Y_test,Y_pred_model_k_7)\r\n",
        "print(confusion_matrixx)       #print the confusion matrix\r\n",
        "#printing the Parameter for the model learining like accuracy , precision and recall\r\n",
        "print(\"Accuracy:\",metrics.accuracy_score(Y_test, Y_pred_model_k_7))\r\n",
        "print(\"Precision:\",metrics.precision_score(Y_test, Y_pred_model_k_7))\r\n",
        "print(\"Recall:\",metrics.recall_score(Y_test, Y_pred_model_k_7))"
      ],
      "execution_count": 32,
      "outputs": [
        {
          "output_type": "stream",
          "text": [
            "[[22 13]\n",
            " [ 8 33]]\n",
            "Accuracy: 0.7236842105263158\n",
            "Precision: 0.717391304347826\n",
            "Recall: 0.8048780487804879\n"
          ],
          "name": "stdout"
        }
      ]
    },
    {
      "cell_type": "code",
      "metadata": {
        "colab": {
          "base_uri": "https://localhost:8080/"
        },
        "id": "07oDQpUwMu5V",
        "outputId": "f73fdec6-8ee4-4f33-f6af-c39b978dc3c1"
      },
      "source": [
        "#For the K value of = 9\r\n",
        "knn_model_evaluation_K_9= KNeighborsClassifier(n_neighbors=9)\r\n",
        "knn_model_evaluation_K_9.fit(X_train,Y_train)\r\n",
        "Y_pred_model_k_9= knn_model_evaluation_K_9.predict(X_test)\r\n",
        "confusion_matrixx = metrics.confusion_matrix(Y_test,Y_pred_model_k_9)\r\n",
        "print(confusion_matrixx)       #print the confusion matrix\r\n",
        "#printing the Parameter for the model learining like accuracy , precision and recall\r\n",
        "print(\"Accuracy:\",metrics.accuracy_score(Y_test, Y_pred_model_k_9))\r\n",
        "print(\"Precision:\",metrics.precision_score(Y_test, Y_pred_model_k_9))\r\n",
        "print(\"Recall:\",metrics.recall_score(Y_test, Y_pred_model_k_9))"
      ],
      "execution_count": 33,
      "outputs": [
        {
          "output_type": "stream",
          "text": [
            "[[20 15]\n",
            " [ 7 34]]\n",
            "Accuracy: 0.7105263157894737\n",
            "Precision: 0.6938775510204082\n",
            "Recall: 0.8292682926829268\n"
          ],
          "name": "stdout"
        }
      ]
    },
    {
      "cell_type": "code",
      "metadata": {
        "colab": {
          "base_uri": "https://localhost:8080/"
        },
        "id": "W1jpxeD-M6pH",
        "outputId": "35fd8c7a-0c3b-4f91-dbe1-c1ace84714b6"
      },
      "source": [
        "#For the K value of = 11\r\n",
        "knn_model_evaluation_K_11= KNeighborsClassifier(n_neighbors=11)\r\n",
        "knn_model_evaluation_K_11.fit(X_train,Y_train)\r\n",
        "Y_pred_model_k_11= knn_model_evaluation_K_11.predict(X_test)\r\n",
        "confusion_matrixx = metrics.confusion_matrix(Y_test,Y_pred_model_k_11)\r\n",
        "print(confusion_matrixx)       #print the confusion matrix\r\n",
        "#printing the Parameter for the model learining like accuracy , precision and recall\r\n",
        "print(\"Accuracy:\",metrics.accuracy_score(Y_test, Y_pred_model_k_11))\r\n",
        "print(\"Precision:\",metrics.precision_score(Y_test, Y_pred_model_k_11))\r\n",
        "print(\"Recall:\",metrics.recall_score(Y_test, Y_pred_model_k_11))"
      ],
      "execution_count": 34,
      "outputs": [
        {
          "output_type": "stream",
          "text": [
            "[[23 12]\n",
            " [ 7 34]]\n",
            "Accuracy: 0.75\n",
            "Precision: 0.7391304347826086\n",
            "Recall: 0.8292682926829268\n"
          ],
          "name": "stdout"
        }
      ]
    },
    {
      "cell_type": "code",
      "metadata": {
        "colab": {
          "base_uri": "https://localhost:8080/"
        },
        "id": "Cw_pe_YzNJ-1",
        "outputId": "9dc50aac-6bab-4e21-dacd-5994509fbe57"
      },
      "source": [
        "#For the K value of = 13\r\n",
        "knn_model_evaluation_K_13= KNeighborsClassifier(n_neighbors=13)\r\n",
        "knn_model_evaluation_K_13.fit(X_train,Y_train)\r\n",
        "Y_pred_model_k_13= knn_model_evaluation_K_13.predict(X_test)\r\n",
        "confusion_matrixx = metrics.confusion_matrix(Y_test,Y_pred_model_k_13)\r\n",
        "print(confusion_matrixx)       #print the confusion matrix\r\n",
        "#printing the Parameter for the model learining like accuracy , precision and recall\r\n",
        "print(\"Accuracy:\",metrics.accuracy_score(Y_test, Y_pred_model_k_13))\r\n",
        "print(\"Precision:\",metrics.precision_score(Y_test, Y_pred_model_k_13))\r\n",
        "print(\"Recall:\",metrics.recall_score(Y_test, Y_pred_model_k_13))"
      ],
      "execution_count": 35,
      "outputs": [
        {
          "output_type": "stream",
          "text": [
            "[[22 13]\n",
            " [ 9 32]]\n",
            "Accuracy: 0.7105263157894737\n",
            "Precision: 0.7111111111111111\n",
            "Recall: 0.7804878048780488\n"
          ],
          "name": "stdout"
        }
      ]
    },
    {
      "cell_type": "code",
      "metadata": {
        "id": "WrZWe_apNXOm"
      },
      "source": [
        ""
      ],
      "execution_count": null,
      "outputs": []
    }
  ]
}